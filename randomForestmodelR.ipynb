{
 "cells": [
  {
   "cell_type": "code",
   "execution_count": 2,
   "metadata": {},
   "outputs": [],
   "source": [
    "import numpy as np # linear algebra\n",
    "import pandas as pd # data processing,\n",
    "import matplotlib.pyplot as plt\n",
    "import seaborn as sns\n",
    "sns.set(style=\"darkgrid\")\n",
    "import datetime"
   ]
  },
  {
   "cell_type": "code",
   "execution_count": 3,
   "metadata": {},
   "outputs": [],
   "source": [
    "items_cat = pd.read_csv(\"item_categories.csv\")\n",
    "items = pd.read_csv(\"items.csv\")\n",
    "train = pd.read_csv(\"sales_train.csv\")\n",
    "test = pd.read_csv(\"test.csv\")\n",
    "shop = pd.read_csv(\"shops.csv\")\n",
    "#submission = pd.read_csv(\"sample_submission.csv\")"
   ]
  },
  {
   "cell_type": "code",
   "execution_count": 4,
   "metadata": {},
   "outputs": [
    {
     "data": {
      "text/html": [
       "<div>\n",
       "<style scoped>\n",
       "    .dataframe tbody tr th:only-of-type {\n",
       "        vertical-align: middle;\n",
       "    }\n",
       "\n",
       "    .dataframe tbody tr th {\n",
       "        vertical-align: top;\n",
       "    }\n",
       "\n",
       "    .dataframe thead th {\n",
       "        text-align: right;\n",
       "    }\n",
       "</style>\n",
       "<table border=\"1\" class=\"dataframe\">\n",
       "  <thead>\n",
       "    <tr style=\"text-align: right;\">\n",
       "      <th></th>\n",
       "      <th>date</th>\n",
       "      <th>date_block_num</th>\n",
       "      <th>shop_id</th>\n",
       "      <th>item_id</th>\n",
       "      <th>item_price</th>\n",
       "      <th>item_cnt_day</th>\n",
       "    </tr>\n",
       "  </thead>\n",
       "  <tbody>\n",
       "    <tr>\n",
       "      <th>0</th>\n",
       "      <td>02.01.2013</td>\n",
       "      <td>0</td>\n",
       "      <td>59</td>\n",
       "      <td>22154</td>\n",
       "      <td>999.00</td>\n",
       "      <td>1.0</td>\n",
       "    </tr>\n",
       "    <tr>\n",
       "      <th>1</th>\n",
       "      <td>03.01.2013</td>\n",
       "      <td>0</td>\n",
       "      <td>25</td>\n",
       "      <td>2552</td>\n",
       "      <td>899.00</td>\n",
       "      <td>1.0</td>\n",
       "    </tr>\n",
       "    <tr>\n",
       "      <th>2</th>\n",
       "      <td>05.01.2013</td>\n",
       "      <td>0</td>\n",
       "      <td>25</td>\n",
       "      <td>2552</td>\n",
       "      <td>899.00</td>\n",
       "      <td>-1.0</td>\n",
       "    </tr>\n",
       "    <tr>\n",
       "      <th>3</th>\n",
       "      <td>06.01.2013</td>\n",
       "      <td>0</td>\n",
       "      <td>25</td>\n",
       "      <td>2554</td>\n",
       "      <td>1709.05</td>\n",
       "      <td>1.0</td>\n",
       "    </tr>\n",
       "    <tr>\n",
       "      <th>4</th>\n",
       "      <td>15.01.2013</td>\n",
       "      <td>0</td>\n",
       "      <td>25</td>\n",
       "      <td>2555</td>\n",
       "      <td>1099.00</td>\n",
       "      <td>1.0</td>\n",
       "    </tr>\n",
       "  </tbody>\n",
       "</table>\n",
       "</div>"
      ],
      "text/plain": [
       "         date  date_block_num  shop_id  item_id  item_price  item_cnt_day\n",
       "0  02.01.2013               0       59    22154      999.00           1.0\n",
       "1  03.01.2013               0       25     2552      899.00           1.0\n",
       "2  05.01.2013               0       25     2552      899.00          -1.0\n",
       "3  06.01.2013               0       25     2554     1709.05           1.0\n",
       "4  15.01.2013               0       25     2555     1099.00           1.0"
      ]
     },
     "execution_count": 4,
     "metadata": {},
     "output_type": "execute_result"
    }
   ],
   "source": [
    "train.head()"
   ]
  },
  {
   "cell_type": "code",
   "execution_count": 5,
   "metadata": {},
   "outputs": [
    {
     "data": {
      "text/html": [
       "<div>\n",
       "<style scoped>\n",
       "    .dataframe tbody tr th:only-of-type {\n",
       "        vertical-align: middle;\n",
       "    }\n",
       "\n",
       "    .dataframe tbody tr th {\n",
       "        vertical-align: top;\n",
       "    }\n",
       "\n",
       "    .dataframe thead th {\n",
       "        text-align: right;\n",
       "    }\n",
       "</style>\n",
       "<table border=\"1\" class=\"dataframe\">\n",
       "  <thead>\n",
       "    <tr style=\"text-align: right;\">\n",
       "      <th></th>\n",
       "      <th>ID</th>\n",
       "      <th>shop_id</th>\n",
       "      <th>item_id</th>\n",
       "    </tr>\n",
       "  </thead>\n",
       "  <tbody>\n",
       "    <tr>\n",
       "      <th>0</th>\n",
       "      <td>0</td>\n",
       "      <td>5</td>\n",
       "      <td>5037</td>\n",
       "    </tr>\n",
       "    <tr>\n",
       "      <th>1</th>\n",
       "      <td>1</td>\n",
       "      <td>5</td>\n",
       "      <td>5320</td>\n",
       "    </tr>\n",
       "    <tr>\n",
       "      <th>2</th>\n",
       "      <td>2</td>\n",
       "      <td>5</td>\n",
       "      <td>5233</td>\n",
       "    </tr>\n",
       "    <tr>\n",
       "      <th>3</th>\n",
       "      <td>3</td>\n",
       "      <td>5</td>\n",
       "      <td>5232</td>\n",
       "    </tr>\n",
       "    <tr>\n",
       "      <th>4</th>\n",
       "      <td>4</td>\n",
       "      <td>5</td>\n",
       "      <td>5268</td>\n",
       "    </tr>\n",
       "  </tbody>\n",
       "</table>\n",
       "</div>"
      ],
      "text/plain": [
       "   ID  shop_id  item_id\n",
       "0   0        5     5037\n",
       "1   1        5     5320\n",
       "2   2        5     5233\n",
       "3   3        5     5232\n",
       "4   4        5     5268"
      ]
     },
     "execution_count": 5,
     "metadata": {},
     "output_type": "execute_result"
    }
   ],
   "source": [
    "test.head()"
   ]
  },
  {
   "cell_type": "code",
   "execution_count": 6,
   "metadata": {},
   "outputs": [
    {
     "data": {
      "text/plain": [
       "<matplotlib.axes._subplots.AxesSubplot at 0x2cf2699b898>"
      ]
     },
     "execution_count": 6,
     "metadata": {},
     "output_type": "execute_result"
    },
    {
     "data": {
      "image/png": "[encoded data removed]",
      "text/plain": [
       "<Figure size 720x288 with 1 Axes>"
      ]
     },
     "metadata": {
      "needs_background": "light"
     },
     "output_type": "display_data"
    },
    {
     "data": {
      "image/png": "[encoded data removed]",
      "text/plain": [
       "<Figure size 720x288 with 1 Axes>"
      ]
     },
     "metadata": {
      "needs_background": "light"
     },
     "output_type": "display_data"
    }
   ],
   "source": [
    "plt.figure(figsize=(10,4))\n",
    "plt.xlim(-100, 3000)\n",
    "flierprops = dict(marker='o', markerfacecolor='green', markersize=6,\n",
    "                  linestyle='none', markeredgecolor='yellow')\n",
    "sns.boxplot(x=train.item_cnt_day, flierprops=flierprops)\n",
    "\n",
    "plt.figure(figsize=(10,4))\n",
    "plt.xlim(train.item_price.min(), train.item_price.max()*1.1)\n",
    "sns.boxplot(x=train.item_price, flierprops=flierprops)"
   ]
  },
  {
   "cell_type": "code",
   "execution_count": 7,
   "metadata": {},
   "outputs": [],
   "source": [
    "train = train[(train.item_price < 300000 )& (train.item_cnt_day < 1000)]"
   ]
  },
  {
   "cell_type": "code",
   "execution_count": 8,
   "metadata": {},
   "outputs": [],
   "source": [
    "median = train[(train.shop_id==32)&(train.item_id==2973)&(train.date_block_num==4)&(train.item_price>0)].item_price.median()\n",
    "train.loc[train.item_price<0, 'item_price'] = median"
   ]
  },
  {
   "cell_type": "code",
   "execution_count": 9,
   "metadata": {},
   "outputs": [],
   "source": [
    "train.loc[train.item_cnt_day < 1, \"item_cnt_day\"] = 0"
   ]
  },
  {
   "cell_type": "code",
   "execution_count": 10,
   "metadata": {},
   "outputs": [],
   "source": [
    "train = train.rename(columns={'date':'DATE'})\n",
    "train['DATE'] = pd.to_datetime(train['DATE'], format='%d.%m.%Y')\n",
    "train['month'] = train['DATE'].dt.month\n",
    "train['year'] = train['DATE'].dt.year"
   ]
  },
  {
   "cell_type": "code",
   "execution_count": 11,
   "metadata": {},
   "outputs": [],
   "source": [
    "train = train.drop(['DATE'], axis=1)"
   ]
  },
  {
   "cell_type": "code",
   "execution_count": 12,
   "metadata": {},
   "outputs": [
    {
     "data": {
      "text/html": [
       "<div>\n",
       "<style scoped>\n",
       "    .dataframe tbody tr th:only-of-type {\n",
       "        vertical-align: middle;\n",
       "    }\n",
       "\n",
       "    .dataframe tbody tr th {\n",
       "        vertical-align: top;\n",
       "    }\n",
       "\n",
       "    .dataframe thead th {\n",
       "        text-align: right;\n",
       "    }\n",
       "</style>\n",
       "<table border=\"1\" class=\"dataframe\">\n",
       "  <thead>\n",
       "    <tr style=\"text-align: right;\">\n",
       "      <th></th>\n",
       "      <th>item_name</th>\n",
       "      <th>item_id</th>\n",
       "      <th>item_category_id</th>\n",
       "    </tr>\n",
       "  </thead>\n",
       "  <tbody>\n",
       "    <tr>\n",
       "      <th>0</th>\n",
       "      <td>! ВО ВЛАСТИ НАВАЖДЕНИЯ (ПЛАСТ.)         D</td>\n",
       "      <td>0</td>\n",
       "      <td>40</td>\n",
       "    </tr>\n",
       "    <tr>\n",
       "      <th>1</th>\n",
       "      <td>!ABBYY FineReader 12 Professional Edition Full...</td>\n",
       "      <td>1</td>\n",
       "      <td>76</td>\n",
       "    </tr>\n",
       "    <tr>\n",
       "      <th>2</th>\n",
       "      <td>***В ЛУЧАХ СЛАВЫ   (UNV)                    D</td>\n",
       "      <td>2</td>\n",
       "      <td>40</td>\n",
       "    </tr>\n",
       "    <tr>\n",
       "      <th>3</th>\n",
       "      <td>***ГОЛУБАЯ ВОЛНА  (Univ)                      D</td>\n",
       "      <td>3</td>\n",
       "      <td>40</td>\n",
       "    </tr>\n",
       "    <tr>\n",
       "      <th>4</th>\n",
       "      <td>***КОРОБКА (СТЕКЛО)                       D</td>\n",
       "      <td>4</td>\n",
       "      <td>40</td>\n",
       "    </tr>\n",
       "  </tbody>\n",
       "</table>\n",
       "</div>"
      ],
      "text/plain": [
       "                                           item_name  item_id  \\\n",
       "0          ! ВО ВЛАСТИ НАВАЖДЕНИЯ (ПЛАСТ.)         D        0   \n",
       "1  !ABBYY FineReader 12 Professional Edition Full...        1   \n",
       "2      ***В ЛУЧАХ СЛАВЫ   (UNV)                    D        2   \n",
       "3    ***ГОЛУБАЯ ВОЛНА  (Univ)                      D        3   \n",
       "4        ***КОРОБКА (СТЕКЛО)                       D        4   \n",
       "\n",
       "   item_category_id  \n",
       "0                40  \n",
       "1                76  \n",
       "2                40  \n",
       "3                40  \n",
       "4                40  "
      ]
     },
     "execution_count": 12,
     "metadata": {},
     "output_type": "execute_result"
    }
   ],
   "source": [
    "items.head()"
   ]
  },
  {
   "cell_type": "code",
   "execution_count": 13,
   "metadata": {},
   "outputs": [
    {
     "data": {
      "text/html": [
       "<div>\n",
       "<style scoped>\n",
       "    .dataframe tbody tr th:only-of-type {\n",
       "        vertical-align: middle;\n",
       "    }\n",
       "\n",
       "    .dataframe tbody tr th {\n",
       "        vertical-align: top;\n",
       "    }\n",
       "\n",
       "    .dataframe thead th {\n",
       "        text-align: right;\n",
       "    }\n",
       "</style>\n",
       "<table border=\"1\" class=\"dataframe\">\n",
       "  <thead>\n",
       "    <tr style=\"text-align: right;\">\n",
       "      <th></th>\n",
       "      <th>shop_name</th>\n",
       "      <th>shop_id</th>\n",
       "    </tr>\n",
       "  </thead>\n",
       "  <tbody>\n",
       "    <tr>\n",
       "      <th>0</th>\n",
       "      <td>!Якутск Орджоникидзе, 56 фран</td>\n",
       "      <td>0</td>\n",
       "    </tr>\n",
       "    <tr>\n",
       "      <th>1</th>\n",
       "      <td>!Якутск ТЦ \"Центральный\" фран</td>\n",
       "      <td>1</td>\n",
       "    </tr>\n",
       "    <tr>\n",
       "      <th>2</th>\n",
       "      <td>Адыгея ТЦ \"Мега\"</td>\n",
       "      <td>2</td>\n",
       "    </tr>\n",
       "    <tr>\n",
       "      <th>3</th>\n",
       "      <td>Балашиха ТРК \"Октябрь-Киномир\"</td>\n",
       "      <td>3</td>\n",
       "    </tr>\n",
       "    <tr>\n",
       "      <th>4</th>\n",
       "      <td>Волжский ТЦ \"Волга Молл\"</td>\n",
       "      <td>4</td>\n",
       "    </tr>\n",
       "  </tbody>\n",
       "</table>\n",
       "</div>"
      ],
      "text/plain": [
       "                        shop_name  shop_id\n",
       "0   !Якутск Орджоникидзе, 56 фран        0\n",
       "1   !Якутск ТЦ \"Центральный\" фран        1\n",
       "2                Адыгея ТЦ \"Мега\"        2\n",
       "3  Балашиха ТРК \"Октябрь-Киномир\"        3\n",
       "4        Волжский ТЦ \"Волга Молл\"        4"
      ]
     },
     "execution_count": 13,
     "metadata": {},
     "output_type": "execute_result"
    }
   ],
   "source": [
    "shop.head()"
   ]
  },
  {
   "cell_type": "code",
   "execution_count": 14,
   "metadata": {},
   "outputs": [
    {
     "data": {
      "text/html": [
       "<div>\n",
       "<style scoped>\n",
       "    .dataframe tbody tr th:only-of-type {\n",
       "        vertical-align: middle;\n",
       "    }\n",
       "\n",
       "    .dataframe tbody tr th {\n",
       "        vertical-align: top;\n",
       "    }\n",
       "\n",
       "    .dataframe thead th {\n",
       "        text-align: right;\n",
       "    }\n",
       "</style>\n",
       "<table border=\"1\" class=\"dataframe\">\n",
       "  <thead>\n",
       "    <tr style=\"text-align: right;\">\n",
       "      <th></th>\n",
       "      <th>item_category_name</th>\n",
       "      <th>item_category_id</th>\n",
       "    </tr>\n",
       "  </thead>\n",
       "  <tbody>\n",
       "    <tr>\n",
       "      <th>0</th>\n",
       "      <td>PC - Гарнитуры/Наушники</td>\n",
       "      <td>0</td>\n",
       "    </tr>\n",
       "    <tr>\n",
       "      <th>1</th>\n",
       "      <td>Аксессуары - PS2</td>\n",
       "      <td>1</td>\n",
       "    </tr>\n",
       "    <tr>\n",
       "      <th>2</th>\n",
       "      <td>Аксессуары - PS3</td>\n",
       "      <td>2</td>\n",
       "    </tr>\n",
       "    <tr>\n",
       "      <th>3</th>\n",
       "      <td>Аксессуары - PS4</td>\n",
       "      <td>3</td>\n",
       "    </tr>\n",
       "    <tr>\n",
       "      <th>4</th>\n",
       "      <td>Аксессуары - PSP</td>\n",
       "      <td>4</td>\n",
       "    </tr>\n",
       "  </tbody>\n",
       "</table>\n",
       "</div>"
      ],
      "text/plain": [
       "        item_category_name  item_category_id\n",
       "0  PC - Гарнитуры/Наушники                 0\n",
       "1         Аксессуары - PS2                 1\n",
       "2         Аксессуары - PS3                 2\n",
       "3         Аксессуары - PS4                 3\n",
       "4         Аксессуары - PSP                 4"
      ]
     },
     "execution_count": 14,
     "metadata": {},
     "output_type": "execute_result"
    }
   ],
   "source": [
    "items_cat.head()"
   ]
  },
  {
   "cell_type": "code",
   "execution_count": 15,
   "metadata": {},
   "outputs": [],
   "source": [
    "items['item_name_length'] = items['item_name'].map(lambda x : len(x)) \n",
    "items['item_name_word_count'] = items['item_name'].map(lambda x : len(x.split(' ')))"
   ]
  },
  {
   "cell_type": "code",
   "execution_count": 16,
   "metadata": {},
   "outputs": [],
   "source": [
    "items_cat['item_categories_name_length'] = items_cat['item_category_name'].map(lambda x : len(x)) \n",
    "items_cat['item_categories_name_word_count'] = items_cat['item_category_name'].map(lambda x : len(x.split(' ')))"
   ]
  },
  {
   "cell_type": "code",
   "execution_count": 17,
   "metadata": {},
   "outputs": [],
   "source": [
    "shop['shop_name_length'] = shop['shop_name'].map(lambda x : len(x)) \n",
    "shop['shop_name_word_count'] = shop['shop_name'].map(lambda x : len(x.split(' ')))"
   ]
  },
  {
   "cell_type": "code",
   "execution_count": 18,
   "metadata": {},
   "outputs": [
    {
     "data": {
      "text/html": [
       "<div>\n",
       "<style scoped>\n",
       "    .dataframe tbody tr th:only-of-type {\n",
       "        vertical-align: middle;\n",
       "    }\n",
       "\n",
       "    .dataframe tbody tr th {\n",
       "        vertical-align: top;\n",
       "    }\n",
       "\n",
       "    .dataframe thead th {\n",
       "        text-align: right;\n",
       "    }\n",
       "</style>\n",
       "<table border=\"1\" class=\"dataframe\">\n",
       "  <thead>\n",
       "    <tr style=\"text-align: right;\">\n",
       "      <th></th>\n",
       "      <th>item_name</th>\n",
       "      <th>item_id</th>\n",
       "      <th>item_category_id</th>\n",
       "      <th>item_name_length</th>\n",
       "      <th>item_name_word_count</th>\n",
       "    </tr>\n",
       "  </thead>\n",
       "  <tbody>\n",
       "    <tr>\n",
       "      <th>0</th>\n",
       "      <td>! ВО ВЛАСТИ НАВАЖДЕНИЯ (ПЛАСТ.)         D</td>\n",
       "      <td>0</td>\n",
       "      <td>40</td>\n",
       "      <td>41</td>\n",
       "      <td>14</td>\n",
       "    </tr>\n",
       "    <tr>\n",
       "      <th>1</th>\n",
       "      <td>!ABBYY FineReader 12 Professional Edition Full...</td>\n",
       "      <td>1</td>\n",
       "      <td>76</td>\n",
       "      <td>68</td>\n",
       "      <td>9</td>\n",
       "    </tr>\n",
       "    <tr>\n",
       "      <th>2</th>\n",
       "      <td>***В ЛУЧАХ СЛАВЫ   (UNV)                    D</td>\n",
       "      <td>2</td>\n",
       "      <td>40</td>\n",
       "      <td>45</td>\n",
       "      <td>26</td>\n",
       "    </tr>\n",
       "    <tr>\n",
       "      <th>3</th>\n",
       "      <td>***ГОЛУБАЯ ВОЛНА  (Univ)                      D</td>\n",
       "      <td>3</td>\n",
       "      <td>40</td>\n",
       "      <td>47</td>\n",
       "      <td>26</td>\n",
       "    </tr>\n",
       "    <tr>\n",
       "      <th>4</th>\n",
       "      <td>***КОРОБКА (СТЕКЛО)                       D</td>\n",
       "      <td>4</td>\n",
       "      <td>40</td>\n",
       "      <td>43</td>\n",
       "      <td>25</td>\n",
       "    </tr>\n",
       "  </tbody>\n",
       "</table>\n",
       "</div>"
      ],
      "text/plain": [
       "                                           item_name  item_id  \\\n",
       "0          ! ВО ВЛАСТИ НАВАЖДЕНИЯ (ПЛАСТ.)         D        0   \n",
       "1  !ABBYY FineReader 12 Professional Edition Full...        1   \n",
       "2      ***В ЛУЧАХ СЛАВЫ   (UNV)                    D        2   \n",
       "3    ***ГОЛУБАЯ ВОЛНА  (Univ)                      D        3   \n",
       "4        ***КОРОБКА (СТЕКЛО)                       D        4   \n",
       "\n",
       "   item_category_id  item_name_length  item_name_word_count  \n",
       "0                40                41                    14  \n",
       "1                76                68                     9  \n",
       "2                40                45                    26  \n",
       "3                40                47                    26  \n",
       "4                40                43                    25  "
      ]
     },
     "execution_count": 18,
     "metadata": {},
     "output_type": "execute_result"
    }
   ],
   "source": [
    "items.head()"
   ]
  },
  {
   "cell_type": "code",
   "execution_count": 19,
   "metadata": {},
   "outputs": [
    {
     "data": {
      "text/html": [
       "<div>\n",
       "<style scoped>\n",
       "    .dataframe tbody tr th:only-of-type {\n",
       "        vertical-align: middle;\n",
       "    }\n",
       "\n",
       "    .dataframe tbody tr th {\n",
       "        vertical-align: top;\n",
       "    }\n",
       "\n",
       "    .dataframe thead th {\n",
       "        text-align: right;\n",
       "    }\n",
       "</style>\n",
       "<table border=\"1\" class=\"dataframe\">\n",
       "  <thead>\n",
       "    <tr style=\"text-align: right;\">\n",
       "      <th></th>\n",
       "      <th>shop_name</th>\n",
       "      <th>shop_id</th>\n",
       "      <th>shop_name_length</th>\n",
       "      <th>shop_name_word_count</th>\n",
       "    </tr>\n",
       "  </thead>\n",
       "  <tbody>\n",
       "    <tr>\n",
       "      <th>0</th>\n",
       "      <td>!Якутск Орджоникидзе, 56 фран</td>\n",
       "      <td>0</td>\n",
       "      <td>29</td>\n",
       "      <td>4</td>\n",
       "    </tr>\n",
       "    <tr>\n",
       "      <th>1</th>\n",
       "      <td>!Якутск ТЦ \"Центральный\" фран</td>\n",
       "      <td>1</td>\n",
       "      <td>29</td>\n",
       "      <td>4</td>\n",
       "    </tr>\n",
       "    <tr>\n",
       "      <th>2</th>\n",
       "      <td>Адыгея ТЦ \"Мега\"</td>\n",
       "      <td>2</td>\n",
       "      <td>16</td>\n",
       "      <td>3</td>\n",
       "    </tr>\n",
       "    <tr>\n",
       "      <th>3</th>\n",
       "      <td>Балашиха ТРК \"Октябрь-Киномир\"</td>\n",
       "      <td>3</td>\n",
       "      <td>30</td>\n",
       "      <td>3</td>\n",
       "    </tr>\n",
       "    <tr>\n",
       "      <th>4</th>\n",
       "      <td>Волжский ТЦ \"Волга Молл\"</td>\n",
       "      <td>4</td>\n",
       "      <td>24</td>\n",
       "      <td>4</td>\n",
       "    </tr>\n",
       "  </tbody>\n",
       "</table>\n",
       "</div>"
      ],
      "text/plain": [
       "                        shop_name  shop_id  shop_name_length  \\\n",
       "0   !Якутск Орджоникидзе, 56 фран        0                29   \n",
       "1   !Якутск ТЦ \"Центральный\" фран        1                29   \n",
       "2                Адыгея ТЦ \"Мега\"        2                16   \n",
       "3  Балашиха ТРК \"Октябрь-Киномир\"        3                30   \n",
       "4        Волжский ТЦ \"Волга Молл\"        4                24   \n",
       "\n",
       "   shop_name_word_count  \n",
       "0                     4  \n",
       "1                     4  \n",
       "2                     3  \n",
       "3                     3  \n",
       "4                     4  "
      ]
     },
     "execution_count": 19,
     "metadata": {},
     "output_type": "execute_result"
    }
   ],
   "source": [
    "shop.head()"
   ]
  },
  {
   "cell_type": "code",
   "execution_count": 20,
   "metadata": {},
   "outputs": [
    {
     "data": {
      "text/html": [
       "<div>\n",
       "<style scoped>\n",
       "    .dataframe tbody tr th:only-of-type {\n",
       "        vertical-align: middle;\n",
       "    }\n",
       "\n",
       "    .dataframe tbody tr th {\n",
       "        vertical-align: top;\n",
       "    }\n",
       "\n",
       "    .dataframe thead th {\n",
       "        text-align: right;\n",
       "    }\n",
       "</style>\n",
       "<table border=\"1\" class=\"dataframe\">\n",
       "  <thead>\n",
       "    <tr style=\"text-align: right;\">\n",
       "      <th></th>\n",
       "      <th>item_category_name</th>\n",
       "      <th>item_category_id</th>\n",
       "      <th>item_categories_name_length</th>\n",
       "      <th>item_categories_name_word_count</th>\n",
       "    </tr>\n",
       "  </thead>\n",
       "  <tbody>\n",
       "    <tr>\n",
       "      <th>0</th>\n",
       "      <td>PC - Гарнитуры/Наушники</td>\n",
       "      <td>0</td>\n",
       "      <td>23</td>\n",
       "      <td>3</td>\n",
       "    </tr>\n",
       "    <tr>\n",
       "      <th>1</th>\n",
       "      <td>Аксессуары - PS2</td>\n",
       "      <td>1</td>\n",
       "      <td>16</td>\n",
       "      <td>3</td>\n",
       "    </tr>\n",
       "    <tr>\n",
       "      <th>2</th>\n",
       "      <td>Аксессуары - PS3</td>\n",
       "      <td>2</td>\n",
       "      <td>16</td>\n",
       "      <td>3</td>\n",
       "    </tr>\n",
       "    <tr>\n",
       "      <th>3</th>\n",
       "      <td>Аксессуары - PS4</td>\n",
       "      <td>3</td>\n",
       "      <td>16</td>\n",
       "      <td>3</td>\n",
       "    </tr>\n",
       "    <tr>\n",
       "      <th>4</th>\n",
       "      <td>Аксессуары - PSP</td>\n",
       "      <td>4</td>\n",
       "      <td>16</td>\n",
       "      <td>3</td>\n",
       "    </tr>\n",
       "  </tbody>\n",
       "</table>\n",
       "</div>"
      ],
      "text/plain": [
       "        item_category_name  item_category_id  item_categories_name_length  \\\n",
       "0  PC - Гарнитуры/Наушники                 0                           23   \n",
       "1         Аксессуары - PS2                 1                           16   \n",
       "2         Аксессуары - PS3                 2                           16   \n",
       "3         Аксессуары - PS4                 3                           16   \n",
       "4         Аксессуары - PSP                 4                           16   \n",
       "\n",
       "   item_categories_name_word_count  \n",
       "0                                3  \n",
       "1                                3  \n",
       "2                                3  \n",
       "3                                3  \n",
       "4                                3  "
      ]
     },
     "execution_count": 20,
     "metadata": {},
     "output_type": "execute_result"
    }
   ],
   "source": [
    "items_cat.head()"
   ]
  },
  {
   "cell_type": "code",
   "execution_count": 21,
   "metadata": {},
   "outputs": [
    {
     "name": "stdout",
     "output_type": "stream",
     "text": [
      "<class 'pandas.core.frame.DataFrame'>\n",
      "Int64Index: 2935846 entries, 0 to 2935848\n",
      "Data columns (total 7 columns):\n",
      "date_block_num    int64\n",
      "shop_id           int64\n",
      "item_id           int64\n",
      "item_price        float64\n",
      "item_cnt_day      float64\n",
      "month             int64\n",
      "year              int64\n",
      "dtypes: float64(2), int64(5)\n",
      "memory usage: 179.2 MB\n"
     ]
    }
   ],
   "source": [
    "train.info()"
   ]
  },
  {
   "cell_type": "code",
   "execution_count": 22,
   "metadata": {},
   "outputs": [
    {
     "name": "stdout",
     "output_type": "stream",
     "text": [
      "<class 'pandas.core.frame.DataFrame'>\n",
      "RangeIndex: 214200 entries, 0 to 214199\n",
      "Data columns (total 3 columns):\n",
      "ID         214200 non-null int64\n",
      "shop_id    214200 non-null int64\n",
      "item_id    214200 non-null int64\n",
      "dtypes: int64(3)\n",
      "memory usage: 4.9 MB\n"
     ]
    }
   ],
   "source": [
    "test.info()"
   ]
  },
  {
   "cell_type": "code",
   "execution_count": 23,
   "metadata": {},
   "outputs": [],
   "source": [
    "train = train.drop([ 'item_price'], axis=1)\n",
    "train = train.groupby([c for c in train.columns if c not in ['item_cnt_day']], as_index=False)[['item_cnt_day']].sum()\n",
    "train = train.rename(columns={'item_cnt_day':'item_cnt_month'})"
   ]
  },
  {
   "cell_type": "code",
   "execution_count": 24,
   "metadata": {},
   "outputs": [
    {
     "data": {
      "text/html": [
       "<div>\n",
       "<style scoped>\n",
       "    .dataframe tbody tr th:only-of-type {\n",
       "        vertical-align: middle;\n",
       "    }\n",
       "\n",
       "    .dataframe tbody tr th {\n",
       "        vertical-align: top;\n",
       "    }\n",
       "\n",
       "    .dataframe thead th {\n",
       "        text-align: right;\n",
       "    }\n",
       "</style>\n",
       "<table border=\"1\" class=\"dataframe\">\n",
       "  <thead>\n",
       "    <tr style=\"text-align: right;\">\n",
       "      <th></th>\n",
       "      <th>date_block_num</th>\n",
       "      <th>shop_id</th>\n",
       "      <th>item_id</th>\n",
       "      <th>month</th>\n",
       "      <th>year</th>\n",
       "      <th>item_cnt_month</th>\n",
       "    </tr>\n",
       "  </thead>\n",
       "  <tbody>\n",
       "    <tr>\n",
       "      <th>0</th>\n",
       "      <td>0</td>\n",
       "      <td>0</td>\n",
       "      <td>32</td>\n",
       "      <td>1</td>\n",
       "      <td>2013</td>\n",
       "      <td>6.0</td>\n",
       "    </tr>\n",
       "    <tr>\n",
       "      <th>1</th>\n",
       "      <td>0</td>\n",
       "      <td>0</td>\n",
       "      <td>33</td>\n",
       "      <td>1</td>\n",
       "      <td>2013</td>\n",
       "      <td>3.0</td>\n",
       "    </tr>\n",
       "    <tr>\n",
       "      <th>2</th>\n",
       "      <td>0</td>\n",
       "      <td>0</td>\n",
       "      <td>35</td>\n",
       "      <td>1</td>\n",
       "      <td>2013</td>\n",
       "      <td>1.0</td>\n",
       "    </tr>\n",
       "    <tr>\n",
       "      <th>3</th>\n",
       "      <td>0</td>\n",
       "      <td>0</td>\n",
       "      <td>43</td>\n",
       "      <td>1</td>\n",
       "      <td>2013</td>\n",
       "      <td>1.0</td>\n",
       "    </tr>\n",
       "    <tr>\n",
       "      <th>4</th>\n",
       "      <td>0</td>\n",
       "      <td>0</td>\n",
       "      <td>51</td>\n",
       "      <td>1</td>\n",
       "      <td>2013</td>\n",
       "      <td>2.0</td>\n",
       "    </tr>\n",
       "  </tbody>\n",
       "</table>\n",
       "</div>"
      ],
      "text/plain": [
       "   date_block_num  shop_id  item_id  month  year  item_cnt_month\n",
       "0               0        0       32      1  2013             6.0\n",
       "1               0        0       33      1  2013             3.0\n",
       "2               0        0       35      1  2013             1.0\n",
       "3               0        0       43      1  2013             1.0\n",
       "4               0        0       51      1  2013             2.0"
      ]
     },
     "execution_count": 24,
     "metadata": {},
     "output_type": "execute_result"
    }
   ],
   "source": [
    "train.head()"
   ]
  },
  {
   "cell_type": "code",
   "execution_count": 25,
   "metadata": {},
   "outputs": [
    {
     "data": {
      "text/html": [
       "<div>\n",
       "<style scoped>\n",
       "    .dataframe tbody tr th:only-of-type {\n",
       "        vertical-align: middle;\n",
       "    }\n",
       "\n",
       "    .dataframe tbody tr th {\n",
       "        vertical-align: top;\n",
       "    }\n",
       "\n",
       "    .dataframe thead th {\n",
       "        text-align: right;\n",
       "    }\n",
       "</style>\n",
       "<table border=\"1\" class=\"dataframe\">\n",
       "  <thead>\n",
       "    <tr style=\"text-align: right;\">\n",
       "      <th></th>\n",
       "      <th>date_block_num</th>\n",
       "      <th>shop_id</th>\n",
       "      <th>item_id</th>\n",
       "      <th>month</th>\n",
       "      <th>year</th>\n",
       "      <th>item_cnt_month</th>\n",
       "      <th>item_cnt_month_mean</th>\n",
       "    </tr>\n",
       "  </thead>\n",
       "  <tbody>\n",
       "    <tr>\n",
       "      <th>0</th>\n",
       "      <td>0</td>\n",
       "      <td>0</td>\n",
       "      <td>32</td>\n",
       "      <td>1</td>\n",
       "      <td>2013</td>\n",
       "      <td>6.0</td>\n",
       "      <td>8.000000</td>\n",
       "    </tr>\n",
       "    <tr>\n",
       "      <th>1</th>\n",
       "      <td>0</td>\n",
       "      <td>0</td>\n",
       "      <td>33</td>\n",
       "      <td>1</td>\n",
       "      <td>2013</td>\n",
       "      <td>3.0</td>\n",
       "      <td>3.000000</td>\n",
       "    </tr>\n",
       "    <tr>\n",
       "      <th>2</th>\n",
       "      <td>0</td>\n",
       "      <td>0</td>\n",
       "      <td>35</td>\n",
       "      <td>1</td>\n",
       "      <td>2013</td>\n",
       "      <td>1.0</td>\n",
       "      <td>7.500000</td>\n",
       "    </tr>\n",
       "    <tr>\n",
       "      <th>3</th>\n",
       "      <td>0</td>\n",
       "      <td>0</td>\n",
       "      <td>43</td>\n",
       "      <td>1</td>\n",
       "      <td>2013</td>\n",
       "      <td>1.0</td>\n",
       "      <td>1.000000</td>\n",
       "    </tr>\n",
       "    <tr>\n",
       "      <th>4</th>\n",
       "      <td>0</td>\n",
       "      <td>0</td>\n",
       "      <td>51</td>\n",
       "      <td>1</td>\n",
       "      <td>2013</td>\n",
       "      <td>2.0</td>\n",
       "      <td>2.500000</td>\n",
       "    </tr>\n",
       "    <tr>\n",
       "      <th>5</th>\n",
       "      <td>0</td>\n",
       "      <td>0</td>\n",
       "      <td>61</td>\n",
       "      <td>1</td>\n",
       "      <td>2013</td>\n",
       "      <td>1.0</td>\n",
       "      <td>1.000000</td>\n",
       "    </tr>\n",
       "    <tr>\n",
       "      <th>6</th>\n",
       "      <td>0</td>\n",
       "      <td>0</td>\n",
       "      <td>75</td>\n",
       "      <td>1</td>\n",
       "      <td>2013</td>\n",
       "      <td>1.0</td>\n",
       "      <td>1.000000</td>\n",
       "    </tr>\n",
       "    <tr>\n",
       "      <th>7</th>\n",
       "      <td>0</td>\n",
       "      <td>0</td>\n",
       "      <td>88</td>\n",
       "      <td>1</td>\n",
       "      <td>2013</td>\n",
       "      <td>1.0</td>\n",
       "      <td>1.000000</td>\n",
       "    </tr>\n",
       "    <tr>\n",
       "      <th>8</th>\n",
       "      <td>0</td>\n",
       "      <td>0</td>\n",
       "      <td>95</td>\n",
       "      <td>1</td>\n",
       "      <td>2013</td>\n",
       "      <td>1.0</td>\n",
       "      <td>1.000000</td>\n",
       "    </tr>\n",
       "    <tr>\n",
       "      <th>9</th>\n",
       "      <td>0</td>\n",
       "      <td>0</td>\n",
       "      <td>96</td>\n",
       "      <td>1</td>\n",
       "      <td>2013</td>\n",
       "      <td>1.0</td>\n",
       "      <td>1.000000</td>\n",
       "    </tr>\n",
       "    <tr>\n",
       "      <th>10</th>\n",
       "      <td>0</td>\n",
       "      <td>0</td>\n",
       "      <td>98</td>\n",
       "      <td>1</td>\n",
       "      <td>2013</td>\n",
       "      <td>25.0</td>\n",
       "      <td>15.000000</td>\n",
       "    </tr>\n",
       "    <tr>\n",
       "      <th>11</th>\n",
       "      <td>0</td>\n",
       "      <td>0</td>\n",
       "      <td>111</td>\n",
       "      <td>1</td>\n",
       "      <td>2013</td>\n",
       "      <td>1.0</td>\n",
       "      <td>1.000000</td>\n",
       "    </tr>\n",
       "    <tr>\n",
       "      <th>12</th>\n",
       "      <td>0</td>\n",
       "      <td>0</td>\n",
       "      <td>149</td>\n",
       "      <td>1</td>\n",
       "      <td>2013</td>\n",
       "      <td>3.0</td>\n",
       "      <td>3.000000</td>\n",
       "    </tr>\n",
       "    <tr>\n",
       "      <th>13</th>\n",
       "      <td>0</td>\n",
       "      <td>0</td>\n",
       "      <td>151</td>\n",
       "      <td>1</td>\n",
       "      <td>2013</td>\n",
       "      <td>1.0</td>\n",
       "      <td>1.000000</td>\n",
       "    </tr>\n",
       "    <tr>\n",
       "      <th>14</th>\n",
       "      <td>0</td>\n",
       "      <td>0</td>\n",
       "      <td>153</td>\n",
       "      <td>1</td>\n",
       "      <td>2013</td>\n",
       "      <td>1.0</td>\n",
       "      <td>1.500000</td>\n",
       "    </tr>\n",
       "    <tr>\n",
       "      <th>15</th>\n",
       "      <td>0</td>\n",
       "      <td>0</td>\n",
       "      <td>198</td>\n",
       "      <td>1</td>\n",
       "      <td>2013</td>\n",
       "      <td>1.0</td>\n",
       "      <td>1.000000</td>\n",
       "    </tr>\n",
       "    <tr>\n",
       "      <th>16</th>\n",
       "      <td>0</td>\n",
       "      <td>0</td>\n",
       "      <td>210</td>\n",
       "      <td>1</td>\n",
       "      <td>2013</td>\n",
       "      <td>2.0</td>\n",
       "      <td>2.000000</td>\n",
       "    </tr>\n",
       "    <tr>\n",
       "      <th>17</th>\n",
       "      <td>0</td>\n",
       "      <td>0</td>\n",
       "      <td>282</td>\n",
       "      <td>1</td>\n",
       "      <td>2013</td>\n",
       "      <td>1.0</td>\n",
       "      <td>1.000000</td>\n",
       "    </tr>\n",
       "    <tr>\n",
       "      <th>18</th>\n",
       "      <td>0</td>\n",
       "      <td>0</td>\n",
       "      <td>306</td>\n",
       "      <td>1</td>\n",
       "      <td>2013</td>\n",
       "      <td>1.0</td>\n",
       "      <td>1.000000</td>\n",
       "    </tr>\n",
       "    <tr>\n",
       "      <th>19</th>\n",
       "      <td>0</td>\n",
       "      <td>0</td>\n",
       "      <td>351</td>\n",
       "      <td>1</td>\n",
       "      <td>2013</td>\n",
       "      <td>1.0</td>\n",
       "      <td>1.000000</td>\n",
       "    </tr>\n",
       "    <tr>\n",
       "      <th>20</th>\n",
       "      <td>0</td>\n",
       "      <td>0</td>\n",
       "      <td>421</td>\n",
       "      <td>1</td>\n",
       "      <td>2013</td>\n",
       "      <td>1.0</td>\n",
       "      <td>1.000000</td>\n",
       "    </tr>\n",
       "    <tr>\n",
       "      <th>21</th>\n",
       "      <td>0</td>\n",
       "      <td>0</td>\n",
       "      <td>438</td>\n",
       "      <td>1</td>\n",
       "      <td>2013</td>\n",
       "      <td>1.0</td>\n",
       "      <td>1.000000</td>\n",
       "    </tr>\n",
       "    <tr>\n",
       "      <th>22</th>\n",
       "      <td>0</td>\n",
       "      <td>0</td>\n",
       "      <td>482</td>\n",
       "      <td>1</td>\n",
       "      <td>2013</td>\n",
       "      <td>2.0</td>\n",
       "      <td>2.500000</td>\n",
       "    </tr>\n",
       "    <tr>\n",
       "      <th>23</th>\n",
       "      <td>0</td>\n",
       "      <td>0</td>\n",
       "      <td>484</td>\n",
       "      <td>1</td>\n",
       "      <td>2013</td>\n",
       "      <td>4.0</td>\n",
       "      <td>4.000000</td>\n",
       "    </tr>\n",
       "    <tr>\n",
       "      <th>24</th>\n",
       "      <td>0</td>\n",
       "      <td>0</td>\n",
       "      <td>491</td>\n",
       "      <td>1</td>\n",
       "      <td>2013</td>\n",
       "      <td>1.0</td>\n",
       "      <td>1.000000</td>\n",
       "    </tr>\n",
       "    <tr>\n",
       "      <th>25</th>\n",
       "      <td>0</td>\n",
       "      <td>0</td>\n",
       "      <td>498</td>\n",
       "      <td>1</td>\n",
       "      <td>2013</td>\n",
       "      <td>1.0</td>\n",
       "      <td>1.000000</td>\n",
       "    </tr>\n",
       "    <tr>\n",
       "      <th>26</th>\n",
       "      <td>0</td>\n",
       "      <td>0</td>\n",
       "      <td>556</td>\n",
       "      <td>1</td>\n",
       "      <td>2013</td>\n",
       "      <td>9.0</td>\n",
       "      <td>6.500000</td>\n",
       "    </tr>\n",
       "    <tr>\n",
       "      <th>27</th>\n",
       "      <td>0</td>\n",
       "      <td>0</td>\n",
       "      <td>642</td>\n",
       "      <td>1</td>\n",
       "      <td>2013</td>\n",
       "      <td>6.0</td>\n",
       "      <td>5.000000</td>\n",
       "    </tr>\n",
       "    <tr>\n",
       "      <th>28</th>\n",
       "      <td>0</td>\n",
       "      <td>0</td>\n",
       "      <td>651</td>\n",
       "      <td>1</td>\n",
       "      <td>2013</td>\n",
       "      <td>7.0</td>\n",
       "      <td>7.000000</td>\n",
       "    </tr>\n",
       "    <tr>\n",
       "      <th>29</th>\n",
       "      <td>0</td>\n",
       "      <td>0</td>\n",
       "      <td>657</td>\n",
       "      <td>1</td>\n",
       "      <td>2013</td>\n",
       "      <td>2.0</td>\n",
       "      <td>3.000000</td>\n",
       "    </tr>\n",
       "    <tr>\n",
       "      <th>...</th>\n",
       "      <td>...</td>\n",
       "      <td>...</td>\n",
       "      <td>...</td>\n",
       "      <td>...</td>\n",
       "      <td>...</td>\n",
       "      <td>...</td>\n",
       "      <td>...</td>\n",
       "    </tr>\n",
       "    <tr>\n",
       "      <th>1609092</th>\n",
       "      <td>33</td>\n",
       "      <td>59</td>\n",
       "      <td>19894</td>\n",
       "      <td>10</td>\n",
       "      <td>2015</td>\n",
       "      <td>1.0</td>\n",
       "      <td>1.000000</td>\n",
       "    </tr>\n",
       "    <tr>\n",
       "      <th>1609093</th>\n",
       "      <td>33</td>\n",
       "      <td>59</td>\n",
       "      <td>19985</td>\n",
       "      <td>10</td>\n",
       "      <td>2015</td>\n",
       "      <td>1.0</td>\n",
       "      <td>2.866667</td>\n",
       "    </tr>\n",
       "    <tr>\n",
       "      <th>1609094</th>\n",
       "      <td>33</td>\n",
       "      <td>59</td>\n",
       "      <td>20303</td>\n",
       "      <td>10</td>\n",
       "      <td>2015</td>\n",
       "      <td>1.0</td>\n",
       "      <td>3.333333</td>\n",
       "    </tr>\n",
       "    <tr>\n",
       "      <th>1609095</th>\n",
       "      <td>33</td>\n",
       "      <td>59</td>\n",
       "      <td>20305</td>\n",
       "      <td>10</td>\n",
       "      <td>2015</td>\n",
       "      <td>1.0</td>\n",
       "      <td>1.000000</td>\n",
       "    </tr>\n",
       "    <tr>\n",
       "      <th>1609096</th>\n",
       "      <td>33</td>\n",
       "      <td>59</td>\n",
       "      <td>20335</td>\n",
       "      <td>10</td>\n",
       "      <td>2015</td>\n",
       "      <td>1.0</td>\n",
       "      <td>1.000000</td>\n",
       "    </tr>\n",
       "    <tr>\n",
       "      <th>1609097</th>\n",
       "      <td>33</td>\n",
       "      <td>59</td>\n",
       "      <td>20355</td>\n",
       "      <td>10</td>\n",
       "      <td>2015</td>\n",
       "      <td>1.0</td>\n",
       "      <td>1.000000</td>\n",
       "    </tr>\n",
       "    <tr>\n",
       "      <th>1609098</th>\n",
       "      <td>33</td>\n",
       "      <td>59</td>\n",
       "      <td>20392</td>\n",
       "      <td>10</td>\n",
       "      <td>2015</td>\n",
       "      <td>1.0</td>\n",
       "      <td>1.000000</td>\n",
       "    </tr>\n",
       "    <tr>\n",
       "      <th>1609099</th>\n",
       "      <td>33</td>\n",
       "      <td>59</td>\n",
       "      <td>20604</td>\n",
       "      <td>10</td>\n",
       "      <td>2015</td>\n",
       "      <td>2.0</td>\n",
       "      <td>1.333333</td>\n",
       "    </tr>\n",
       "    <tr>\n",
       "      <th>1609100</th>\n",
       "      <td>33</td>\n",
       "      <td>59</td>\n",
       "      <td>20614</td>\n",
       "      <td>10</td>\n",
       "      <td>2015</td>\n",
       "      <td>1.0</td>\n",
       "      <td>1.111111</td>\n",
       "    </tr>\n",
       "    <tr>\n",
       "      <th>1609101</th>\n",
       "      <td>33</td>\n",
       "      <td>59</td>\n",
       "      <td>20629</td>\n",
       "      <td>10</td>\n",
       "      <td>2015</td>\n",
       "      <td>1.0</td>\n",
       "      <td>1.800000</td>\n",
       "    </tr>\n",
       "    <tr>\n",
       "      <th>1609102</th>\n",
       "      <td>33</td>\n",
       "      <td>59</td>\n",
       "      <td>20730</td>\n",
       "      <td>10</td>\n",
       "      <td>2015</td>\n",
       "      <td>1.0</td>\n",
       "      <td>1.000000</td>\n",
       "    </tr>\n",
       "    <tr>\n",
       "      <th>1609103</th>\n",
       "      <td>33</td>\n",
       "      <td>59</td>\n",
       "      <td>20751</td>\n",
       "      <td>10</td>\n",
       "      <td>2015</td>\n",
       "      <td>1.0</td>\n",
       "      <td>1.000000</td>\n",
       "    </tr>\n",
       "    <tr>\n",
       "      <th>1609104</th>\n",
       "      <td>33</td>\n",
       "      <td>59</td>\n",
       "      <td>20866</td>\n",
       "      <td>10</td>\n",
       "      <td>2015</td>\n",
       "      <td>4.0</td>\n",
       "      <td>1.615385</td>\n",
       "    </tr>\n",
       "    <tr>\n",
       "      <th>1609105</th>\n",
       "      <td>33</td>\n",
       "      <td>59</td>\n",
       "      <td>20949</td>\n",
       "      <td>10</td>\n",
       "      <td>2015</td>\n",
       "      <td>19.0</td>\n",
       "      <td>71.774194</td>\n",
       "    </tr>\n",
       "    <tr>\n",
       "      <th>1609106</th>\n",
       "      <td>33</td>\n",
       "      <td>59</td>\n",
       "      <td>21361</td>\n",
       "      <td>10</td>\n",
       "      <td>2015</td>\n",
       "      <td>1.0</td>\n",
       "      <td>1.000000</td>\n",
       "    </tr>\n",
       "    <tr>\n",
       "      <th>1609107</th>\n",
       "      <td>33</td>\n",
       "      <td>59</td>\n",
       "      <td>21364</td>\n",
       "      <td>10</td>\n",
       "      <td>2015</td>\n",
       "      <td>1.0</td>\n",
       "      <td>4.142857</td>\n",
       "    </tr>\n",
       "    <tr>\n",
       "      <th>1609108</th>\n",
       "      <td>33</td>\n",
       "      <td>59</td>\n",
       "      <td>21369</td>\n",
       "      <td>10</td>\n",
       "      <td>2015</td>\n",
       "      <td>2.0</td>\n",
       "      <td>1.500000</td>\n",
       "    </tr>\n",
       "    <tr>\n",
       "      <th>1609109</th>\n",
       "      <td>33</td>\n",
       "      <td>59</td>\n",
       "      <td>21377</td>\n",
       "      <td>10</td>\n",
       "      <td>2015</td>\n",
       "      <td>1.0</td>\n",
       "      <td>2.625000</td>\n",
       "    </tr>\n",
       "    <tr>\n",
       "      <th>1609110</th>\n",
       "      <td>33</td>\n",
       "      <td>59</td>\n",
       "      <td>21386</td>\n",
       "      <td>10</td>\n",
       "      <td>2015</td>\n",
       "      <td>1.0</td>\n",
       "      <td>1.500000</td>\n",
       "    </tr>\n",
       "    <tr>\n",
       "      <th>1609111</th>\n",
       "      <td>33</td>\n",
       "      <td>59</td>\n",
       "      <td>21404</td>\n",
       "      <td>10</td>\n",
       "      <td>2015</td>\n",
       "      <td>2.0</td>\n",
       "      <td>2.615385</td>\n",
       "    </tr>\n",
       "    <tr>\n",
       "      <th>1609112</th>\n",
       "      <td>33</td>\n",
       "      <td>59</td>\n",
       "      <td>21427</td>\n",
       "      <td>10</td>\n",
       "      <td>2015</td>\n",
       "      <td>1.0</td>\n",
       "      <td>1.562500</td>\n",
       "    </tr>\n",
       "    <tr>\n",
       "      <th>1609113</th>\n",
       "      <td>33</td>\n",
       "      <td>59</td>\n",
       "      <td>21449</td>\n",
       "      <td>10</td>\n",
       "      <td>2015</td>\n",
       "      <td>2.0</td>\n",
       "      <td>2.000000</td>\n",
       "    </tr>\n",
       "    <tr>\n",
       "      <th>1609114</th>\n",
       "      <td>33</td>\n",
       "      <td>59</td>\n",
       "      <td>21672</td>\n",
       "      <td>10</td>\n",
       "      <td>2015</td>\n",
       "      <td>1.0</td>\n",
       "      <td>1.000000</td>\n",
       "    </tr>\n",
       "    <tr>\n",
       "      <th>1609115</th>\n",
       "      <td>33</td>\n",
       "      <td>59</td>\n",
       "      <td>21811</td>\n",
       "      <td>10</td>\n",
       "      <td>2015</td>\n",
       "      <td>1.0</td>\n",
       "      <td>1.000000</td>\n",
       "    </tr>\n",
       "    <tr>\n",
       "      <th>1609116</th>\n",
       "      <td>33</td>\n",
       "      <td>59</td>\n",
       "      <td>21812</td>\n",
       "      <td>10</td>\n",
       "      <td>2015</td>\n",
       "      <td>1.0</td>\n",
       "      <td>1.000000</td>\n",
       "    </tr>\n",
       "    <tr>\n",
       "      <th>1609117</th>\n",
       "      <td>33</td>\n",
       "      <td>59</td>\n",
       "      <td>22087</td>\n",
       "      <td>10</td>\n",
       "      <td>2015</td>\n",
       "      <td>6.0</td>\n",
       "      <td>6.424242</td>\n",
       "    </tr>\n",
       "    <tr>\n",
       "      <th>1609118</th>\n",
       "      <td>33</td>\n",
       "      <td>59</td>\n",
       "      <td>22088</td>\n",
       "      <td>10</td>\n",
       "      <td>2015</td>\n",
       "      <td>2.0</td>\n",
       "      <td>6.187500</td>\n",
       "    </tr>\n",
       "    <tr>\n",
       "      <th>1609119</th>\n",
       "      <td>33</td>\n",
       "      <td>59</td>\n",
       "      <td>22091</td>\n",
       "      <td>10</td>\n",
       "      <td>2015</td>\n",
       "      <td>1.0</td>\n",
       "      <td>2.294118</td>\n",
       "    </tr>\n",
       "    <tr>\n",
       "      <th>1609120</th>\n",
       "      <td>33</td>\n",
       "      <td>59</td>\n",
       "      <td>22100</td>\n",
       "      <td>10</td>\n",
       "      <td>2015</td>\n",
       "      <td>1.0</td>\n",
       "      <td>1.000000</td>\n",
       "    </tr>\n",
       "    <tr>\n",
       "      <th>1609121</th>\n",
       "      <td>33</td>\n",
       "      <td>59</td>\n",
       "      <td>22102</td>\n",
       "      <td>10</td>\n",
       "      <td>2015</td>\n",
       "      <td>1.0</td>\n",
       "      <td>1.333333</td>\n",
       "    </tr>\n",
       "  </tbody>\n",
       "</table>\n",
       "<p>1609122 rows × 7 columns</p>\n",
       "</div>"
      ],
      "text/plain": [
       "         date_block_num  shop_id  item_id  month  year  item_cnt_month  \\\n",
       "0                     0        0       32      1  2013             6.0   \n",
       "1                     0        0       33      1  2013             3.0   \n",
       "2                     0        0       35      1  2013             1.0   \n",
       "3                     0        0       43      1  2013             1.0   \n",
       "4                     0        0       51      1  2013             2.0   \n",
       "5                     0        0       61      1  2013             1.0   \n",
       "6                     0        0       75      1  2013             1.0   \n",
       "7                     0        0       88      1  2013             1.0   \n",
       "8                     0        0       95      1  2013             1.0   \n",
       "9                     0        0       96      1  2013             1.0   \n",
       "10                    0        0       98      1  2013            25.0   \n",
       "11                    0        0      111      1  2013             1.0   \n",
       "12                    0        0      149      1  2013             3.0   \n",
       "13                    0        0      151      1  2013             1.0   \n",
       "14                    0        0      153      1  2013             1.0   \n",
       "15                    0        0      198      1  2013             1.0   \n",
       "16                    0        0      210      1  2013             2.0   \n",
       "17                    0        0      282      1  2013             1.0   \n",
       "18                    0        0      306      1  2013             1.0   \n",
       "19                    0        0      351      1  2013             1.0   \n",
       "20                    0        0      421      1  2013             1.0   \n",
       "21                    0        0      438      1  2013             1.0   \n",
       "22                    0        0      482      1  2013             2.0   \n",
       "23                    0        0      484      1  2013             4.0   \n",
       "24                    0        0      491      1  2013             1.0   \n",
       "25                    0        0      498      1  2013             1.0   \n",
       "26                    0        0      556      1  2013             9.0   \n",
       "27                    0        0      642      1  2013             6.0   \n",
       "28                    0        0      651      1  2013             7.0   \n",
       "29                    0        0      657      1  2013             2.0   \n",
       "...                 ...      ...      ...    ...   ...             ...   \n",
       "1609092              33       59    19894     10  2015             1.0   \n",
       "1609093              33       59    19985     10  2015             1.0   \n",
       "1609094              33       59    20303     10  2015             1.0   \n",
       "1609095              33       59    20305     10  2015             1.0   \n",
       "1609096              33       59    20335     10  2015             1.0   \n",
       "1609097              33       59    20355     10  2015             1.0   \n",
       "1609098              33       59    20392     10  2015             1.0   \n",
       "1609099              33       59    20604     10  2015             2.0   \n",
       "1609100              33       59    20614     10  2015             1.0   \n",
       "1609101              33       59    20629     10  2015             1.0   \n",
       "1609102              33       59    20730     10  2015             1.0   \n",
       "1609103              33       59    20751     10  2015             1.0   \n",
       "1609104              33       59    20866     10  2015             4.0   \n",
       "1609105              33       59    20949     10  2015            19.0   \n",
       "1609106              33       59    21361     10  2015             1.0   \n",
       "1609107              33       59    21364     10  2015             1.0   \n",
       "1609108              33       59    21369     10  2015             2.0   \n",
       "1609109              33       59    21377     10  2015             1.0   \n",
       "1609110              33       59    21386     10  2015             1.0   \n",
       "1609111              33       59    21404     10  2015             2.0   \n",
       "1609112              33       59    21427     10  2015             1.0   \n",
       "1609113              33       59    21449     10  2015             2.0   \n",
       "1609114              33       59    21672     10  2015             1.0   \n",
       "1609115              33       59    21811     10  2015             1.0   \n",
       "1609116              33       59    21812     10  2015             1.0   \n",
       "1609117              33       59    22087     10  2015             6.0   \n",
       "1609118              33       59    22088     10  2015             2.0   \n",
       "1609119              33       59    22091     10  2015             1.0   \n",
       "1609120              33       59    22100     10  2015             1.0   \n",
       "1609121              33       59    22102     10  2015             1.0   \n",
       "\n",
       "         item_cnt_month_mean  \n",
       "0                   8.000000  \n",
       "1                   3.000000  \n",
       "2                   7.500000  \n",
       "3                   1.000000  \n",
       "4                   2.500000  \n",
       "5                   1.000000  \n",
       "6                   1.000000  \n",
       "7                   1.000000  \n",
       "8                   1.000000  \n",
       "9                   1.000000  \n",
       "10                 15.000000  \n",
       "11                  1.000000  \n",
       "12                  3.000000  \n",
       "13                  1.000000  \n",
       "14                  1.500000  \n",
       "15                  1.000000  \n",
       "16                  2.000000  \n",
       "17                  1.000000  \n",
       "18                  1.000000  \n",
       "19                  1.000000  \n",
       "20                  1.000000  \n",
       "21                  1.000000  \n",
       "22                  2.500000  \n",
       "23                  4.000000  \n",
       "24                  1.000000  \n",
       "25                  1.000000  \n",
       "26                  6.500000  \n",
       "27                  5.000000  \n",
       "28                  7.000000  \n",
       "29                  3.000000  \n",
       "...                      ...  \n",
       "1609092             1.000000  \n",
       "1609093             2.866667  \n",
       "1609094             3.333333  \n",
       "1609095             1.000000  \n",
       "1609096             1.000000  \n",
       "1609097             1.000000  \n",
       "1609098             1.000000  \n",
       "1609099             1.333333  \n",
       "1609100             1.111111  \n",
       "1609101             1.800000  \n",
       "1609102             1.000000  \n",
       "1609103             1.000000  \n",
       "1609104             1.615385  \n",
       "1609105            71.774194  \n",
       "1609106             1.000000  \n",
       "1609107             4.142857  \n",
       "1609108             1.500000  \n",
       "1609109             2.625000  \n",
       "1609110             1.500000  \n",
       "1609111             2.615385  \n",
       "1609112             1.562500  \n",
       "1609113             2.000000  \n",
       "1609114             1.000000  \n",
       "1609115             1.000000  \n",
       "1609116             1.000000  \n",
       "1609117             6.424242  \n",
       "1609118             6.187500  \n",
       "1609119             2.294118  \n",
       "1609120             1.000000  \n",
       "1609121             1.333333  \n",
       "\n",
       "[1609122 rows x 7 columns]"
      ]
     },
     "execution_count": 25,
     "metadata": {},
     "output_type": "execute_result"
    }
   ],
   "source": [
    "#Monthly mean\n",
    "SIMA = train[['shop_id', 'item_id', 'item_cnt_month']].groupby(['shop_id', 'item_id'], as_index=False)[['item_cnt_month']].mean()\n",
    "SIMA = SIMA.rename(columns={'item_cnt_month':'item_cnt_month_mean'})\n",
    "\n",
    "#Add Mean Features\n",
    "train = pd.merge(train, SIMA,how='left', on=['shop_id', 'item_id'])\n",
    "train"
   ]
  },
  {
   "cell_type": "code",
   "execution_count": 26,
   "metadata": {},
   "outputs": [
    {
     "data": {
      "text/html": [
       "<div>\n",
       "<style scoped>\n",
       "    .dataframe tbody tr th:only-of-type {\n",
       "        vertical-align: middle;\n",
       "    }\n",
       "\n",
       "    .dataframe tbody tr th {\n",
       "        vertical-align: top;\n",
       "    }\n",
       "\n",
       "    .dataframe thead th {\n",
       "        text-align: right;\n",
       "    }\n",
       "</style>\n",
       "<table border=\"1\" class=\"dataframe\">\n",
       "  <thead>\n",
       "    <tr style=\"text-align: right;\">\n",
       "      <th></th>\n",
       "      <th>date_block_num</th>\n",
       "      <th>shop_id</th>\n",
       "      <th>item_id</th>\n",
       "      <th>month</th>\n",
       "      <th>year</th>\n",
       "      <th>item_cnt_month</th>\n",
       "      <th>item_cnt_month_mean</th>\n",
       "      <th>item_name</th>\n",
       "      <th>item_category_id</th>\n",
       "      <th>item_name_length</th>\n",
       "      <th>item_name_word_count</th>\n",
       "    </tr>\n",
       "  </thead>\n",
       "  <tbody>\n",
       "    <tr>\n",
       "      <th>0</th>\n",
       "      <td>0</td>\n",
       "      <td>0</td>\n",
       "      <td>32</td>\n",
       "      <td>1</td>\n",
       "      <td>2013</td>\n",
       "      <td>6.0</td>\n",
       "      <td>8.0</td>\n",
       "      <td>1+1</td>\n",
       "      <td>40</td>\n",
       "      <td>3</td>\n",
       "      <td>1</td>\n",
       "    </tr>\n",
       "    <tr>\n",
       "      <th>1</th>\n",
       "      <td>0</td>\n",
       "      <td>0</td>\n",
       "      <td>33</td>\n",
       "      <td>1</td>\n",
       "      <td>2013</td>\n",
       "      <td>3.0</td>\n",
       "      <td>3.0</td>\n",
       "      <td>1+1 (BD)</td>\n",
       "      <td>37</td>\n",
       "      <td>8</td>\n",
       "      <td>2</td>\n",
       "    </tr>\n",
       "    <tr>\n",
       "      <th>2</th>\n",
       "      <td>0</td>\n",
       "      <td>0</td>\n",
       "      <td>35</td>\n",
       "      <td>1</td>\n",
       "      <td>2013</td>\n",
       "      <td>1.0</td>\n",
       "      <td>7.5</td>\n",
       "      <td>10 ЛЕТ СПУСТЯ</td>\n",
       "      <td>40</td>\n",
       "      <td>13</td>\n",
       "      <td>3</td>\n",
       "    </tr>\n",
       "    <tr>\n",
       "      <th>3</th>\n",
       "      <td>0</td>\n",
       "      <td>0</td>\n",
       "      <td>43</td>\n",
       "      <td>1</td>\n",
       "      <td>2013</td>\n",
       "      <td>1.0</td>\n",
       "      <td>1.0</td>\n",
       "      <td>100 МИЛЛИОНОВ ЕВРО</td>\n",
       "      <td>40</td>\n",
       "      <td>18</td>\n",
       "      <td>3</td>\n",
       "    </tr>\n",
       "    <tr>\n",
       "      <th>4</th>\n",
       "      <td>0</td>\n",
       "      <td>0</td>\n",
       "      <td>51</td>\n",
       "      <td>1</td>\n",
       "      <td>2013</td>\n",
       "      <td>2.0</td>\n",
       "      <td>2.5</td>\n",
       "      <td>100 лучших произведений классики (mp3-CD) (Dig...</td>\n",
       "      <td>57</td>\n",
       "      <td>52</td>\n",
       "      <td>6</td>\n",
       "    </tr>\n",
       "  </tbody>\n",
       "</table>\n",
       "</div>"
      ],
      "text/plain": [
       "   date_block_num  shop_id  item_id  month  year  item_cnt_month  \\\n",
       "0               0        0       32      1  2013             6.0   \n",
       "1               0        0       33      1  2013             3.0   \n",
       "2               0        0       35      1  2013             1.0   \n",
       "3               0        0       43      1  2013             1.0   \n",
       "4               0        0       51      1  2013             2.0   \n",
       "\n",
       "   item_cnt_month_mean                                          item_name  \\\n",
       "0                  8.0                                                1+1   \n",
       "1                  3.0                                           1+1 (BD)   \n",
       "2                  7.5                                      10 ЛЕТ СПУСТЯ   \n",
       "3                  1.0                                 100 МИЛЛИОНОВ ЕВРО   \n",
       "4                  2.5  100 лучших произведений классики (mp3-CD) (Dig...   \n",
       "\n",
       "   item_category_id  item_name_length  item_name_word_count  \n",
       "0                40                 3                     1  \n",
       "1                37                 8                     2  \n",
       "2                40                13                     3  \n",
       "3                40                18                     3  \n",
       "4                57                52                     6  "
      ]
     },
     "execution_count": 26,
     "metadata": {},
     "output_type": "execute_result"
    }
   ],
   "source": [
    "train = pd.merge(train, items, how='left', on='item_id')\n",
    "train.head()"
   ]
  },
  {
   "cell_type": "code",
   "execution_count": 27,
   "metadata": {},
   "outputs": [
    {
     "data": {
      "text/plain": [
       "(1609122, 11)"
      ]
     },
     "execution_count": 27,
     "metadata": {},
     "output_type": "execute_result"
    }
   ],
   "source": [
    "train.shape"
   ]
  },
  {
   "cell_type": "code",
   "execution_count": 28,
   "metadata": {},
   "outputs": [
    {
     "data": {
      "text/html": [
       "<div>\n",
       "<style scoped>\n",
       "    .dataframe tbody tr th:only-of-type {\n",
       "        vertical-align: middle;\n",
       "    }\n",
       "\n",
       "    .dataframe tbody tr th {\n",
       "        vertical-align: top;\n",
       "    }\n",
       "\n",
       "    .dataframe thead th {\n",
       "        text-align: right;\n",
       "    }\n",
       "</style>\n",
       "<table border=\"1\" class=\"dataframe\">\n",
       "  <thead>\n",
       "    <tr style=\"text-align: right;\">\n",
       "      <th></th>\n",
       "      <th>date_block_num</th>\n",
       "      <th>shop_id</th>\n",
       "      <th>item_id</th>\n",
       "      <th>month</th>\n",
       "      <th>year</th>\n",
       "      <th>item_cnt_month</th>\n",
       "      <th>item_cnt_month_mean</th>\n",
       "      <th>item_name</th>\n",
       "      <th>item_category_id</th>\n",
       "      <th>item_name_length</th>\n",
       "      <th>item_name_word_count</th>\n",
       "      <th>item_category_name</th>\n",
       "      <th>item_categories_name_length</th>\n",
       "      <th>item_categories_name_word_count</th>\n",
       "    </tr>\n",
       "  </thead>\n",
       "  <tbody>\n",
       "    <tr>\n",
       "      <th>0</th>\n",
       "      <td>0</td>\n",
       "      <td>0</td>\n",
       "      <td>32</td>\n",
       "      <td>1</td>\n",
       "      <td>2013</td>\n",
       "      <td>6.0</td>\n",
       "      <td>8.0</td>\n",
       "      <td>1+1</td>\n",
       "      <td>40</td>\n",
       "      <td>3</td>\n",
       "      <td>1</td>\n",
       "      <td>Кино - DVD</td>\n",
       "      <td>10</td>\n",
       "      <td>3</td>\n",
       "    </tr>\n",
       "    <tr>\n",
       "      <th>1</th>\n",
       "      <td>0</td>\n",
       "      <td>0</td>\n",
       "      <td>33</td>\n",
       "      <td>1</td>\n",
       "      <td>2013</td>\n",
       "      <td>3.0</td>\n",
       "      <td>3.0</td>\n",
       "      <td>1+1 (BD)</td>\n",
       "      <td>37</td>\n",
       "      <td>8</td>\n",
       "      <td>2</td>\n",
       "      <td>Кино - Blu-Ray</td>\n",
       "      <td>14</td>\n",
       "      <td>3</td>\n",
       "    </tr>\n",
       "    <tr>\n",
       "      <th>2</th>\n",
       "      <td>0</td>\n",
       "      <td>0</td>\n",
       "      <td>35</td>\n",
       "      <td>1</td>\n",
       "      <td>2013</td>\n",
       "      <td>1.0</td>\n",
       "      <td>7.5</td>\n",
       "      <td>10 ЛЕТ СПУСТЯ</td>\n",
       "      <td>40</td>\n",
       "      <td>13</td>\n",
       "      <td>3</td>\n",
       "      <td>Кино - DVD</td>\n",
       "      <td>10</td>\n",
       "      <td>3</td>\n",
       "    </tr>\n",
       "    <tr>\n",
       "      <th>3</th>\n",
       "      <td>0</td>\n",
       "      <td>0</td>\n",
       "      <td>43</td>\n",
       "      <td>1</td>\n",
       "      <td>2013</td>\n",
       "      <td>1.0</td>\n",
       "      <td>1.0</td>\n",
       "      <td>100 МИЛЛИОНОВ ЕВРО</td>\n",
       "      <td>40</td>\n",
       "      <td>18</td>\n",
       "      <td>3</td>\n",
       "      <td>Кино - DVD</td>\n",
       "      <td>10</td>\n",
       "      <td>3</td>\n",
       "    </tr>\n",
       "    <tr>\n",
       "      <th>4</th>\n",
       "      <td>0</td>\n",
       "      <td>0</td>\n",
       "      <td>51</td>\n",
       "      <td>1</td>\n",
       "      <td>2013</td>\n",
       "      <td>2.0</td>\n",
       "      <td>2.5</td>\n",
       "      <td>100 лучших произведений классики (mp3-CD) (Dig...</td>\n",
       "      <td>57</td>\n",
       "      <td>52</td>\n",
       "      <td>6</td>\n",
       "      <td>Музыка - MP3</td>\n",
       "      <td>12</td>\n",
       "      <td>3</td>\n",
       "    </tr>\n",
       "  </tbody>\n",
       "</table>\n",
       "</div>"
      ],
      "text/plain": [
       "   date_block_num  shop_id  item_id  month  year  item_cnt_month  \\\n",
       "0               0        0       32      1  2013             6.0   \n",
       "1               0        0       33      1  2013             3.0   \n",
       "2               0        0       35      1  2013             1.0   \n",
       "3               0        0       43      1  2013             1.0   \n",
       "4               0        0       51      1  2013             2.0   \n",
       "\n",
       "   item_cnt_month_mean                                          item_name  \\\n",
       "0                  8.0                                                1+1   \n",
       "1                  3.0                                           1+1 (BD)   \n",
       "2                  7.5                                      10 ЛЕТ СПУСТЯ   \n",
       "3                  1.0                                 100 МИЛЛИОНОВ ЕВРО   \n",
       "4                  2.5  100 лучших произведений классики (mp3-CD) (Dig...   \n",
       "\n",
       "   item_category_id  item_name_length  item_name_word_count  \\\n",
       "0                40                 3                     1   \n",
       "1                37                 8                     2   \n",
       "2                40                13                     3   \n",
       "3                40                18                     3   \n",
       "4                57                52                     6   \n",
       "\n",
       "  item_category_name  item_categories_name_length  \\\n",
       "0         Кино - DVD                           10   \n",
       "1     Кино - Blu-Ray                           14   \n",
       "2         Кино - DVD                           10   \n",
       "3         Кино - DVD                           10   \n",
       "4       Музыка - MP3                           12   \n",
       "\n",
       "   item_categories_name_word_count  \n",
       "0                                3  \n",
       "1                                3  \n",
       "2                                3  \n",
       "3                                3  \n",
       "4                                3  "
      ]
     },
     "execution_count": 28,
     "metadata": {},
     "output_type": "execute_result"
    }
   ],
   "source": [
    "train = pd.merge(train, items_cat, how='left', on=['item_category_id'])\n",
    "train.head()"
   ]
  },
  {
   "cell_type": "code",
   "execution_count": 29,
   "metadata": {},
   "outputs": [
    {
     "data": {
      "text/plain": [
       "(1609122, 14)"
      ]
     },
     "execution_count": 29,
     "metadata": {},
     "output_type": "execute_result"
    }
   ],
   "source": [
    "train.shape"
   ]
  },
  {
   "cell_type": "code",
   "execution_count": 30,
   "metadata": {},
   "outputs": [
    {
     "data": {
      "text/html": [
       "<div>\n",
       "<style scoped>\n",
       "    .dataframe tbody tr th:only-of-type {\n",
       "        vertical-align: middle;\n",
       "    }\n",
       "\n",
       "    .dataframe tbody tr th {\n",
       "        vertical-align: top;\n",
       "    }\n",
       "\n",
       "    .dataframe thead th {\n",
       "        text-align: right;\n",
       "    }\n",
       "</style>\n",
       "<table border=\"1\" class=\"dataframe\">\n",
       "  <thead>\n",
       "    <tr style=\"text-align: right;\">\n",
       "      <th></th>\n",
       "      <th>date_block_num</th>\n",
       "      <th>shop_id</th>\n",
       "      <th>item_id</th>\n",
       "      <th>month</th>\n",
       "      <th>year</th>\n",
       "      <th>item_cnt_month</th>\n",
       "      <th>item_cnt_month_mean</th>\n",
       "      <th>item_name</th>\n",
       "      <th>item_category_id</th>\n",
       "      <th>item_name_length</th>\n",
       "      <th>item_name_word_count</th>\n",
       "      <th>item_category_name</th>\n",
       "      <th>item_categories_name_length</th>\n",
       "      <th>item_categories_name_word_count</th>\n",
       "      <th>shop_name</th>\n",
       "      <th>shop_name_length</th>\n",
       "      <th>shop_name_word_count</th>\n",
       "    </tr>\n",
       "  </thead>\n",
       "  <tbody>\n",
       "    <tr>\n",
       "      <th>0</th>\n",
       "      <td>0</td>\n",
       "      <td>0</td>\n",
       "      <td>32</td>\n",
       "      <td>1</td>\n",
       "      <td>2013</td>\n",
       "      <td>6.0</td>\n",
       "      <td>8.0</td>\n",
       "      <td>1+1</td>\n",
       "      <td>40</td>\n",
       "      <td>3</td>\n",
       "      <td>1</td>\n",
       "      <td>Кино - DVD</td>\n",
       "      <td>10</td>\n",
       "      <td>3</td>\n",
       "      <td>!Якутск Орджоникидзе, 56 фран</td>\n",
       "      <td>29</td>\n",
       "      <td>4</td>\n",
       "    </tr>\n",
       "    <tr>\n",
       "      <th>1</th>\n",
       "      <td>0</td>\n",
       "      <td>0</td>\n",
       "      <td>33</td>\n",
       "      <td>1</td>\n",
       "      <td>2013</td>\n",
       "      <td>3.0</td>\n",
       "      <td>3.0</td>\n",
       "      <td>1+1 (BD)</td>\n",
       "      <td>37</td>\n",
       "      <td>8</td>\n",
       "      <td>2</td>\n",
       "      <td>Кино - Blu-Ray</td>\n",
       "      <td>14</td>\n",
       "      <td>3</td>\n",
       "      <td>!Якутск Орджоникидзе, 56 фран</td>\n",
       "      <td>29</td>\n",
       "      <td>4</td>\n",
       "    </tr>\n",
       "    <tr>\n",
       "      <th>2</th>\n",
       "      <td>0</td>\n",
       "      <td>0</td>\n",
       "      <td>35</td>\n",
       "      <td>1</td>\n",
       "      <td>2013</td>\n",
       "      <td>1.0</td>\n",
       "      <td>7.5</td>\n",
       "      <td>10 ЛЕТ СПУСТЯ</td>\n",
       "      <td>40</td>\n",
       "      <td>13</td>\n",
       "      <td>3</td>\n",
       "      <td>Кино - DVD</td>\n",
       "      <td>10</td>\n",
       "      <td>3</td>\n",
       "      <td>!Якутск Орджоникидзе, 56 фран</td>\n",
       "      <td>29</td>\n",
       "      <td>4</td>\n",
       "    </tr>\n",
       "    <tr>\n",
       "      <th>3</th>\n",
       "      <td>0</td>\n",
       "      <td>0</td>\n",
       "      <td>43</td>\n",
       "      <td>1</td>\n",
       "      <td>2013</td>\n",
       "      <td>1.0</td>\n",
       "      <td>1.0</td>\n",
       "      <td>100 МИЛЛИОНОВ ЕВРО</td>\n",
       "      <td>40</td>\n",
       "      <td>18</td>\n",
       "      <td>3</td>\n",
       "      <td>Кино - DVD</td>\n",
       "      <td>10</td>\n",
       "      <td>3</td>\n",
       "      <td>!Якутск Орджоникидзе, 56 фран</td>\n",
       "      <td>29</td>\n",
       "      <td>4</td>\n",
       "    </tr>\n",
       "    <tr>\n",
       "      <th>4</th>\n",
       "      <td>0</td>\n",
       "      <td>0</td>\n",
       "      <td>51</td>\n",
       "      <td>1</td>\n",
       "      <td>2013</td>\n",
       "      <td>2.0</td>\n",
       "      <td>2.5</td>\n",
       "      <td>100 лучших произведений классики (mp3-CD) (Dig...</td>\n",
       "      <td>57</td>\n",
       "      <td>52</td>\n",
       "      <td>6</td>\n",
       "      <td>Музыка - MP3</td>\n",
       "      <td>12</td>\n",
       "      <td>3</td>\n",
       "      <td>!Якутск Орджоникидзе, 56 фран</td>\n",
       "      <td>29</td>\n",
       "      <td>4</td>\n",
       "    </tr>\n",
       "  </tbody>\n",
       "</table>\n",
       "</div>"
      ],
      "text/plain": [
       "   date_block_num  shop_id  item_id  month  year  item_cnt_month  \\\n",
       "0               0        0       32      1  2013             6.0   \n",
       "1               0        0       33      1  2013             3.0   \n",
       "2               0        0       35      1  2013             1.0   \n",
       "3               0        0       43      1  2013             1.0   \n",
       "4               0        0       51      1  2013             2.0   \n",
       "\n",
       "   item_cnt_month_mean                                          item_name  \\\n",
       "0                  8.0                                                1+1   \n",
       "1                  3.0                                           1+1 (BD)   \n",
       "2                  7.5                                      10 ЛЕТ СПУСТЯ   \n",
       "3                  1.0                                 100 МИЛЛИОНОВ ЕВРО   \n",
       "4                  2.5  100 лучших произведений классики (mp3-CD) (Dig...   \n",
       "\n",
       "   item_category_id  item_name_length  item_name_word_count  \\\n",
       "0                40                 3                     1   \n",
       "1                37                 8                     2   \n",
       "2                40                13                     3   \n",
       "3                40                18                     3   \n",
       "4                57                52                     6   \n",
       "\n",
       "  item_category_name  item_categories_name_length  \\\n",
       "0         Кино - DVD                           10   \n",
       "1     Кино - Blu-Ray                           14   \n",
       "2         Кино - DVD                           10   \n",
       "3         Кино - DVD                           10   \n",
       "4       Музыка - MP3                           12   \n",
       "\n",
       "   item_categories_name_word_count                      shop_name  \\\n",
       "0                                3  !Якутск Орджоникидзе, 56 фран   \n",
       "1                                3  !Якутск Орджоникидзе, 56 фран   \n",
       "2                                3  !Якутск Орджоникидзе, 56 фран   \n",
       "3                                3  !Якутск Орджоникидзе, 56 фран   \n",
       "4                                3  !Якутск Орджоникидзе, 56 фран   \n",
       "\n",
       "   shop_name_length  shop_name_word_count  \n",
       "0                29                     4  \n",
       "1                29                     4  \n",
       "2                29                     4  \n",
       "3                29                     4  \n",
       "4                29                     4  "
      ]
     },
     "execution_count": 30,
     "metadata": {},
     "output_type": "execute_result"
    }
   ],
   "source": [
    "train = pd.merge(train, shop, how='left', on=['shop_id'])\n",
    "train.head()"
   ]
  },
  {
   "cell_type": "code",
   "execution_count": 31,
   "metadata": {},
   "outputs": [
    {
     "data": {
      "text/plain": [
       "(1609122, 17)"
      ]
     },
     "execution_count": 31,
     "metadata": {},
     "output_type": "execute_result"
    }
   ],
   "source": [
    "train.shape"
   ]
  },
  {
   "cell_type": "code",
   "execution_count": 32,
   "metadata": {},
   "outputs": [],
   "source": [
    "#NOW test data"
   ]
  },
  {
   "cell_type": "code",
   "execution_count": 33,
   "metadata": {},
   "outputs": [
    {
     "data": {
      "text/html": [
       "<div>\n",
       "<style scoped>\n",
       "    .dataframe tbody tr th:only-of-type {\n",
       "        vertical-align: middle;\n",
       "    }\n",
       "\n",
       "    .dataframe tbody tr th {\n",
       "        vertical-align: top;\n",
       "    }\n",
       "\n",
       "    .dataframe thead th {\n",
       "        text-align: right;\n",
       "    }\n",
       "</style>\n",
       "<table border=\"1\" class=\"dataframe\">\n",
       "  <thead>\n",
       "    <tr style=\"text-align: right;\">\n",
       "      <th></th>\n",
       "      <th>ID</th>\n",
       "      <th>shop_id</th>\n",
       "      <th>item_id</th>\n",
       "      <th>month</th>\n",
       "      <th>year</th>\n",
       "      <th>date_block_num</th>\n",
       "    </tr>\n",
       "  </thead>\n",
       "  <tbody>\n",
       "    <tr>\n",
       "      <th>0</th>\n",
       "      <td>0</td>\n",
       "      <td>5</td>\n",
       "      <td>5037</td>\n",
       "      <td>11</td>\n",
       "      <td>2015</td>\n",
       "      <td>34</td>\n",
       "    </tr>\n",
       "    <tr>\n",
       "      <th>1</th>\n",
       "      <td>1</td>\n",
       "      <td>5</td>\n",
       "      <td>5320</td>\n",
       "      <td>11</td>\n",
       "      <td>2015</td>\n",
       "      <td>34</td>\n",
       "    </tr>\n",
       "    <tr>\n",
       "      <th>2</th>\n",
       "      <td>2</td>\n",
       "      <td>5</td>\n",
       "      <td>5233</td>\n",
       "      <td>11</td>\n",
       "      <td>2015</td>\n",
       "      <td>34</td>\n",
       "    </tr>\n",
       "    <tr>\n",
       "      <th>3</th>\n",
       "      <td>3</td>\n",
       "      <td>5</td>\n",
       "      <td>5232</td>\n",
       "      <td>11</td>\n",
       "      <td>2015</td>\n",
       "      <td>34</td>\n",
       "    </tr>\n",
       "    <tr>\n",
       "      <th>4</th>\n",
       "      <td>4</td>\n",
       "      <td>5</td>\n",
       "      <td>5268</td>\n",
       "      <td>11</td>\n",
       "      <td>2015</td>\n",
       "      <td>34</td>\n",
       "    </tr>\n",
       "  </tbody>\n",
       "</table>\n",
       "</div>"
      ],
      "text/plain": [
       "   ID  shop_id  item_id  month  year  date_block_num\n",
       "0   0        5     5037     11  2015              34\n",
       "1   1        5     5320     11  2015              34\n",
       "2   2        5     5233     11  2015              34\n",
       "3   3        5     5232     11  2015              34\n",
       "4   4        5     5268     11  2015              34"
      ]
     },
     "execution_count": 33,
     "metadata": {},
     "output_type": "execute_result"
    }
   ],
   "source": [
    "test['month'] = 11\n",
    "test['year'] = 2015\n",
    "test['date_block_num'] = 34\n",
    "test.head()"
   ]
  },
  {
   "cell_type": "code",
   "execution_count": 34,
   "metadata": {},
   "outputs": [
    {
     "data": {
      "text/plain": [
       "(214200, 6)"
      ]
     },
     "execution_count": 34,
     "metadata": {},
     "output_type": "execute_result"
    }
   ],
   "source": [
    "test.shape"
   ]
  },
  {
   "cell_type": "code",
   "execution_count": 35,
   "metadata": {},
   "outputs": [
    {
     "data": {
      "text/html": [
       "<div>\n",
       "<style scoped>\n",
       "    .dataframe tbody tr th:only-of-type {\n",
       "        vertical-align: middle;\n",
       "    }\n",
       "\n",
       "    .dataframe tbody tr th {\n",
       "        vertical-align: top;\n",
       "    }\n",
       "\n",
       "    .dataframe thead th {\n",
       "        text-align: right;\n",
       "    }\n",
       "</style>\n",
       "<table border=\"1\" class=\"dataframe\">\n",
       "  <thead>\n",
       "    <tr style=\"text-align: right;\">\n",
       "      <th></th>\n",
       "      <th>shop_id</th>\n",
       "      <th>item_id</th>\n",
       "      <th>item_cnt_month_mean</th>\n",
       "    </tr>\n",
       "  </thead>\n",
       "  <tbody>\n",
       "    <tr>\n",
       "      <th>0</th>\n",
       "      <td>0</td>\n",
       "      <td>30</td>\n",
       "      <td>31.0</td>\n",
       "    </tr>\n",
       "    <tr>\n",
       "      <th>1</th>\n",
       "      <td>0</td>\n",
       "      <td>31</td>\n",
       "      <td>11.0</td>\n",
       "    </tr>\n",
       "    <tr>\n",
       "      <th>2</th>\n",
       "      <td>0</td>\n",
       "      <td>32</td>\n",
       "      <td>8.0</td>\n",
       "    </tr>\n",
       "    <tr>\n",
       "      <th>3</th>\n",
       "      <td>0</td>\n",
       "      <td>33</td>\n",
       "      <td>3.0</td>\n",
       "    </tr>\n",
       "    <tr>\n",
       "      <th>4</th>\n",
       "      <td>0</td>\n",
       "      <td>35</td>\n",
       "      <td>7.5</td>\n",
       "    </tr>\n",
       "  </tbody>\n",
       "</table>\n",
       "</div>"
      ],
      "text/plain": [
       "   shop_id  item_id  item_cnt_month_mean\n",
       "0        0       30                 31.0\n",
       "1        0       31                 11.0\n",
       "2        0       32                  8.0\n",
       "3        0       33                  3.0\n",
       "4        0       35                  7.5"
      ]
     },
     "execution_count": 35,
     "metadata": {},
     "output_type": "execute_result"
    }
   ],
   "source": [
    "SIMA.head()"
   ]
  },
  {
   "cell_type": "code",
   "execution_count": 36,
   "metadata": {},
   "outputs": [
    {
     "data": {
      "text/plain": [
       "(424123, 3)"
      ]
     },
     "execution_count": 36,
     "metadata": {},
     "output_type": "execute_result"
    }
   ],
   "source": [
    "SIMA.shape"
   ]
  },
  {
   "cell_type": "code",
   "execution_count": 37,
   "metadata": {},
   "outputs": [
    {
     "name": "stdout",
     "output_type": "stream",
     "text": [
      "214200\n"
     ]
    }
   ],
   "source": [
    "test = pd.merge(test, SIMA, how='left', on=['shop_id', 'item_id'])\n",
    "print(len(test))"
   ]
  },
  {
   "cell_type": "code",
   "execution_count": 38,
   "metadata": {},
   "outputs": [
    {
     "data": {
      "text/html": [
       "<div>\n",
       "<style scoped>\n",
       "    .dataframe tbody tr th:only-of-type {\n",
       "        vertical-align: middle;\n",
       "    }\n",
       "\n",
       "    .dataframe tbody tr th {\n",
       "        vertical-align: top;\n",
       "    }\n",
       "\n",
       "    .dataframe thead th {\n",
       "        text-align: right;\n",
       "    }\n",
       "</style>\n",
       "<table border=\"1\" class=\"dataframe\">\n",
       "  <thead>\n",
       "    <tr style=\"text-align: right;\">\n",
       "      <th></th>\n",
       "      <th>ID</th>\n",
       "      <th>shop_id</th>\n",
       "      <th>item_id</th>\n",
       "      <th>month</th>\n",
       "      <th>year</th>\n",
       "      <th>date_block_num</th>\n",
       "      <th>item_cnt_month_mean</th>\n",
       "    </tr>\n",
       "  </thead>\n",
       "  <tbody>\n",
       "    <tr>\n",
       "      <th>0</th>\n",
       "      <td>0</td>\n",
       "      <td>5</td>\n",
       "      <td>5037</td>\n",
       "      <td>11</td>\n",
       "      <td>2015</td>\n",
       "      <td>34</td>\n",
       "      <td>1.444444</td>\n",
       "    </tr>\n",
       "    <tr>\n",
       "      <th>1</th>\n",
       "      <td>1</td>\n",
       "      <td>5</td>\n",
       "      <td>5320</td>\n",
       "      <td>11</td>\n",
       "      <td>2015</td>\n",
       "      <td>34</td>\n",
       "      <td>NaN</td>\n",
       "    </tr>\n",
       "    <tr>\n",
       "      <th>2</th>\n",
       "      <td>2</td>\n",
       "      <td>5</td>\n",
       "      <td>5233</td>\n",
       "      <td>11</td>\n",
       "      <td>2015</td>\n",
       "      <td>34</td>\n",
       "      <td>2.000000</td>\n",
       "    </tr>\n",
       "    <tr>\n",
       "      <th>3</th>\n",
       "      <td>3</td>\n",
       "      <td>5</td>\n",
       "      <td>5232</td>\n",
       "      <td>11</td>\n",
       "      <td>2015</td>\n",
       "      <td>34</td>\n",
       "      <td>1.000000</td>\n",
       "    </tr>\n",
       "    <tr>\n",
       "      <th>4</th>\n",
       "      <td>4</td>\n",
       "      <td>5</td>\n",
       "      <td>5268</td>\n",
       "      <td>11</td>\n",
       "      <td>2015</td>\n",
       "      <td>34</td>\n",
       "      <td>NaN</td>\n",
       "    </tr>\n",
       "  </tbody>\n",
       "</table>\n",
       "</div>"
      ],
      "text/plain": [
       "   ID  shop_id  item_id  month  year  date_block_num  item_cnt_month_mean\n",
       "0   0        5     5037     11  2015              34             1.444444\n",
       "1   1        5     5320     11  2015              34                  NaN\n",
       "2   2        5     5233     11  2015              34             2.000000\n",
       "3   3        5     5232     11  2015              34             1.000000\n",
       "4   4        5     5268     11  2015              34                  NaN"
      ]
     },
     "execution_count": 38,
     "metadata": {},
     "output_type": "execute_result"
    }
   ],
   "source": [
    "test.head()"
   ]
  },
  {
   "cell_type": "code",
   "execution_count": 39,
   "metadata": {},
   "outputs": [
    {
     "data": {
      "text/html": [
       "<div>\n",
       "<style scoped>\n",
       "    .dataframe tbody tr th:only-of-type {\n",
       "        vertical-align: middle;\n",
       "    }\n",
       "\n",
       "    .dataframe tbody tr th {\n",
       "        vertical-align: top;\n",
       "    }\n",
       "\n",
       "    .dataframe thead th {\n",
       "        text-align: right;\n",
       "    }\n",
       "</style>\n",
       "<table border=\"1\" class=\"dataframe\">\n",
       "  <thead>\n",
       "    <tr style=\"text-align: right;\">\n",
       "      <th></th>\n",
       "      <th>ID</th>\n",
       "      <th>shop_id</th>\n",
       "      <th>item_id</th>\n",
       "      <th>month</th>\n",
       "      <th>year</th>\n",
       "      <th>date_block_num</th>\n",
       "      <th>item_cnt_month_mean</th>\n",
       "      <th>item_name</th>\n",
       "      <th>item_category_id</th>\n",
       "      <th>item_name_length</th>\n",
       "      <th>item_name_word_count</th>\n",
       "    </tr>\n",
       "  </thead>\n",
       "  <tbody>\n",
       "    <tr>\n",
       "      <th>0</th>\n",
       "      <td>0</td>\n",
       "      <td>5</td>\n",
       "      <td>5037</td>\n",
       "      <td>11</td>\n",
       "      <td>2015</td>\n",
       "      <td>34</td>\n",
       "      <td>1.444444</td>\n",
       "      <td>NHL 15 [PS3, русские субтитры]</td>\n",
       "      <td>19</td>\n",
       "      <td>30</td>\n",
       "      <td>5</td>\n",
       "    </tr>\n",
       "    <tr>\n",
       "      <th>1</th>\n",
       "      <td>1</td>\n",
       "      <td>5</td>\n",
       "      <td>5320</td>\n",
       "      <td>11</td>\n",
       "      <td>2015</td>\n",
       "      <td>34</td>\n",
       "      <td>NaN</td>\n",
       "      <td>ONE DIRECTION  Made In The A.M.</td>\n",
       "      <td>55</td>\n",
       "      <td>31</td>\n",
       "      <td>7</td>\n",
       "    </tr>\n",
       "    <tr>\n",
       "      <th>2</th>\n",
       "      <td>2</td>\n",
       "      <td>5</td>\n",
       "      <td>5233</td>\n",
       "      <td>11</td>\n",
       "      <td>2015</td>\n",
       "      <td>34</td>\n",
       "      <td>2.000000</td>\n",
       "      <td>Need for Speed Rivals (Essentials) [PS3, русск...</td>\n",
       "      <td>19</td>\n",
       "      <td>56</td>\n",
       "      <td>8</td>\n",
       "    </tr>\n",
       "    <tr>\n",
       "      <th>3</th>\n",
       "      <td>3</td>\n",
       "      <td>5</td>\n",
       "      <td>5232</td>\n",
       "      <td>11</td>\n",
       "      <td>2015</td>\n",
       "      <td>34</td>\n",
       "      <td>1.000000</td>\n",
       "      <td>Need for Speed Rivals (Classics) [Xbox 360, ру...</td>\n",
       "      <td>23</td>\n",
       "      <td>59</td>\n",
       "      <td>9</td>\n",
       "    </tr>\n",
       "    <tr>\n",
       "      <th>4</th>\n",
       "      <td>4</td>\n",
       "      <td>5</td>\n",
       "      <td>5268</td>\n",
       "      <td>11</td>\n",
       "      <td>2015</td>\n",
       "      <td>34</td>\n",
       "      <td>NaN</td>\n",
       "      <td>Need for Speed [PS4, русская версия]</td>\n",
       "      <td>20</td>\n",
       "      <td>36</td>\n",
       "      <td>6</td>\n",
       "    </tr>\n",
       "  </tbody>\n",
       "</table>\n",
       "</div>"
      ],
      "text/plain": [
       "   ID  shop_id  item_id  month  year  date_block_num  item_cnt_month_mean  \\\n",
       "0   0        5     5037     11  2015              34             1.444444   \n",
       "1   1        5     5320     11  2015              34                  NaN   \n",
       "2   2        5     5233     11  2015              34             2.000000   \n",
       "3   3        5     5232     11  2015              34             1.000000   \n",
       "4   4        5     5268     11  2015              34                  NaN   \n",
       "\n",
       "                                           item_name  item_category_id  \\\n",
       "0                     NHL 15 [PS3, русские субтитры]                19   \n",
       "1                    ONE DIRECTION  Made In The A.M.                55   \n",
       "2  Need for Speed Rivals (Essentials) [PS3, русск...                19   \n",
       "3  Need for Speed Rivals (Classics) [Xbox 360, ру...                23   \n",
       "4               Need for Speed [PS4, русская версия]                20   \n",
       "\n",
       "   item_name_length  item_name_word_count  \n",
       "0                30                     5  \n",
       "1                31                     7  \n",
       "2                56                     8  \n",
       "3                59                     9  \n",
       "4                36                     6  "
      ]
     },
     "execution_count": 39,
     "metadata": {},
     "output_type": "execute_result"
    }
   ],
   "source": [
    "test = pd.merge(test, items, how='left', on='item_id')\n",
    "test.head()"
   ]
  },
  {
   "cell_type": "code",
   "execution_count": 40,
   "metadata": {},
   "outputs": [
    {
     "data": {
      "text/plain": [
       "(214200, 11)"
      ]
     },
     "execution_count": 40,
     "metadata": {},
     "output_type": "execute_result"
    }
   ],
   "source": [
    "test.shape"
   ]
  },
  {
   "cell_type": "code",
   "execution_count": 41,
   "metadata": {},
   "outputs": [
    {
     "data": {
      "text/plain": [
       "(214200, 14)"
      ]
     },
     "execution_count": 41,
     "metadata": {},
     "output_type": "execute_result"
    }
   ],
   "source": [
    "test = pd.merge(test, items_cat, how='left', on='item_category_id')\n",
    "test.shape"
   ]
  },
  {
   "cell_type": "code",
   "execution_count": 42,
   "metadata": {},
   "outputs": [
    {
     "data": {
      "text/plain": [
       "(214200, 17)"
      ]
     },
     "execution_count": 42,
     "metadata": {},
     "output_type": "execute_result"
    }
   ],
   "source": [
    "test = pd.merge(test, shop, how='left', on='shop_id')\n",
    "test.shape"
   ]
  },
  {
   "cell_type": "code",
   "execution_count": 43,
   "metadata": {},
   "outputs": [
    {
     "data": {
      "text/plain": [
       "(214200, 18)"
      ]
     },
     "execution_count": 43,
     "metadata": {},
     "output_type": "execute_result"
    }
   ],
   "source": [
    "test['item_cnt_month'] = 0.\n",
    "test.shape"
   ]
  },
  {
   "cell_type": "code",
   "execution_count": 44,
   "metadata": {},
   "outputs": [
    {
     "data": {
      "text/html": [
       "<div>\n",
       "<style scoped>\n",
       "    .dataframe tbody tr th:only-of-type {\n",
       "        vertical-align: middle;\n",
       "    }\n",
       "\n",
       "    .dataframe tbody tr th {\n",
       "        vertical-align: top;\n",
       "    }\n",
       "\n",
       "    .dataframe thead th {\n",
       "        text-align: right;\n",
       "    }\n",
       "</style>\n",
       "<table border=\"1\" class=\"dataframe\">\n",
       "  <thead>\n",
       "    <tr style=\"text-align: right;\">\n",
       "      <th></th>\n",
       "      <th>ID</th>\n",
       "      <th>shop_id</th>\n",
       "      <th>item_id</th>\n",
       "      <th>month</th>\n",
       "      <th>year</th>\n",
       "      <th>date_block_num</th>\n",
       "      <th>item_cnt_month_mean</th>\n",
       "      <th>item_name</th>\n",
       "      <th>item_category_id</th>\n",
       "      <th>item_name_length</th>\n",
       "      <th>item_name_word_count</th>\n",
       "      <th>item_category_name</th>\n",
       "      <th>item_categories_name_length</th>\n",
       "      <th>item_categories_name_word_count</th>\n",
       "      <th>shop_name</th>\n",
       "      <th>shop_name_length</th>\n",
       "      <th>shop_name_word_count</th>\n",
       "      <th>item_cnt_month</th>\n",
       "    </tr>\n",
       "  </thead>\n",
       "  <tbody>\n",
       "    <tr>\n",
       "      <th>0</th>\n",
       "      <td>0</td>\n",
       "      <td>5</td>\n",
       "      <td>5037</td>\n",
       "      <td>11</td>\n",
       "      <td>2015</td>\n",
       "      <td>34</td>\n",
       "      <td>1.444444</td>\n",
       "      <td>NHL 15 [PS3, русские субтитры]</td>\n",
       "      <td>19</td>\n",
       "      <td>30</td>\n",
       "      <td>5</td>\n",
       "      <td>Игры - PS3</td>\n",
       "      <td>10</td>\n",
       "      <td>3</td>\n",
       "      <td>Вологда ТРЦ \"Мармелад\"</td>\n",
       "      <td>22</td>\n",
       "      <td>3</td>\n",
       "      <td>0.0</td>\n",
       "    </tr>\n",
       "    <tr>\n",
       "      <th>1</th>\n",
       "      <td>1</td>\n",
       "      <td>5</td>\n",
       "      <td>5320</td>\n",
       "      <td>11</td>\n",
       "      <td>2015</td>\n",
       "      <td>34</td>\n",
       "      <td>NaN</td>\n",
       "      <td>ONE DIRECTION  Made In The A.M.</td>\n",
       "      <td>55</td>\n",
       "      <td>31</td>\n",
       "      <td>7</td>\n",
       "      <td>Музыка - CD локального производства</td>\n",
       "      <td>35</td>\n",
       "      <td>5</td>\n",
       "      <td>Вологда ТРЦ \"Мармелад\"</td>\n",
       "      <td>22</td>\n",
       "      <td>3</td>\n",
       "      <td>0.0</td>\n",
       "    </tr>\n",
       "    <tr>\n",
       "      <th>2</th>\n",
       "      <td>2</td>\n",
       "      <td>5</td>\n",
       "      <td>5233</td>\n",
       "      <td>11</td>\n",
       "      <td>2015</td>\n",
       "      <td>34</td>\n",
       "      <td>2.000000</td>\n",
       "      <td>Need for Speed Rivals (Essentials) [PS3, русск...</td>\n",
       "      <td>19</td>\n",
       "      <td>56</td>\n",
       "      <td>8</td>\n",
       "      <td>Игры - PS3</td>\n",
       "      <td>10</td>\n",
       "      <td>3</td>\n",
       "      <td>Вологда ТРЦ \"Мармелад\"</td>\n",
       "      <td>22</td>\n",
       "      <td>3</td>\n",
       "      <td>0.0</td>\n",
       "    </tr>\n",
       "    <tr>\n",
       "      <th>3</th>\n",
       "      <td>3</td>\n",
       "      <td>5</td>\n",
       "      <td>5232</td>\n",
       "      <td>11</td>\n",
       "      <td>2015</td>\n",
       "      <td>34</td>\n",
       "      <td>1.000000</td>\n",
       "      <td>Need for Speed Rivals (Classics) [Xbox 360, ру...</td>\n",
       "      <td>23</td>\n",
       "      <td>59</td>\n",
       "      <td>9</td>\n",
       "      <td>Игры - XBOX 360</td>\n",
       "      <td>15</td>\n",
       "      <td>4</td>\n",
       "      <td>Вологда ТРЦ \"Мармелад\"</td>\n",
       "      <td>22</td>\n",
       "      <td>3</td>\n",
       "      <td>0.0</td>\n",
       "    </tr>\n",
       "    <tr>\n",
       "      <th>4</th>\n",
       "      <td>4</td>\n",
       "      <td>5</td>\n",
       "      <td>5268</td>\n",
       "      <td>11</td>\n",
       "      <td>2015</td>\n",
       "      <td>34</td>\n",
       "      <td>NaN</td>\n",
       "      <td>Need for Speed [PS4, русская версия]</td>\n",
       "      <td>20</td>\n",
       "      <td>36</td>\n",
       "      <td>6</td>\n",
       "      <td>Игры - PS4</td>\n",
       "      <td>10</td>\n",
       "      <td>3</td>\n",
       "      <td>Вологда ТРЦ \"Мармелад\"</td>\n",
       "      <td>22</td>\n",
       "      <td>3</td>\n",
       "      <td>0.0</td>\n",
       "    </tr>\n",
       "  </tbody>\n",
       "</table>\n",
       "</div>"
      ],
      "text/plain": [
       "   ID  shop_id  item_id  month  year  date_block_num  item_cnt_month_mean  \\\n",
       "0   0        5     5037     11  2015              34             1.444444   \n",
       "1   1        5     5320     11  2015              34                  NaN   \n",
       "2   2        5     5233     11  2015              34             2.000000   \n",
       "3   3        5     5232     11  2015              34             1.000000   \n",
       "4   4        5     5268     11  2015              34                  NaN   \n",
       "\n",
       "                                           item_name  item_category_id  \\\n",
       "0                     NHL 15 [PS3, русские субтитры]                19   \n",
       "1                    ONE DIRECTION  Made In The A.M.                55   \n",
       "2  Need for Speed Rivals (Essentials) [PS3, русск...                19   \n",
       "3  Need for Speed Rivals (Classics) [Xbox 360, ру...                23   \n",
       "4               Need for Speed [PS4, русская версия]                20   \n",
       "\n",
       "   item_name_length  item_name_word_count  \\\n",
       "0                30                     5   \n",
       "1                31                     7   \n",
       "2                56                     8   \n",
       "3                59                     9   \n",
       "4                36                     6   \n",
       "\n",
       "                    item_category_name  item_categories_name_length  \\\n",
       "0                           Игры - PS3                           10   \n",
       "1  Музыка - CD локального производства                           35   \n",
       "2                           Игры - PS3                           10   \n",
       "3                      Игры - XBOX 360                           15   \n",
       "4                           Игры - PS4                           10   \n",
       "\n",
       "   item_categories_name_word_count               shop_name  shop_name_length  \\\n",
       "0                                3  Вологда ТРЦ \"Мармелад\"                22   \n",
       "1                                5  Вологда ТРЦ \"Мармелад\"                22   \n",
       "2                                3  Вологда ТРЦ \"Мармелад\"                22   \n",
       "3                                4  Вологда ТРЦ \"Мармелад\"                22   \n",
       "4                                3  Вологда ТРЦ \"Мармелад\"                22   \n",
       "\n",
       "   shop_name_word_count  item_cnt_month  \n",
       "0                     3             0.0  \n",
       "1                     3             0.0  \n",
       "2                     3             0.0  \n",
       "3                     3             0.0  \n",
       "4                     3             0.0  "
      ]
     },
     "execution_count": 44,
     "metadata": {},
     "output_type": "execute_result"
    }
   ],
   "source": [
    "test.head()"
   ]
  },
  {
   "cell_type": "code",
   "execution_count": 45,
   "metadata": {},
   "outputs": [
    {
     "data": {
      "text/plain": [
       "(1609122, 17)"
      ]
     },
     "execution_count": 45,
     "metadata": {},
     "output_type": "execute_result"
    }
   ],
   "source": [
    "train.shape"
   ]
  },
  {
   "cell_type": "code",
   "execution_count": 46,
   "metadata": {},
   "outputs": [
    {
     "data": {
      "text/html": [
       "<div>\n",
       "<style scoped>\n",
       "    .dataframe tbody tr th:only-of-type {\n",
       "        vertical-align: middle;\n",
       "    }\n",
       "\n",
       "    .dataframe tbody tr th {\n",
       "        vertical-align: top;\n",
       "    }\n",
       "\n",
       "    .dataframe thead th {\n",
       "        text-align: right;\n",
       "    }\n",
       "</style>\n",
       "<table border=\"1\" class=\"dataframe\">\n",
       "  <thead>\n",
       "    <tr style=\"text-align: right;\">\n",
       "      <th></th>\n",
       "      <th>date_block_num</th>\n",
       "      <th>shop_id</th>\n",
       "      <th>item_id</th>\n",
       "      <th>month</th>\n",
       "      <th>year</th>\n",
       "      <th>item_cnt_month</th>\n",
       "      <th>item_cnt_month_mean</th>\n",
       "      <th>item_name</th>\n",
       "      <th>item_category_id</th>\n",
       "      <th>item_name_length</th>\n",
       "      <th>item_name_word_count</th>\n",
       "      <th>item_category_name</th>\n",
       "      <th>item_categories_name_length</th>\n",
       "      <th>item_categories_name_word_count</th>\n",
       "      <th>shop_name</th>\n",
       "      <th>shop_name_length</th>\n",
       "      <th>shop_name_word_count</th>\n",
       "    </tr>\n",
       "  </thead>\n",
       "  <tbody>\n",
       "    <tr>\n",
       "      <th>0</th>\n",
       "      <td>0</td>\n",
       "      <td>0</td>\n",
       "      <td>32</td>\n",
       "      <td>1</td>\n",
       "      <td>2013</td>\n",
       "      <td>6.0</td>\n",
       "      <td>8.0</td>\n",
       "      <td>1+1</td>\n",
       "      <td>40</td>\n",
       "      <td>3</td>\n",
       "      <td>1</td>\n",
       "      <td>Кино - DVD</td>\n",
       "      <td>10</td>\n",
       "      <td>3</td>\n",
       "      <td>!Якутск Орджоникидзе, 56 фран</td>\n",
       "      <td>29</td>\n",
       "      <td>4</td>\n",
       "    </tr>\n",
       "    <tr>\n",
       "      <th>1</th>\n",
       "      <td>0</td>\n",
       "      <td>0</td>\n",
       "      <td>33</td>\n",
       "      <td>1</td>\n",
       "      <td>2013</td>\n",
       "      <td>3.0</td>\n",
       "      <td>3.0</td>\n",
       "      <td>1+1 (BD)</td>\n",
       "      <td>37</td>\n",
       "      <td>8</td>\n",
       "      <td>2</td>\n",
       "      <td>Кино - Blu-Ray</td>\n",
       "      <td>14</td>\n",
       "      <td>3</td>\n",
       "      <td>!Якутск Орджоникидзе, 56 фран</td>\n",
       "      <td>29</td>\n",
       "      <td>4</td>\n",
       "    </tr>\n",
       "    <tr>\n",
       "      <th>2</th>\n",
       "      <td>0</td>\n",
       "      <td>0</td>\n",
       "      <td>35</td>\n",
       "      <td>1</td>\n",
       "      <td>2013</td>\n",
       "      <td>1.0</td>\n",
       "      <td>7.5</td>\n",
       "      <td>10 ЛЕТ СПУСТЯ</td>\n",
       "      <td>40</td>\n",
       "      <td>13</td>\n",
       "      <td>3</td>\n",
       "      <td>Кино - DVD</td>\n",
       "      <td>10</td>\n",
       "      <td>3</td>\n",
       "      <td>!Якутск Орджоникидзе, 56 фран</td>\n",
       "      <td>29</td>\n",
       "      <td>4</td>\n",
       "    </tr>\n",
       "    <tr>\n",
       "      <th>3</th>\n",
       "      <td>0</td>\n",
       "      <td>0</td>\n",
       "      <td>43</td>\n",
       "      <td>1</td>\n",
       "      <td>2013</td>\n",
       "      <td>1.0</td>\n",
       "      <td>1.0</td>\n",
       "      <td>100 МИЛЛИОНОВ ЕВРО</td>\n",
       "      <td>40</td>\n",
       "      <td>18</td>\n",
       "      <td>3</td>\n",
       "      <td>Кино - DVD</td>\n",
       "      <td>10</td>\n",
       "      <td>3</td>\n",
       "      <td>!Якутск Орджоникидзе, 56 фран</td>\n",
       "      <td>29</td>\n",
       "      <td>4</td>\n",
       "    </tr>\n",
       "    <tr>\n",
       "      <th>4</th>\n",
       "      <td>0</td>\n",
       "      <td>0</td>\n",
       "      <td>51</td>\n",
       "      <td>1</td>\n",
       "      <td>2013</td>\n",
       "      <td>2.0</td>\n",
       "      <td>2.5</td>\n",
       "      <td>100 лучших произведений классики (mp3-CD) (Dig...</td>\n",
       "      <td>57</td>\n",
       "      <td>52</td>\n",
       "      <td>6</td>\n",
       "      <td>Музыка - MP3</td>\n",
       "      <td>12</td>\n",
       "      <td>3</td>\n",
       "      <td>!Якутск Орджоникидзе, 56 фран</td>\n",
       "      <td>29</td>\n",
       "      <td>4</td>\n",
       "    </tr>\n",
       "  </tbody>\n",
       "</table>\n",
       "</div>"
      ],
      "text/plain": [
       "   date_block_num  shop_id  item_id  month  year  item_cnt_month  \\\n",
       "0               0        0       32      1  2013             6.0   \n",
       "1               0        0       33      1  2013             3.0   \n",
       "2               0        0       35      1  2013             1.0   \n",
       "3               0        0       43      1  2013             1.0   \n",
       "4               0        0       51      1  2013             2.0   \n",
       "\n",
       "   item_cnt_month_mean                                          item_name  \\\n",
       "0                  8.0                                                1+1   \n",
       "1                  3.0                                           1+1 (BD)   \n",
       "2                  7.5                                      10 ЛЕТ СПУСТЯ   \n",
       "3                  1.0                                 100 МИЛЛИОНОВ ЕВРО   \n",
       "4                  2.5  100 лучших произведений классики (mp3-CD) (Dig...   \n",
       "\n",
       "   item_category_id  item_name_length  item_name_word_count  \\\n",
       "0                40                 3                     1   \n",
       "1                37                 8                     2   \n",
       "2                40                13                     3   \n",
       "3                40                18                     3   \n",
       "4                57                52                     6   \n",
       "\n",
       "  item_category_name  item_categories_name_length  \\\n",
       "0         Кино - DVD                           10   \n",
       "1     Кино - Blu-Ray                           14   \n",
       "2         Кино - DVD                           10   \n",
       "3         Кино - DVD                           10   \n",
       "4       Музыка - MP3                           12   \n",
       "\n",
       "   item_categories_name_word_count                      shop_name  \\\n",
       "0                                3  !Якутск Орджоникидзе, 56 фран   \n",
       "1                                3  !Якутск Орджоникидзе, 56 фран   \n",
       "2                                3  !Якутск Орджоникидзе, 56 фран   \n",
       "3                                3  !Якутск Орджоникидзе, 56 фран   \n",
       "4                                3  !Якутск Орджоникидзе, 56 фран   \n",
       "\n",
       "   shop_name_length  shop_name_word_count  \n",
       "0                29                     4  \n",
       "1                29                     4  \n",
       "2                29                     4  \n",
       "3                29                     4  \n",
       "4                29                     4  "
      ]
     },
     "execution_count": 46,
     "metadata": {},
     "output_type": "execute_result"
    }
   ],
   "source": [
    "train.head()"
   ]
  },
  {
   "cell_type": "code",
   "execution_count": 47,
   "metadata": {},
   "outputs": [],
   "source": [
    "import sklearn\n",
    "import nltk"
   ]
  },
  {
   "cell_type": "code",
   "execution_count": 47,
   "metadata": {},
   "outputs": [
    {
     "name": "stdout",
     "output_type": "stream",
     "text": [
      "shop_name\n",
      "item_category_name\n",
      "item_name\n"
     ]
    }
   ],
   "source": [
    "for c in ['shop_name', 'item_category_name', 'item_name']:\n",
    "    le = sklearn.preprocessing.LabelEncoder()\n",
    "    le.fit(list(train[c].unique()) + list(test[c].unique()))\n",
    "    train[c] = le.transform(train[c].astype(str))\n",
    "    test[c] = le.transform(test[c].astype(str))\n",
    "    print(c)"
   ]
  },
  {
   "cell_type": "code",
   "execution_count": 48,
   "metadata": {},
   "outputs": [],
   "source": [
    "leI = sklearn.preprocessing.LabelEncoder()"
   ]
  },
  {
   "cell_type": "code",
   "execution_count": 49,
   "metadata": {},
   "outputs": [
    {
     "data": {
      "text/plain": [
       "LabelEncoder()"
      ]
     },
     "execution_count": 49,
     "metadata": {},
     "output_type": "execute_result"
    }
   ],
   "source": [
    "leI.fit(list(items['item_name'].unique()))"
   ]
  },
  {
   "cell_type": "code",
   "execution_count": 50,
   "metadata": {},
   "outputs": [],
   "source": [
    "train['item_name'] = leI.transform(train['item_name'].astype(str))\n",
    "test['item_name'] = leI.transform(test['item_name'].astype(str))"
   ]
  },
  {
   "cell_type": "code",
   "execution_count": 51,
   "metadata": {},
   "outputs": [],
   "source": [
    "leS = sklearn.preprocessing.LabelEncoder()"
   ]
  },
  {
   "cell_type": "code",
   "execution_count": 52,
   "metadata": {},
   "outputs": [
    {
     "data": {
      "text/plain": [
       "LabelEncoder()"
      ]
     },
     "execution_count": 52,
     "metadata": {},
     "output_type": "execute_result"
    }
   ],
   "source": [
    "leS.fit(list(shop['shop_name'].unique()))"
   ]
  },
  {
   "cell_type": "code",
   "execution_count": 53,
   "metadata": {},
   "outputs": [],
   "source": [
    "train['shop_name'] = leS.transform(train['shop_name'].astype(str))\n",
    "test['shop_name'] = leS.transform(test['shop_name'].astype(str))"
   ]
  },
  {
   "cell_type": "code",
   "execution_count": 54,
   "metadata": {},
   "outputs": [],
   "source": [
    "leIC = sklearn.preprocessing.LabelEncoder()"
   ]
  },
  {
   "cell_type": "code",
   "execution_count": 55,
   "metadata": {},
   "outputs": [
    {
     "data": {
      "text/plain": [
       "LabelEncoder()"
      ]
     },
     "execution_count": 55,
     "metadata": {},
     "output_type": "execute_result"
    }
   ],
   "source": [
    "leIC.fit(list(items_cat['item_category_name'].unique()))"
   ]
  },
  {
   "cell_type": "code",
   "execution_count": 56,
   "metadata": {},
   "outputs": [],
   "source": [
    "train['item_category_name'] = leIC.transform(train['item_category_name'].astype(str))\n",
    "test['item_category_name'] = leIC.transform(test['item_category_name'].astype(str))\n"
   ]
  },
  {
   "cell_type": "code",
   "execution_count": null,
   "metadata": {},
   "outputs": [],
   "source": []
  },
  {
   "cell_type": "code",
   "execution_count": null,
   "metadata": {},
   "outputs": [],
   "source": []
  },
  {
   "cell_type": "code",
   "execution_count": 57,
   "metadata": {},
   "outputs": [
    {
     "name": "stdout",
     "output_type": "stream",
     "text": [
      "<class 'pandas.core.frame.DataFrame'>\n",
      "Int64Index: 1609122 entries, 0 to 1609121\n",
      "Data columns (total 17 columns):\n",
      "date_block_num                     1609122 non-null int64\n",
      "shop_id                            1609122 non-null int64\n",
      "item_id                            1609122 non-null int64\n",
      "month                              1609122 non-null int64\n",
      "year                               1609122 non-null int64\n",
      "item_cnt_month                     1609122 non-null float64\n",
      "item_cnt_month_mean                1609122 non-null float64\n",
      "item_name                          1609122 non-null int32\n",
      "item_category_id                   1609122 non-null int64\n",
      "item_name_length                   1609122 non-null int64\n",
      "item_name_word_count               1609122 non-null int64\n",
      "item_category_name                 1609122 non-null int32\n",
      "item_categories_name_length        1609122 non-null int64\n",
      "item_categories_name_word_count    1609122 non-null int64\n",
      "shop_name                          1609122 non-null int32\n",
      "shop_name_length                   1609122 non-null int64\n",
      "shop_name_word_count               1609122 non-null int64\n",
      "dtypes: float64(2), int32(3), int64(12)\n",
      "memory usage: 202.6 MB\n"
     ]
    }
   ],
   "source": [
    "train.info()"
   ]
  },
  {
   "cell_type": "code",
   "execution_count": 58,
   "metadata": {},
   "outputs": [
    {
     "name": "stdout",
     "output_type": "stream",
     "text": [
      "<class 'pandas.core.frame.DataFrame'>\n",
      "Int64Index: 214200 entries, 0 to 214199\n",
      "Data columns (total 18 columns):\n",
      "ID                                 214200 non-null int64\n",
      "shop_id                            214200 non-null int64\n",
      "item_id                            214200 non-null int64\n",
      "month                              214200 non-null int64\n",
      "year                               214200 non-null int64\n",
      "date_block_num                     214200 non-null int64\n",
      "item_cnt_month_mean                111404 non-null float64\n",
      "item_name                          214200 non-null int32\n",
      "item_category_id                   214200 non-null int64\n",
      "item_name_length                   214200 non-null int64\n",
      "item_name_word_count               214200 non-null int64\n",
      "item_category_name                 214200 non-null int32\n",
      "item_categories_name_length        214200 non-null int64\n",
      "item_categories_name_word_count    214200 non-null int64\n",
      "shop_name                          214200 non-null int32\n",
      "shop_name_length                   214200 non-null int64\n",
      "shop_name_word_count               214200 non-null int64\n",
      "item_cnt_month                     214200 non-null float64\n",
      "dtypes: float64(2), int32(3), int64(13)\n",
      "memory usage: 28.6 MB\n"
     ]
    }
   ],
   "source": [
    "test.info()"
   ]
  },
  {
   "cell_type": "code",
   "execution_count": 59,
   "metadata": {},
   "outputs": [],
   "source": [
    " feature_list = [c for c in train.columns if c not in 'item_cnt_month']"
   ]
  },
  {
   "cell_type": "code",
   "execution_count": null,
   "metadata": {},
   "outputs": [],
   "source": []
  },
  {
   "cell_type": "code",
   "execution_count": null,
   "metadata": {},
   "outputs": [],
   "source": []
  },
  {
   "cell_type": "code",
   "execution_count": null,
   "metadata": {},
   "outputs": [],
   "source": []
  },
  {
   "cell_type": "code",
   "execution_count": null,
   "metadata": {},
   "outputs": [],
   "source": []
  },
  {
   "cell_type": "code",
   "execution_count": null,
   "metadata": {},
   "outputs": [],
   "source": []
  },
  {
   "cell_type": "code",
   "execution_count": null,
   "metadata": {},
   "outputs": [],
   "source": []
  },
  {
   "cell_type": "code",
   "execution_count": null,
   "metadata": {},
   "outputs": [],
   "source": []
  },
  {
   "cell_type": "code",
   "execution_count": null,
   "metadata": {},
   "outputs": [],
   "source": []
  },
  {
   "cell_type": "code",
   "execution_count": null,
   "metadata": {},
   "outputs": [],
   "source": []
  },
  {
   "cell_type": "code",
   "execution_count": null,
   "metadata": {},
   "outputs": [],
   "source": []
  },
  {
   "cell_type": "code",
   "execution_count": null,
   "metadata": {},
   "outputs": [],
   "source": []
  },
  {
   "cell_type": "code",
   "execution_count": null,
   "metadata": {},
   "outputs": [],
   "source": [
    "\n"
   ]
  },
  {
   "cell_type": "code",
   "execution_count": null,
   "metadata": {},
   "outputs": [],
   "source": []
  },
  {
   "cell_type": "code",
   "execution_count": null,
   "metadata": {},
   "outputs": [],
   "source": []
  },
  {
   "cell_type": "code",
   "execution_count": null,
   "metadata": {},
   "outputs": [],
   "source": []
  },
  {
   "cell_type": "code",
   "execution_count": 60,
   "metadata": {},
   "outputs": [],
   "source": [
    "from sklearn.ensemble import RandomForestRegressor"
   ]
  },
  {
   "cell_type": "code",
   "execution_count": 52,
   "metadata": {},
   "outputs": [],
   "source": [
    "rf = RandomForestRegressor(n_estimators=25, random_state=42, max_depth=15, n_jobs=-1)"
   ]
  },
  {
   "cell_type": "code",
   "execution_count": null,
   "metadata": {},
   "outputs": [],
   "source": []
  },
  {
   "cell_type": "code",
   "execution_count": 53,
   "metadata": {},
   "outputs": [],
   "source": [
    "def algo_package(chunk,train_df):\n",
    "    x1 = train_df[train_df['date_block_num'] < chunk]\n",
    "    y1 = np.log1p(x1['item_cnt_month'].clip(0., 20.))\n",
    "    x1 = x1[feature_list]\n",
    "    x2 = train_df[train_df['date_block_num'] == chunk]\n",
    "    y2 = np.log1p(x2['item_cnt_month'].clip(0., 20.))\n",
    "    x2 = x2[feature_list]\n",
    "    rf.fit(x1, y1)\n",
    "    y2hat =rf.predict(x2)\n",
    "    val_rmse =    np.sqrt(sklearn.metrics.mean_squared_error(y2.clip(0., 20.), y2hat.clip(0., 20.)))\n",
    "    val_rsqaure =  sklearn.metrics.r2_score(y2.clip(0., 20.), y2hat.clip(0., 20.))\n",
    "    out = [val_rmse,val_rsqaure]\n",
    "    print(\"RMSE on :\",chunk,\"th date_block_num is :\",val_rmse)\n",
    "    print(\"R2 on : \",chunk,\"th dateblock_num is\",val_rsqaure)                          \n",
    "    return out\n",
    "\n",
    "\n",
    "\n",
    "\n"
   ]
  },
  {
   "cell_type": "code",
   "execution_count": 54,
   "metadata": {},
   "outputs": [
    {
     "name": "stdout",
     "output_type": "stream",
     "text": [
      "RMSE on : 5 th date_block_num is : 0.30682566838623143\n",
      "R2 on :  5 th dateblock_num is 0.5382973174664238\n",
      "RMSE on : 10 th date_block_num is : 0.3357850420387668\n",
      "R2 on :  10 th dateblock_num is 0.5362545418544299\n",
      "RMSE on : 15 th date_block_num is : 0.33786707169235464\n",
      "R2 on :  15 th dateblock_num is 0.39364576356004644\n",
      "RMSE on : 20 th date_block_num is : 0.33076253679137985\n",
      "R2 on :  20 th dateblock_num is 0.5081740455629851\n",
      "RMSE on : 25 th date_block_num is : 0.3279111946218033\n",
      "R2 on :  25 th dateblock_num is 0.4141022215816672\n",
      "RMSE on : 30 th date_block_num is : 0.2891013317676097\n",
      "R2 on :  30 th dateblock_num is 0.4695361584226212\n"
     ]
    }
   ],
   "source": [
    "i=1\n",
    "mat=[]\n",
    "while(5*i<33):\n",
    "        chunk=5*i\n",
    "        error=algo_package(chunk,train)\n",
    "        mat.append([chunk,error])\n",
    "        i=i+1\n",
    "\n",
    "        \n",
    "        "
   ]
  },
  {
   "cell_type": "code",
   "execution_count": null,
   "metadata": {},
   "outputs": [],
   "source": []
  },
  {
   "cell_type": "code",
   "execution_count": null,
   "metadata": {},
   "outputs": [],
   "source": []
  },
  {
   "cell_type": "code",
   "execution_count": 55,
   "metadata": {},
   "outputs": [
    {
     "name": "stdout",
     "output_type": "stream",
     "text": [
      "Accuracy on training data without considering variable importances:69.63\n"
     ]
    }
   ],
   "source": [
    "#Full train\n",
    "feature_list = [c for c in train.columns if c not in 'item_cnt_month']\n",
    "rf = RandomForestRegressor(n_estimators=25, random_state=42, max_depth=15, n_jobs=-1)\n",
    "rf.fit(train[feature_list], train['item_cnt_month'].clip(0., 20.))\n",
    "print(\"Accuracy on training data without considering variable importances:{}\".format(round(rf.score(train[feature_list], train['item_cnt_month'].clip(0., 20.))*100, 2)))\n"
   ]
  },
  {
   "cell_type": "code",
   "execution_count": 56,
   "metadata": {},
   "outputs": [
    {
     "name": "stdout",
     "output_type": "stream",
     "text": [
      "Variable: item_cnt_month_mean  Importance: 0.7\n",
      "Variable: date_block_num       Importance: 0.09\n",
      "Variable: item_id              Importance: 0.03\n",
      "Variable: item_name            Importance: 0.03\n",
      "Variable: item_name_length     Importance: 0.03\n",
      "Variable: shop_id              Importance: 0.01\n",
      "Variable: year                 Importance: 0.01\n",
      "Variable: item_category_id     Importance: 0.01\n",
      "Variable: item_name_word_count Importance: 0.01\n",
      "Variable: item_category_name   Importance: 0.01\n",
      "Variable: item_categories_name_length Importance: 0.01\n",
      "Variable: shop_name            Importance: 0.01\n",
      "Variable: shop_name_length     Importance: 0.01\n",
      "Variable: item_categories_name_word_count Importance: 0.0\n",
      "Variable: shop_name_word_count Importance: 0.0\n"
     ]
    }
   ],
   "source": [
    "importances = list(rf.feature_importances_)\n",
    "\n",
    "# List of tuples with variable and importance\n",
    "feature_importances = [(feature, round(importance, 2)) for feature, importance in zip(feature_list, importances)]\n",
    "\n",
    "# Sort the feature importances by most important first\n",
    "feature_importances = sorted(feature_importances, key = lambda x: x[1], reverse = True)\n",
    "\n",
    "# Print out the feature and importances \n",
    "[print('Variable: {:20} Importance: {}'.format(*pair)) for pair in feature_importances];"
   ]
  },
  {
   "cell_type": "code",
   "execution_count": 57,
   "metadata": {},
   "outputs": [
    {
     "data": {
      "image/png": "[encoded data removed]",
      "text/plain": [
       "<Figure size 1800x360 with 1 Axes>"
      ]
     },
     "metadata": {},
     "output_type": "display_data"
    }
   ],
   "source": [
    "# Set the style\n",
    "plt.style.use('fivethirtyeight')\n",
    "\n",
    "#set size\n",
    "fig = plt.figure(figsize=(25, 5))\n",
    "ax = fig.add_subplot(111)\n",
    "\n",
    "# list of x locations for plotting\n",
    "x_values = list(range(len(importances)))\n",
    "\n",
    "# Make a bar chart\n",
    "ax.bar(x_values, importances, orientation = 'vertical')\n",
    "\n",
    "# Tick labels for x axis\n",
    "plt.xticks(x_values, feature_list, rotation='vertical', fontsize=20)\n",
    "\n",
    "# Axis labels and title\n",
    "plt.ylabel('Importance'); plt.xlabel('Variable'); plt.title('Variable Importances');"
   ]
  },
  {
   "cell_type": "code",
   "execution_count": 63,
   "metadata": {},
   "outputs": [
    {
     "name": "stdout",
     "output_type": "stream",
     "text": [
      "Accuracy on training data considering variable importances:69.72\n"
     ]
    }
   ],
   "source": [
    "rf_most_important = RandomForestRegressor(n_estimators=25, random_state=42, max_depth=15, n_jobs=-1)\n",
    "\n",
    "# Extract the ten most important features\n",
    "important_features = ['item_cnt_month_mean', 'date_block_num', 'year','item_id', 'item_name', 'item_name_length','item_name_word_count', 'item_category_id' ,'item_category_name','item_categories_name_length','shop_id']\n",
    "\n",
    "#Full train\n",
    "rf_most_important.fit(train[important_features], train['item_cnt_month'].clip(0., 20.))\n",
    "print(\"Accuracy on training data considering variable importances:{}\".format(round(rf_most_important.score(train[important_features], train['item_cnt_month'].clip(0., 20.))*100, 2)))\n"
   ]
  },
  {
   "cell_type": "code",
   "execution_count": 96,
   "metadata": {},
   "outputs": [
    {
     "data": {
      "text/html": [
       "<div>\n",
       "<style scoped>\n",
       "    .dataframe tbody tr th:only-of-type {\n",
       "        vertical-align: middle;\n",
       "    }\n",
       "\n",
       "    .dataframe tbody tr th {\n",
       "        vertical-align: top;\n",
       "    }\n",
       "\n",
       "    .dataframe thead th {\n",
       "        text-align: right;\n",
       "    }\n",
       "</style>\n",
       "<table border=\"1\" class=\"dataframe\">\n",
       "  <thead>\n",
       "    <tr style=\"text-align: right;\">\n",
       "      <th></th>\n",
       "      <th>ID</th>\n",
       "      <th>shop_id</th>\n",
       "      <th>item_id</th>\n",
       "      <th>month</th>\n",
       "      <th>year</th>\n",
       "      <th>date_block_num</th>\n",
       "      <th>item_cnt_month_mean</th>\n",
       "      <th>item_name</th>\n",
       "      <th>item_category_id</th>\n",
       "      <th>item_name_length</th>\n",
       "      <th>item_name_word_count</th>\n",
       "      <th>item_category_name</th>\n",
       "      <th>item_categories_name_length</th>\n",
       "      <th>item_categories_name_word_count</th>\n",
       "      <th>shop_name</th>\n",
       "      <th>shop_name_length</th>\n",
       "      <th>shop_name_word_count</th>\n",
       "      <th>item_cnt_month</th>\n",
       "    </tr>\n",
       "  </thead>\n",
       "  <tbody>\n",
       "    <tr>\n",
       "      <th>0</th>\n",
       "      <td>0</td>\n",
       "      <td>5</td>\n",
       "      <td>5037</td>\n",
       "      <td>11</td>\n",
       "      <td>2015</td>\n",
       "      <td>34</td>\n",
       "      <td>1.444444</td>\n",
       "      <td>5037</td>\n",
       "      <td>19</td>\n",
       "      <td>30</td>\n",
       "      <td>5</td>\n",
       "      <td>19</td>\n",
       "      <td>10</td>\n",
       "      <td>3</td>\n",
       "      <td>5</td>\n",
       "      <td>22</td>\n",
       "      <td>3</td>\n",
       "      <td>0.0</td>\n",
       "    </tr>\n",
       "    <tr>\n",
       "      <th>1</th>\n",
       "      <td>1</td>\n",
       "      <td>5</td>\n",
       "      <td>5320</td>\n",
       "      <td>11</td>\n",
       "      <td>2015</td>\n",
       "      <td>34</td>\n",
       "      <td>0.000000</td>\n",
       "      <td>5320</td>\n",
       "      <td>55</td>\n",
       "      <td>31</td>\n",
       "      <td>7</td>\n",
       "      <td>55</td>\n",
       "      <td>35</td>\n",
       "      <td>5</td>\n",
       "      <td>5</td>\n",
       "      <td>22</td>\n",
       "      <td>3</td>\n",
       "      <td>0.0</td>\n",
       "    </tr>\n",
       "    <tr>\n",
       "      <th>2</th>\n",
       "      <td>2</td>\n",
       "      <td>5</td>\n",
       "      <td>5233</td>\n",
       "      <td>11</td>\n",
       "      <td>2015</td>\n",
       "      <td>34</td>\n",
       "      <td>2.000000</td>\n",
       "      <td>5233</td>\n",
       "      <td>19</td>\n",
       "      <td>56</td>\n",
       "      <td>8</td>\n",
       "      <td>19</td>\n",
       "      <td>10</td>\n",
       "      <td>3</td>\n",
       "      <td>5</td>\n",
       "      <td>22</td>\n",
       "      <td>3</td>\n",
       "      <td>0.0</td>\n",
       "    </tr>\n",
       "    <tr>\n",
       "      <th>3</th>\n",
       "      <td>3</td>\n",
       "      <td>5</td>\n",
       "      <td>5232</td>\n",
       "      <td>11</td>\n",
       "      <td>2015</td>\n",
       "      <td>34</td>\n",
       "      <td>1.000000</td>\n",
       "      <td>5232</td>\n",
       "      <td>23</td>\n",
       "      <td>59</td>\n",
       "      <td>9</td>\n",
       "      <td>23</td>\n",
       "      <td>15</td>\n",
       "      <td>4</td>\n",
       "      <td>5</td>\n",
       "      <td>22</td>\n",
       "      <td>3</td>\n",
       "      <td>0.0</td>\n",
       "    </tr>\n",
       "    <tr>\n",
       "      <th>4</th>\n",
       "      <td>4</td>\n",
       "      <td>5</td>\n",
       "      <td>5268</td>\n",
       "      <td>11</td>\n",
       "      <td>2015</td>\n",
       "      <td>34</td>\n",
       "      <td>0.000000</td>\n",
       "      <td>5268</td>\n",
       "      <td>20</td>\n",
       "      <td>36</td>\n",
       "      <td>6</td>\n",
       "      <td>20</td>\n",
       "      <td>10</td>\n",
       "      <td>3</td>\n",
       "      <td>5</td>\n",
       "      <td>22</td>\n",
       "      <td>3</td>\n",
       "      <td>0.0</td>\n",
       "    </tr>\n",
       "    <tr>\n",
       "      <th>5</th>\n",
       "      <td>5</td>\n",
       "      <td>5</td>\n",
       "      <td>5039</td>\n",
       "      <td>11</td>\n",
       "      <td>2015</td>\n",
       "      <td>34</td>\n",
       "      <td>1.833333</td>\n",
       "      <td>5039</td>\n",
       "      <td>23</td>\n",
       "      <td>35</td>\n",
       "      <td>6</td>\n",
       "      <td>23</td>\n",
       "      <td>15</td>\n",
       "      <td>4</td>\n",
       "      <td>5</td>\n",
       "      <td>22</td>\n",
       "      <td>3</td>\n",
       "      <td>0.0</td>\n",
       "    </tr>\n",
       "    <tr>\n",
       "      <th>6</th>\n",
       "      <td>6</td>\n",
       "      <td>5</td>\n",
       "      <td>5041</td>\n",
       "      <td>11</td>\n",
       "      <td>2015</td>\n",
       "      <td>34</td>\n",
       "      <td>2.500000</td>\n",
       "      <td>5041</td>\n",
       "      <td>20</td>\n",
       "      <td>30</td>\n",
       "      <td>5</td>\n",
       "      <td>20</td>\n",
       "      <td>10</td>\n",
       "      <td>3</td>\n",
       "      <td>5</td>\n",
       "      <td>22</td>\n",
       "      <td>3</td>\n",
       "      <td>0.0</td>\n",
       "    </tr>\n",
       "    <tr>\n",
       "      <th>7</th>\n",
       "      <td>7</td>\n",
       "      <td>5</td>\n",
       "      <td>5046</td>\n",
       "      <td>11</td>\n",
       "      <td>2015</td>\n",
       "      <td>34</td>\n",
       "      <td>2.000000</td>\n",
       "      <td>5046</td>\n",
       "      <td>55</td>\n",
       "      <td>28</td>\n",
       "      <td>5</td>\n",
       "      <td>55</td>\n",
       "      <td>35</td>\n",
       "      <td>5</td>\n",
       "      <td>5</td>\n",
       "      <td>22</td>\n",
       "      <td>3</td>\n",
       "      <td>0.0</td>\n",
       "    </tr>\n",
       "    <tr>\n",
       "      <th>8</th>\n",
       "      <td>8</td>\n",
       "      <td>5</td>\n",
       "      <td>5319</td>\n",
       "      <td>11</td>\n",
       "      <td>2015</td>\n",
       "      <td>34</td>\n",
       "      <td>5.727273</td>\n",
       "      <td>5319</td>\n",
       "      <td>55</td>\n",
       "      <td>19</td>\n",
       "      <td>4</td>\n",
       "      <td>55</td>\n",
       "      <td>35</td>\n",
       "      <td>5</td>\n",
       "      <td>5</td>\n",
       "      <td>22</td>\n",
       "      <td>3</td>\n",
       "      <td>0.0</td>\n",
       "    </tr>\n",
       "    <tr>\n",
       "      <th>9</th>\n",
       "      <td>9</td>\n",
       "      <td>5</td>\n",
       "      <td>5003</td>\n",
       "      <td>11</td>\n",
       "      <td>2015</td>\n",
       "      <td>34</td>\n",
       "      <td>0.000000</td>\n",
       "      <td>5003</td>\n",
       "      <td>20</td>\n",
       "      <td>36</td>\n",
       "      <td>5</td>\n",
       "      <td>20</td>\n",
       "      <td>10</td>\n",
       "      <td>3</td>\n",
       "      <td>5</td>\n",
       "      <td>22</td>\n",
       "      <td>3</td>\n",
       "      <td>0.0</td>\n",
       "    </tr>\n",
       "  </tbody>\n",
       "</table>\n",
       "</div>"
      ],
      "text/plain": [
       "   ID  shop_id  item_id  month  year  date_block_num  item_cnt_month_mean  \\\n",
       "0   0        5     5037     11  2015              34             1.444444   \n",
       "1   1        5     5320     11  2015              34             0.000000   \n",
       "2   2        5     5233     11  2015              34             2.000000   \n",
       "3   3        5     5232     11  2015              34             1.000000   \n",
       "4   4        5     5268     11  2015              34             0.000000   \n",
       "5   5        5     5039     11  2015              34             1.833333   \n",
       "6   6        5     5041     11  2015              34             2.500000   \n",
       "7   7        5     5046     11  2015              34             2.000000   \n",
       "8   8        5     5319     11  2015              34             5.727273   \n",
       "9   9        5     5003     11  2015              34             0.000000   \n",
       "\n",
       "   item_name  item_category_id  item_name_length  item_name_word_count  \\\n",
       "0       5037                19                30                     5   \n",
       "1       5320                55                31                     7   \n",
       "2       5233                19                56                     8   \n",
       "3       5232                23                59                     9   \n",
       "4       5268                20                36                     6   \n",
       "5       5039                23                35                     6   \n",
       "6       5041                20                30                     5   \n",
       "7       5046                55                28                     5   \n",
       "8       5319                55                19                     4   \n",
       "9       5003                20                36                     5   \n",
       "\n",
       "   item_category_name  item_categories_name_length  \\\n",
       "0                  19                           10   \n",
       "1                  55                           35   \n",
       "2                  19                           10   \n",
       "3                  23                           15   \n",
       "4                  20                           10   \n",
       "5                  23                           15   \n",
       "6                  20                           10   \n",
       "7                  55                           35   \n",
       "8                  55                           35   \n",
       "9                  20                           10   \n",
       "\n",
       "   item_categories_name_word_count  shop_name  shop_name_length  \\\n",
       "0                                3          5                22   \n",
       "1                                5          5                22   \n",
       "2                                3          5                22   \n",
       "3                                4          5                22   \n",
       "4                                3          5                22   \n",
       "5                                4          5                22   \n",
       "6                                3          5                22   \n",
       "7                                5          5                22   \n",
       "8                                5          5                22   \n",
       "9                                3          5                22   \n",
       "\n",
       "   shop_name_word_count  item_cnt_month  \n",
       "0                     3             0.0  \n",
       "1                     3             0.0  \n",
       "2                     3             0.0  \n",
       "3                     3             0.0  \n",
       "4                     3             0.0  \n",
       "5                     3             0.0  \n",
       "6                     3             0.0  \n",
       "7                     3             0.0  \n",
       "8                     3             0.0  \n",
       "9                     3             0.0  "
      ]
     },
     "execution_count": 96,
     "metadata": {},
     "output_type": "execute_result"
    }
   ],
   "source": [
    "test.head(10)"
   ]
  },
  {
   "cell_type": "code",
   "execution_count": 97,
   "metadata": {},
   "outputs": [
    {
     "data": {
      "text/html": [
       "<div>\n",
       "<style scoped>\n",
       "    .dataframe tbody tr th:only-of-type {\n",
       "        vertical-align: middle;\n",
       "    }\n",
       "\n",
       "    .dataframe tbody tr th {\n",
       "        vertical-align: top;\n",
       "    }\n",
       "\n",
       "    .dataframe thead th {\n",
       "        text-align: right;\n",
       "    }\n",
       "</style>\n",
       "<table border=\"1\" class=\"dataframe\">\n",
       "  <thead>\n",
       "    <tr style=\"text-align: right;\">\n",
       "      <th></th>\n",
       "      <th>ID</th>\n",
       "      <th>shop_id</th>\n",
       "      <th>item_id</th>\n",
       "      <th>month</th>\n",
       "      <th>year</th>\n",
       "      <th>date_block_num</th>\n",
       "      <th>item_cnt_month_mean</th>\n",
       "      <th>item_name</th>\n",
       "      <th>item_category_id</th>\n",
       "      <th>item_name_length</th>\n",
       "      <th>item_name_word_count</th>\n",
       "      <th>item_category_name</th>\n",
       "      <th>item_categories_name_length</th>\n",
       "      <th>item_categories_name_word_count</th>\n",
       "      <th>shop_name</th>\n",
       "      <th>shop_name_length</th>\n",
       "      <th>shop_name_word_count</th>\n",
       "      <th>item_cnt_month</th>\n",
       "    </tr>\n",
       "  </thead>\n",
       "  <tbody>\n",
       "    <tr>\n",
       "      <th>0</th>\n",
       "      <td>0</td>\n",
       "      <td>5</td>\n",
       "      <td>5037</td>\n",
       "      <td>11</td>\n",
       "      <td>2015</td>\n",
       "      <td>34</td>\n",
       "      <td>1.444444</td>\n",
       "      <td>5037</td>\n",
       "      <td>19</td>\n",
       "      <td>30</td>\n",
       "      <td>5</td>\n",
       "      <td>19</td>\n",
       "      <td>10</td>\n",
       "      <td>3</td>\n",
       "      <td>5</td>\n",
       "      <td>22</td>\n",
       "      <td>3</td>\n",
       "      <td>0.0</td>\n",
       "    </tr>\n",
       "    <tr>\n",
       "      <th>1</th>\n",
       "      <td>1</td>\n",
       "      <td>5</td>\n",
       "      <td>5320</td>\n",
       "      <td>11</td>\n",
       "      <td>2015</td>\n",
       "      <td>34</td>\n",
       "      <td>0.000000</td>\n",
       "      <td>5320</td>\n",
       "      <td>55</td>\n",
       "      <td>31</td>\n",
       "      <td>7</td>\n",
       "      <td>55</td>\n",
       "      <td>35</td>\n",
       "      <td>5</td>\n",
       "      <td>5</td>\n",
       "      <td>22</td>\n",
       "      <td>3</td>\n",
       "      <td>0.0</td>\n",
       "    </tr>\n",
       "    <tr>\n",
       "      <th>2</th>\n",
       "      <td>2</td>\n",
       "      <td>5</td>\n",
       "      <td>5233</td>\n",
       "      <td>11</td>\n",
       "      <td>2015</td>\n",
       "      <td>34</td>\n",
       "      <td>2.000000</td>\n",
       "      <td>5233</td>\n",
       "      <td>19</td>\n",
       "      <td>56</td>\n",
       "      <td>8</td>\n",
       "      <td>19</td>\n",
       "      <td>10</td>\n",
       "      <td>3</td>\n",
       "      <td>5</td>\n",
       "      <td>22</td>\n",
       "      <td>3</td>\n",
       "      <td>0.0</td>\n",
       "    </tr>\n",
       "    <tr>\n",
       "      <th>3</th>\n",
       "      <td>3</td>\n",
       "      <td>5</td>\n",
       "      <td>5232</td>\n",
       "      <td>11</td>\n",
       "      <td>2015</td>\n",
       "      <td>34</td>\n",
       "      <td>1.000000</td>\n",
       "      <td>5232</td>\n",
       "      <td>23</td>\n",
       "      <td>59</td>\n",
       "      <td>9</td>\n",
       "      <td>23</td>\n",
       "      <td>15</td>\n",
       "      <td>4</td>\n",
       "      <td>5</td>\n",
       "      <td>22</td>\n",
       "      <td>3</td>\n",
       "      <td>0.0</td>\n",
       "    </tr>\n",
       "    <tr>\n",
       "      <th>4</th>\n",
       "      <td>4</td>\n",
       "      <td>5</td>\n",
       "      <td>5268</td>\n",
       "      <td>11</td>\n",
       "      <td>2015</td>\n",
       "      <td>34</td>\n",
       "      <td>0.000000</td>\n",
       "      <td>5268</td>\n",
       "      <td>20</td>\n",
       "      <td>36</td>\n",
       "      <td>6</td>\n",
       "      <td>20</td>\n",
       "      <td>10</td>\n",
       "      <td>3</td>\n",
       "      <td>5</td>\n",
       "      <td>22</td>\n",
       "      <td>3</td>\n",
       "      <td>0.0</td>\n",
       "    </tr>\n",
       "  </tbody>\n",
       "</table>\n",
       "</div>"
      ],
      "text/plain": [
       "   ID  shop_id  item_id  month  year  date_block_num  item_cnt_month_mean  \\\n",
       "0   0        5     5037     11  2015              34             1.444444   \n",
       "1   1        5     5320     11  2015              34             0.000000   \n",
       "2   2        5     5233     11  2015              34             2.000000   \n",
       "3   3        5     5232     11  2015              34             1.000000   \n",
       "4   4        5     5268     11  2015              34             0.000000   \n",
       "\n",
       "   item_name  item_category_id  item_name_length  item_name_word_count  \\\n",
       "0       5037                19                30                     5   \n",
       "1       5320                55                31                     7   \n",
       "2       5233                19                56                     8   \n",
       "3       5232                23                59                     9   \n",
       "4       5268                20                36                     6   \n",
       "\n",
       "   item_category_name  item_categories_name_length  \\\n",
       "0                  19                           10   \n",
       "1                  55                           35   \n",
       "2                  19                           10   \n",
       "3                  23                           15   \n",
       "4                  20                           10   \n",
       "\n",
       "   item_categories_name_word_count  shop_name  shop_name_length  \\\n",
       "0                                3          5                22   \n",
       "1                                5          5                22   \n",
       "2                                3          5                22   \n",
       "3                                4          5                22   \n",
       "4                                3          5                22   \n",
       "\n",
       "   shop_name_word_count  item_cnt_month  \n",
       "0                     3             0.0  \n",
       "1                     3             0.0  \n",
       "2                     3             0.0  \n",
       "3                     3             0.0  \n",
       "4                     3             0.0  "
      ]
     },
     "execution_count": 97,
     "metadata": {},
     "output_type": "execute_result"
    }
   ],
   "source": [
    "test = test.fillna(0.)\n",
    "test['item_cnt_month'] = 0.\n",
    "test.head()"
   ]
  },
  {
   "cell_type": "code",
   "execution_count": 98,
   "metadata": {},
   "outputs": [
    {
     "data": {
      "text/html": [
       "<div>\n",
       "<style scoped>\n",
       "    .dataframe tbody tr th:only-of-type {\n",
       "        vertical-align: middle;\n",
       "    }\n",
       "\n",
       "    .dataframe tbody tr th {\n",
       "        vertical-align: top;\n",
       "    }\n",
       "\n",
       "    .dataframe thead th {\n",
       "        text-align: right;\n",
       "    }\n",
       "</style>\n",
       "<table border=\"1\" class=\"dataframe\">\n",
       "  <thead>\n",
       "    <tr style=\"text-align: right;\">\n",
       "      <th></th>\n",
       "      <th>item_cnt_month_mean</th>\n",
       "      <th>date_block_num</th>\n",
       "      <th>year</th>\n",
       "      <th>item_id</th>\n",
       "      <th>item_name</th>\n",
       "      <th>item_name_length</th>\n",
       "      <th>item_name_word_count</th>\n",
       "      <th>item_category_id</th>\n",
       "      <th>item_category_name</th>\n",
       "      <th>item_categories_name_length</th>\n",
       "      <th>shop_id</th>\n",
       "    </tr>\n",
       "  </thead>\n",
       "  <tbody>\n",
       "    <tr>\n",
       "      <th>0</th>\n",
       "      <td>8.0</td>\n",
       "      <td>0</td>\n",
       "      <td>2013</td>\n",
       "      <td>32</td>\n",
       "      <td>32</td>\n",
       "      <td>3</td>\n",
       "      <td>1</td>\n",
       "      <td>40</td>\n",
       "      <td>40</td>\n",
       "      <td>10</td>\n",
       "      <td>0</td>\n",
       "    </tr>\n",
       "    <tr>\n",
       "      <th>1</th>\n",
       "      <td>3.0</td>\n",
       "      <td>0</td>\n",
       "      <td>2013</td>\n",
       "      <td>33</td>\n",
       "      <td>33</td>\n",
       "      <td>8</td>\n",
       "      <td>2</td>\n",
       "      <td>37</td>\n",
       "      <td>37</td>\n",
       "      <td>14</td>\n",
       "      <td>0</td>\n",
       "    </tr>\n",
       "    <tr>\n",
       "      <th>2</th>\n",
       "      <td>7.5</td>\n",
       "      <td>0</td>\n",
       "      <td>2013</td>\n",
       "      <td>35</td>\n",
       "      <td>35</td>\n",
       "      <td>13</td>\n",
       "      <td>3</td>\n",
       "      <td>40</td>\n",
       "      <td>40</td>\n",
       "      <td>10</td>\n",
       "      <td>0</td>\n",
       "    </tr>\n",
       "    <tr>\n",
       "      <th>3</th>\n",
       "      <td>1.0</td>\n",
       "      <td>0</td>\n",
       "      <td>2013</td>\n",
       "      <td>43</td>\n",
       "      <td>43</td>\n",
       "      <td>18</td>\n",
       "      <td>3</td>\n",
       "      <td>40</td>\n",
       "      <td>40</td>\n",
       "      <td>10</td>\n",
       "      <td>0</td>\n",
       "    </tr>\n",
       "    <tr>\n",
       "      <th>4</th>\n",
       "      <td>2.5</td>\n",
       "      <td>0</td>\n",
       "      <td>2013</td>\n",
       "      <td>51</td>\n",
       "      <td>51</td>\n",
       "      <td>52</td>\n",
       "      <td>6</td>\n",
       "      <td>57</td>\n",
       "      <td>57</td>\n",
       "      <td>12</td>\n",
       "      <td>0</td>\n",
       "    </tr>\n",
       "  </tbody>\n",
       "</table>\n",
       "</div>"
      ],
      "text/plain": [
       "   item_cnt_month_mean  date_block_num  year  item_id  item_name  \\\n",
       "0                  8.0               0  2013       32         32   \n",
       "1                  3.0               0  2013       33         33   \n",
       "2                  7.5               0  2013       35         35   \n",
       "3                  1.0               0  2013       43         43   \n",
       "4                  2.5               0  2013       51         51   \n",
       "\n",
       "   item_name_length  item_name_word_count  item_category_id  \\\n",
       "0                 3                     1                40   \n",
       "1                 8                     2                37   \n",
       "2                13                     3                40   \n",
       "3                18                     3                40   \n",
       "4                52                     6                57   \n",
       "\n",
       "   item_category_name  item_categories_name_length  shop_id  \n",
       "0                  40                           10        0  \n",
       "1                  37                           14        0  \n",
       "2                  40                           10        0  \n",
       "3                  40                           10        0  \n",
       "4                  57                           12        0  "
      ]
     },
     "execution_count": 98,
     "metadata": {},
     "output_type": "execute_result"
    }
   ],
   "source": [
    "train[important_features].head(5)"
   ]
  },
  {
   "cell_type": "code",
   "execution_count": 99,
   "metadata": {},
   "outputs": [
    {
     "data": {
      "text/html": [
       "<div>\n",
       "<style scoped>\n",
       "    .dataframe tbody tr th:only-of-type {\n",
       "        vertical-align: middle;\n",
       "    }\n",
       "\n",
       "    .dataframe tbody tr th {\n",
       "        vertical-align: top;\n",
       "    }\n",
       "\n",
       "    .dataframe thead th {\n",
       "        text-align: right;\n",
       "    }\n",
       "</style>\n",
       "<table border=\"1\" class=\"dataframe\">\n",
       "  <thead>\n",
       "    <tr style=\"text-align: right;\">\n",
       "      <th></th>\n",
       "      <th>item_cnt_month_mean</th>\n",
       "      <th>date_block_num</th>\n",
       "      <th>year</th>\n",
       "      <th>item_id</th>\n",
       "      <th>item_name</th>\n",
       "      <th>item_name_length</th>\n",
       "      <th>item_name_word_count</th>\n",
       "      <th>item_category_id</th>\n",
       "      <th>item_category_name</th>\n",
       "      <th>item_categories_name_length</th>\n",
       "      <th>shop_id</th>\n",
       "    </tr>\n",
       "  </thead>\n",
       "  <tbody>\n",
       "    <tr>\n",
       "      <th>0</th>\n",
       "      <td>1.444444</td>\n",
       "      <td>34</td>\n",
       "      <td>2015</td>\n",
       "      <td>5037</td>\n",
       "      <td>5037</td>\n",
       "      <td>30</td>\n",
       "      <td>5</td>\n",
       "      <td>19</td>\n",
       "      <td>19</td>\n",
       "      <td>10</td>\n",
       "      <td>5</td>\n",
       "    </tr>\n",
       "    <tr>\n",
       "      <th>1</th>\n",
       "      <td>0.000000</td>\n",
       "      <td>34</td>\n",
       "      <td>2015</td>\n",
       "      <td>5320</td>\n",
       "      <td>5320</td>\n",
       "      <td>31</td>\n",
       "      <td>7</td>\n",
       "      <td>55</td>\n",
       "      <td>55</td>\n",
       "      <td>35</td>\n",
       "      <td>5</td>\n",
       "    </tr>\n",
       "    <tr>\n",
       "      <th>2</th>\n",
       "      <td>2.000000</td>\n",
       "      <td>34</td>\n",
       "      <td>2015</td>\n",
       "      <td>5233</td>\n",
       "      <td>5233</td>\n",
       "      <td>56</td>\n",
       "      <td>8</td>\n",
       "      <td>19</td>\n",
       "      <td>19</td>\n",
       "      <td>10</td>\n",
       "      <td>5</td>\n",
       "    </tr>\n",
       "    <tr>\n",
       "      <th>3</th>\n",
       "      <td>1.000000</td>\n",
       "      <td>34</td>\n",
       "      <td>2015</td>\n",
       "      <td>5232</td>\n",
       "      <td>5232</td>\n",
       "      <td>59</td>\n",
       "      <td>9</td>\n",
       "      <td>23</td>\n",
       "      <td>23</td>\n",
       "      <td>15</td>\n",
       "      <td>5</td>\n",
       "    </tr>\n",
       "    <tr>\n",
       "      <th>4</th>\n",
       "      <td>0.000000</td>\n",
       "      <td>34</td>\n",
       "      <td>2015</td>\n",
       "      <td>5268</td>\n",
       "      <td>5268</td>\n",
       "      <td>36</td>\n",
       "      <td>6</td>\n",
       "      <td>20</td>\n",
       "      <td>20</td>\n",
       "      <td>10</td>\n",
       "      <td>5</td>\n",
       "    </tr>\n",
       "  </tbody>\n",
       "</table>\n",
       "</div>"
      ],
      "text/plain": [
       "   item_cnt_month_mean  date_block_num  year  item_id  item_name  \\\n",
       "0             1.444444              34  2015     5037       5037   \n",
       "1             0.000000              34  2015     5320       5320   \n",
       "2             2.000000              34  2015     5233       5233   \n",
       "3             1.000000              34  2015     5232       5232   \n",
       "4             0.000000              34  2015     5268       5268   \n",
       "\n",
       "   item_name_length  item_name_word_count  item_category_id  \\\n",
       "0                30                     5                19   \n",
       "1                31                     7                55   \n",
       "2                56                     8                19   \n",
       "3                59                     9                23   \n",
       "4                36                     6                20   \n",
       "\n",
       "   item_category_name  item_categories_name_length  shop_id  \n",
       "0                  19                           10        5  \n",
       "1                  55                           35        5  \n",
       "2                  19                           10        5  \n",
       "3                  23                           15        5  \n",
       "4                  20                           10        5  "
      ]
     },
     "execution_count": 99,
     "metadata": {},
     "output_type": "execute_result"
    }
   ],
   "source": [
    "test[important_features].head(5)"
   ]
  },
  {
   "cell_type": "code",
   "execution_count": null,
   "metadata": {},
   "outputs": [],
   "source": []
  },
  {
   "cell_type": "code",
   "execution_count": null,
   "metadata": {},
   "outputs": [],
   "source": []
  },
  {
   "cell_type": "code",
   "execution_count": 63,
   "metadata": {},
   "outputs": [],
   "source": [
    "test['item_cnt_month'] = rf_most_important.predict(test[important_features]).clip(0., 20.)"
   ]
  },
  {
   "cell_type": "code",
   "execution_count": 62,
   "metadata": {},
   "outputs": [],
   "source": [
    "test[['ID', 'item_cnt_month']].to_csv('submission_rf.csv', index=False)"
   ]
  },
  {
   "cell_type": "code",
   "execution_count": 77,
   "metadata": {},
   "outputs": [],
   "source": [
    "def helper(s_id,i_id,month,year):\n",
    "    out = []\n",
    "    for i in range(11):\n",
    "        out.append(0)\n",
    "        \n",
    "    out[1]=34\n",
    "    out[2]=i_id\n",
    "    out[5]=year\n",
    "    out[10]=s_id\n",
    "    \n",
    "    return out"
   ]
  },
  {
   "cell_type": "code",
   "execution_count": 78,
   "metadata": {},
   "outputs": [],
   "source": [
    "final_features = helper(14,1222,11,2015)\n"
   ]
  },
  {
   "cell_type": "code",
   "execution_count": 79,
   "metadata": {},
   "outputs": [],
   "source": [
    "colm = ['item_cnt_month_mean', 'date_block_num', 'item_id', 'item_name', 'item_name_length', 'year',\n",
    "                      'item_name_word_count', 'item_category_id' ,\n",
    "                      'item_category_name','item_categories_name_length','shop_id']\n",
    "input_variables = pd.DataFrame([final_features],columns=colm,dtype ='float',index =['input'])\n",
    "                                     "
   ]
  },
  {
   "cell_type": "code",
   "execution_count": 80,
   "metadata": {},
   "outputs": [
    {
     "data": {
      "text/html": [
       "<div>\n",
       "<style scoped>\n",
       "    .dataframe tbody tr th:only-of-type {\n",
       "        vertical-align: middle;\n",
       "    }\n",
       "\n",
       "    .dataframe tbody tr th {\n",
       "        vertical-align: top;\n",
       "    }\n",
       "\n",
       "    .dataframe thead th {\n",
       "        text-align: right;\n",
       "    }\n",
       "</style>\n",
       "<table border=\"1\" class=\"dataframe\">\n",
       "  <thead>\n",
       "    <tr style=\"text-align: right;\">\n",
       "      <th></th>\n",
       "      <th>item_cnt_month_mean</th>\n",
       "      <th>date_block_num</th>\n",
       "      <th>item_id</th>\n",
       "      <th>item_name</th>\n",
       "      <th>item_name_length</th>\n",
       "      <th>year</th>\n",
       "      <th>item_name_word_count</th>\n",
       "      <th>item_category_id</th>\n",
       "      <th>item_category_name</th>\n",
       "      <th>item_categories_name_length</th>\n",
       "      <th>shop_id</th>\n",
       "    </tr>\n",
       "  </thead>\n",
       "  <tbody>\n",
       "    <tr>\n",
       "      <th>input</th>\n",
       "      <td>0.0</td>\n",
       "      <td>34.0</td>\n",
       "      <td>1222.0</td>\n",
       "      <td>0.0</td>\n",
       "      <td>0.0</td>\n",
       "      <td>2015.0</td>\n",
       "      <td>0.0</td>\n",
       "      <td>0.0</td>\n",
       "      <td>0.0</td>\n",
       "      <td>0.0</td>\n",
       "      <td>14.0</td>\n",
       "    </tr>\n",
       "  </tbody>\n",
       "</table>\n",
       "</div>"
      ],
      "text/plain": [
       "       item_cnt_month_mean  date_block_num  item_id  item_name  \\\n",
       "input                  0.0            34.0   1222.0        0.0   \n",
       "\n",
       "       item_name_length    year  item_name_word_count  item_category_id  \\\n",
       "input               0.0  2015.0                   0.0               0.0   \n",
       "\n",
       "       item_category_name  item_categories_name_length  shop_id  \n",
       "input                 0.0                          0.0     14.0  "
      ]
     },
     "execution_count": 80,
     "metadata": {},
     "output_type": "execute_result"
    }
   ],
   "source": [
    "input_variables"
   ]
  },
  {
   "cell_type": "code",
   "execution_count": 85,
   "metadata": {},
   "outputs": [],
   "source": [
    "Y = test[colm].head(2)"
   ]
  },
  {
   "cell_type": "code",
   "execution_count": 83,
   "metadata": {},
   "outputs": [],
   "source": [
    "check = rf_most_important.predict(input_variables).clip(0.,20)"
   ]
  },
  {
   "cell_type": "code",
   "execution_count": 86,
   "metadata": {},
   "outputs": [
    {
     "data": {
      "text/html": [
       "<div>\n",
       "<style scoped>\n",
       "    .dataframe tbody tr th:only-of-type {\n",
       "        vertical-align: middle;\n",
       "    }\n",
       "\n",
       "    .dataframe tbody tr th {\n",
       "        vertical-align: top;\n",
       "    }\n",
       "\n",
       "    .dataframe thead th {\n",
       "        text-align: right;\n",
       "    }\n",
       "</style>\n",
       "<table border=\"1\" class=\"dataframe\">\n",
       "  <thead>\n",
       "    <tr style=\"text-align: right;\">\n",
       "      <th></th>\n",
       "      <th>item_cnt_month_mean</th>\n",
       "      <th>date_block_num</th>\n",
       "      <th>item_id</th>\n",
       "      <th>item_name</th>\n",
       "      <th>item_name_length</th>\n",
       "      <th>year</th>\n",
       "      <th>item_name_word_count</th>\n",
       "      <th>item_category_id</th>\n",
       "      <th>item_category_name</th>\n",
       "      <th>item_categories_name_length</th>\n",
       "      <th>shop_id</th>\n",
       "    </tr>\n",
       "  </thead>\n",
       "  <tbody>\n",
       "    <tr>\n",
       "      <th>0</th>\n",
       "      <td>1.444444</td>\n",
       "      <td>34</td>\n",
       "      <td>5037</td>\n",
       "      <td>5037</td>\n",
       "      <td>30</td>\n",
       "      <td>2015</td>\n",
       "      <td>5</td>\n",
       "      <td>19</td>\n",
       "      <td>19</td>\n",
       "      <td>10</td>\n",
       "      <td>5</td>\n",
       "    </tr>\n",
       "    <tr>\n",
       "      <th>1</th>\n",
       "      <td>0.000000</td>\n",
       "      <td>34</td>\n",
       "      <td>5320</td>\n",
       "      <td>5320</td>\n",
       "      <td>31</td>\n",
       "      <td>2015</td>\n",
       "      <td>7</td>\n",
       "      <td>55</td>\n",
       "      <td>55</td>\n",
       "      <td>35</td>\n",
       "      <td>5</td>\n",
       "    </tr>\n",
       "  </tbody>\n",
       "</table>\n",
       "</div>"
      ],
      "text/plain": [
       "   item_cnt_month_mean  date_block_num  item_id  item_name  item_name_length  \\\n",
       "0             1.444444              34     5037       5037                30   \n",
       "1             0.000000              34     5320       5320                31   \n",
       "\n",
       "   year  item_name_word_count  item_category_id  item_category_name  \\\n",
       "0  2015                     5                19                  19   \n",
       "1  2015                     7                55                  55   \n",
       "\n",
       "   item_categories_name_length  shop_id  \n",
       "0                           10        5  \n",
       "1                           35        5  "
      ]
     },
     "execution_count": 86,
     "metadata": {},
     "output_type": "execute_result"
    }
   ],
   "source": [
    "Y"
   ]
  },
  {
   "cell_type": "code",
   "execution_count": 87,
   "metadata": {},
   "outputs": [],
   "source": [
    "check = rf_most_important.predict(Y).clip(0.,20)"
   ]
  },
  {
   "cell_type": "code",
   "execution_count": 90,
   "metadata": {},
   "outputs": [
    {
     "data": {
      "text/plain": [
       "1.42"
      ]
     },
     "execution_count": 90,
     "metadata": {},
     "output_type": "execute_result"
    }
   ],
   "source": [
    "check.round(2)[0]"
   ]
  },
  {
   "cell_type": "code",
   "execution_count": 91,
   "metadata": {},
   "outputs": [],
   "source": [
    "check1 = rf_most_important.predict(input_variables).clip(0.,20)"
   ]
  },
  {
   "cell_type": "code",
   "execution_count": 92,
   "metadata": {},
   "outputs": [
    {
     "data": {
      "text/plain": [
       "0.0"
      ]
     },
     "execution_count": 92,
     "metadata": {},
     "output_type": "execute_result"
    }
   ],
   "source": [
    "check1.round(2)[0]"
   ]
  },
  {
   "cell_type": "code",
   "execution_count": null,
   "metadata": {},
   "outputs": [],
   "source": [
    " important_features = ['item_cnt_month_mean', 'date_block_num', 'year','item_id', 'item_name', 'item_name_length','item_name_word_count', 'item_category_id' ,'item_category_name','item_categories_name_length','shop_id']\n"
   ]
  },
  {
   "cell_type": "code",
   "execution_count": 178,
   "metadata": {},
   "outputs": [],
   "source": [
    "def  inputdata(s,id,m,y):\n",
    "    out = []\n",
    "    for i in range(11):\n",
    "        out.append(0)\n",
    "    icm = SIMA[(SIMA['item_id']==i) & (SIMA['shop_id']==s)]['item_cnt_month_mean'].values\n",
    "    if(icm.size):\n",
    "        out[0]=icc[0]\n",
    "    out[1]=((y-2013)*12+m)-1\n",
    "    out[2]=y\n",
    "    out[3]=id\n",
    "    iname = items[items['item_id']==id]['item_name'].values\n",
    "    inval = leI_p.transform(iname.astype(str))\n",
    "    out[4] =inval[0]\n",
    "    out[5]=len(iname[0])\n",
    "    out[6]=len(iname[0].split(' '))\n",
    "    icid = items[items['item_id']==id]['item_category_id'].values\n",
    "    out[7] = icid[0]\n",
    "    icname =items_cat[items_cat['item_category_id']==icid[0]]['item_category_name'].values\n",
    "    icnval = leIC_p.transform(icname.astype(str))\n",
    "    out[8]=icnval[0]\n",
    "    out[9]=len(icname[0])\n",
    "    out[10]=s\n",
    "    return out\n",
    "\n",
    "    \n",
    "    \n",
    "    \n",
    "    \n",
    "    \n",
    "    "
   ]
  },
  {
   "cell_type": "code",
   "execution_count": 181,
   "metadata": {},
   "outputs": [],
   "source": [
    "temp = inputdata(50,1265,10,2014)"
   ]
  },
  {
   "cell_type": "code",
   "execution_count": 182,
   "metadata": {},
   "outputs": [
    {
     "data": {
      "text/plain": [
       "[0, 21, 2014, 1265, 1265, 56, 9, 56, 56, 35, 50]"
      ]
     },
     "execution_count": 182,
     "metadata": {},
     "output_type": "execute_result"
    }
   ],
   "source": [
    "temp"
   ]
  },
  {
   "cell_type": "code",
   "execution_count": 188,
   "metadata": {},
   "outputs": [],
   "source": [
    "input_variables = pd.DataFrame([temp],columns=important_features,dtype ='int',index =['input'])"
   ]
  },
  {
   "cell_type": "code",
   "execution_count": 189,
   "metadata": {},
   "outputs": [
    {
     "data": {
      "text/html": [
       "<div>\n",
       "<style scoped>\n",
       "    .dataframe tbody tr th:only-of-type {\n",
       "        vertical-align: middle;\n",
       "    }\n",
       "\n",
       "    .dataframe tbody tr th {\n",
       "        vertical-align: top;\n",
       "    }\n",
       "\n",
       "    .dataframe thead th {\n",
       "        text-align: right;\n",
       "    }\n",
       "</style>\n",
       "<table border=\"1\" class=\"dataframe\">\n",
       "  <thead>\n",
       "    <tr style=\"text-align: right;\">\n",
       "      <th></th>\n",
       "      <th>item_cnt_month_mean</th>\n",
       "      <th>date_block_num</th>\n",
       "      <th>year</th>\n",
       "      <th>item_id</th>\n",
       "      <th>item_name</th>\n",
       "      <th>item_name_length</th>\n",
       "      <th>item_name_word_count</th>\n",
       "      <th>item_category_id</th>\n",
       "      <th>item_category_name</th>\n",
       "      <th>item_categories_name_length</th>\n",
       "      <th>shop_id</th>\n",
       "    </tr>\n",
       "  </thead>\n",
       "  <tbody>\n",
       "    <tr>\n",
       "      <th>input</th>\n",
       "      <td>0</td>\n",
       "      <td>21</td>\n",
       "      <td>2014</td>\n",
       "      <td>1265</td>\n",
       "      <td>1265</td>\n",
       "      <td>56</td>\n",
       "      <td>9</td>\n",
       "      <td>56</td>\n",
       "      <td>56</td>\n",
       "      <td>35</td>\n",
       "      <td>50</td>\n",
       "    </tr>\n",
       "  </tbody>\n",
       "</table>\n",
       "</div>"
      ],
      "text/plain": [
       "       item_cnt_month_mean  date_block_num  year  item_id  item_name  \\\n",
       "input                    0              21  2014     1265       1265   \n",
       "\n",
       "       item_name_length  item_name_word_count  item_category_id  \\\n",
       "input                56                     9                56   \n",
       "\n",
       "       item_category_name  item_categories_name_length  shop_id  \n",
       "input                  56                           35       50  "
      ]
     },
     "execution_count": 189,
     "metadata": {},
     "output_type": "execute_result"
    }
   ],
   "source": [
    "input_variables"
   ]
  },
  {
   "cell_type": "code",
   "execution_count": 186,
   "metadata": {},
   "outputs": [],
   "source": [
    "z =test[important_features].tail(2)"
   ]
  },
  {
   "cell_type": "code",
   "execution_count": 187,
   "metadata": {},
   "outputs": [
    {
     "data": {
      "text/html": [
       "<div>\n",
       "<style scoped>\n",
       "    .dataframe tbody tr th:only-of-type {\n",
       "        vertical-align: middle;\n",
       "    }\n",
       "\n",
       "    .dataframe tbody tr th {\n",
       "        vertical-align: top;\n",
       "    }\n",
       "\n",
       "    .dataframe thead th {\n",
       "        text-align: right;\n",
       "    }\n",
       "</style>\n",
       "<table border=\"1\" class=\"dataframe\">\n",
       "  <thead>\n",
       "    <tr style=\"text-align: right;\">\n",
       "      <th></th>\n",
       "      <th>item_cnt_month_mean</th>\n",
       "      <th>date_block_num</th>\n",
       "      <th>year</th>\n",
       "      <th>item_id</th>\n",
       "      <th>item_name</th>\n",
       "      <th>item_name_length</th>\n",
       "      <th>item_name_word_count</th>\n",
       "      <th>item_category_id</th>\n",
       "      <th>item_category_name</th>\n",
       "      <th>item_categories_name_length</th>\n",
       "      <th>shop_id</th>\n",
       "    </tr>\n",
       "  </thead>\n",
       "  <tbody>\n",
       "    <tr>\n",
       "      <th>214198</th>\n",
       "      <td>0.000000</td>\n",
       "      <td>34</td>\n",
       "      <td>2015</td>\n",
       "      <td>19648</td>\n",
       "      <td>19648</td>\n",
       "      <td>31</td>\n",
       "      <td>5</td>\n",
       "      <td>40</td>\n",
       "      <td>40</td>\n",
       "      <td>10</td>\n",
       "      <td>45</td>\n",
       "    </tr>\n",
       "    <tr>\n",
       "      <th>214199</th>\n",
       "      <td>1.666667</td>\n",
       "      <td>34</td>\n",
       "      <td>2015</td>\n",
       "      <td>969</td>\n",
       "      <td>969</td>\n",
       "      <td>22</td>\n",
       "      <td>5</td>\n",
       "      <td>37</td>\n",
       "      <td>37</td>\n",
       "      <td>14</td>\n",
       "      <td>45</td>\n",
       "    </tr>\n",
       "  </tbody>\n",
       "</table>\n",
       "</div>"
      ],
      "text/plain": [
       "        item_cnt_month_mean  date_block_num  year  item_id  item_name  \\\n",
       "214198             0.000000              34  2015    19648      19648   \n",
       "214199             1.666667              34  2015      969        969   \n",
       "\n",
       "        item_name_length  item_name_word_count  item_category_id  \\\n",
       "214198                31                     5                40   \n",
       "214199                22                     5                37   \n",
       "\n",
       "        item_category_name  item_categories_name_length  shop_id  \n",
       "214198                  40                           10       45  \n",
       "214199                  37                           14       45  "
      ]
     },
     "execution_count": 187,
     "metadata": {},
     "output_type": "execute_result"
    }
   ],
   "source": [
    "z"
   ]
  },
  {
   "cell_type": "code",
   "execution_count": 190,
   "metadata": {},
   "outputs": [],
   "source": [
    "checki = rf_most_important.predict(input_variables).clip(0.,20)"
   ]
  },
  {
   "cell_type": "code",
   "execution_count": 192,
   "metadata": {},
   "outputs": [
    {
     "data": {
      "text/plain": [
       "0.0247"
      ]
     },
     "execution_count": 192,
     "metadata": {},
     "output_type": "execute_result"
    }
   ],
   "source": [
    "checki[0].round(4)"
   ]
  },
  {
   "cell_type": "code",
   "execution_count": 193,
   "metadata": {},
   "outputs": [],
   "source": [
    "checkz = rf_most_important.predict(z).clip(0.,20)"
   ]
  },
  {
   "cell_type": "code",
   "execution_count": 195,
   "metadata": {},
   "outputs": [
    {
     "data": {
      "text/plain": [
       "array([0.    , 1.1587])"
      ]
     },
     "execution_count": 195,
     "metadata": {},
     "output_type": "execute_result"
    }
   ],
   "source": [
    "checkz.round(4)"
   ]
  },
  {
   "cell_type": "code",
   "execution_count": 196,
   "metadata": {},
   "outputs": [
    {
     "data": {
      "text/html": [
       "<div>\n",
       "<style scoped>\n",
       "    .dataframe tbody tr th:only-of-type {\n",
       "        vertical-align: middle;\n",
       "    }\n",
       "\n",
       "    .dataframe tbody tr th {\n",
       "        vertical-align: top;\n",
       "    }\n",
       "\n",
       "    .dataframe thead th {\n",
       "        text-align: right;\n",
       "    }\n",
       "</style>\n",
       "<table border=\"1\" class=\"dataframe\">\n",
       "  <thead>\n",
       "    <tr style=\"text-align: right;\">\n",
       "      <th></th>\n",
       "      <th>shop_id</th>\n",
       "      <th>item_id</th>\n",
       "      <th>item_cnt_month_mean</th>\n",
       "    </tr>\n",
       "  </thead>\n",
       "  <tbody>\n",
       "    <tr>\n",
       "      <th>424118</th>\n",
       "      <td>59</td>\n",
       "      <td>22154</td>\n",
       "      <td>1.000000</td>\n",
       "    </tr>\n",
       "    <tr>\n",
       "      <th>424119</th>\n",
       "      <td>59</td>\n",
       "      <td>22155</td>\n",
       "      <td>1.000000</td>\n",
       "    </tr>\n",
       "    <tr>\n",
       "      <th>424120</th>\n",
       "      <td>59</td>\n",
       "      <td>22162</td>\n",
       "      <td>3.200000</td>\n",
       "    </tr>\n",
       "    <tr>\n",
       "      <th>424121</th>\n",
       "      <td>59</td>\n",
       "      <td>22164</td>\n",
       "      <td>1.500000</td>\n",
       "    </tr>\n",
       "    <tr>\n",
       "      <th>424122</th>\n",
       "      <td>59</td>\n",
       "      <td>22167</td>\n",
       "      <td>1.333333</td>\n",
       "    </tr>\n",
       "  </tbody>\n",
       "</table>\n",
       "</div>"
      ],
      "text/plain": [
       "        shop_id  item_id  item_cnt_month_mean\n",
       "424118       59    22154             1.000000\n",
       "424119       59    22155             1.000000\n",
       "424120       59    22162             3.200000\n",
       "424121       59    22164             1.500000\n",
       "424122       59    22167             1.333333"
      ]
     },
     "execution_count": 196,
     "metadata": {},
     "output_type": "execute_result"
    }
   ],
   "source": [
    "\n",
    "SIMA.tail()"
   ]
  },
  {
   "cell_type": "code",
   "execution_count": 198,
   "metadata": {},
   "outputs": [],
   "source": [
    "SIMA.to_csv('shop_item_sale.csv',index=False)"
   ]
  },
  {
   "cell_type": "code",
   "execution_count": null,
   "metadata": {},
   "outputs": [],
   "source": []
  },
  {
   "cell_type": "code",
   "execution_count": null,
   "metadata": {},
   "outputs": [],
   "source": [
    "#files needed\n",
    "pkl rf\n",
    "lei,leic\n",
    "data\n",
    "items,itemscat,sima"
   ]
  },
  {
   "cell_type": "code",
   "execution_count": 200,
   "metadata": {},
   "outputs": [],
   "source": [
    "infile = open('random_forest_picklefile.pkl','rb')\n",
    "RFI_pkl = pickle.load(infile)\n",
    "infile.close()"
   ]
  },
  {
   "cell_type": "code",
   "execution_count": 201,
   "metadata": {},
   "outputs": [
    {
     "data": {
      "text/plain": [
       "RandomForestRegressor(bootstrap=True, criterion='mse', max_depth=15,\n",
       "           max_features='auto', max_leaf_nodes=None,\n",
       "           min_impurity_decrease=0.0, min_impurity_split=None,\n",
       "           min_samples_leaf=1, min_samples_split=2,\n",
       "           min_weight_fraction_leaf=0.0, n_estimators=25, n_jobs=-1,\n",
       "           oob_score=False, random_state=42, verbose=0, warm_start=False)"
      ]
     },
     "execution_count": 201,
     "metadata": {},
     "output_type": "execute_result"
    }
   ],
   "source": [
    "RFI_pkl"
   ]
  },
  {
   "cell_type": "code",
   "execution_count": 202,
   "metadata": {},
   "outputs": [
    {
     "data": {
      "text/plain": [
       "LabelEncoder()"
      ]
     },
     "execution_count": 202,
     "metadata": {},
     "output_type": "execute_result"
    }
   ],
   "source": [
    "leI"
   ]
  },
  {
   "cell_type": "code",
   "execution_count": 203,
   "metadata": {},
   "outputs": [
    {
     "data": {
      "text/plain": [
       "LabelEncoder()"
      ]
     },
     "execution_count": 203,
     "metadata": {},
     "output_type": "execute_result"
    }
   ],
   "source": [
    "leIC"
   ]
  },
  {
   "cell_type": "code",
   "execution_count": null,
   "metadata": {},
   "outputs": [],
   "source": []
  },
  {
   "cell_type": "code",
   "execution_count": null,
   "metadata": {},
   "outputs": [],
   "source": []
  },
  {
   "cell_type": "code",
   "execution_count": null,
   "metadata": {},
   "outputs": [],
   "source": []
  },
  {
   "cell_type": "code",
   "execution_count": null,
   "metadata": {},
   "outputs": [],
   "source": []
  },
  {
   "cell_type": "code",
   "execution_count": null,
   "metadata": {},
   "outputs": [],
   "source": []
  },
  {
   "cell_type": "code",
   "execution_count": null,
   "metadata": {},
   "outputs": [],
   "source": []
  },
  {
   "cell_type": "code",
   "execution_count": null,
   "metadata": {},
   "outputs": [],
   "source": []
  },
  {
   "cell_type": "code",
   "execution_count": null,
   "metadata": {},
   "outputs": [],
   "source": []
  },
  {
   "cell_type": "code",
   "execution_count": null,
   "metadata": {},
   "outputs": [],
   "source": []
  },
  {
   "cell_type": "code",
   "execution_count": null,
   "metadata": {},
   "outputs": [],
   "source": []
  },
  {
   "cell_type": "code",
   "execution_count": null,
   "metadata": {},
   "outputs": [],
   "source": []
  },
  {
   "cell_type": "code",
   "execution_count": null,
   "metadata": {},
   "outputs": [],
   "source": []
  },
  {
   "cell_type": "code",
   "execution_count": null,
   "metadata": {},
   "outputs": [],
   "source": []
  },
  {
   "cell_type": "code",
   "execution_count": null,
   "metadata": {},
   "outputs": [],
   "source": []
  },
  {
   "cell_type": "code",
   "execution_count": null,
   "metadata": {},
   "outputs": [],
   "source": []
  },
  {
   "cell_type": "code",
   "execution_count": null,
   "metadata": {},
   "outputs": [],
   "source": []
  },
  {
   "cell_type": "code",
   "execution_count": null,
   "metadata": {},
   "outputs": [],
   "source": []
  },
  {
   "cell_type": "code",
   "execution_count": null,
   "metadata": {},
   "outputs": [],
   "source": []
  },
  {
   "cell_type": "code",
   "execution_count": null,
   "metadata": {},
   "outputs": [],
   "source": []
  },
  {
   "cell_type": "code",
   "execution_count": null,
   "metadata": {},
   "outputs": [],
   "source": []
  },
  {
   "cell_type": "code",
   "execution_count": null,
   "metadata": {},
   "outputs": [],
   "source": []
  },
  {
   "cell_type": "code",
   "execution_count": null,
   "metadata": {},
   "outputs": [],
   "source": []
  },
  {
   "cell_type": "code",
   "execution_count": 81,
   "metadata": {},
   "outputs": [],
   "source": [
    "import pickle"
   ]
  },
  {
   "cell_type": "code",
   "execution_count": 94,
   "metadata": {},
   "outputs": [],
   "source": [
    "filename = 'rfp_temp.pkl'\n",
    "outfile = open(filename,'wb')"
   ]
  },
  {
   "cell_type": "code",
   "execution_count": 95,
   "metadata": {},
   "outputs": [],
   "source": [
    "pickle.dump(rf_most_important,outfile)\n",
    "outfile.close()"
   ]
  },
  {
   "cell_type": "code",
   "execution_count": null,
   "metadata": {},
   "outputs": [],
   "source": []
  },
  {
   "cell_type": "code",
   "execution_count": 96,
   "metadata": {},
   "outputs": [],
   "source": [
    "infile = open(filename,'rb')\n",
    "RF_new = pickle.load(infile)\n",
    "infile.close()"
   ]
  },
  {
   "cell_type": "code",
   "execution_count": 97,
   "metadata": {},
   "outputs": [
    {
     "data": {
      "text/plain": [
       "RandomForestRegressor(bootstrap=True, criterion='mse', max_depth=15,\n",
       "           max_features='auto', max_leaf_nodes=None,\n",
       "           min_impurity_decrease=0.0, min_impurity_split=None,\n",
       "           min_samples_leaf=1, min_samples_split=2,\n",
       "           min_weight_fraction_leaf=0.0, n_estimators=25, n_jobs=-1,\n",
       "           oob_score=False, random_state=42, verbose=0, warm_start=False)"
      ]
     },
     "execution_count": 97,
     "metadata": {},
     "output_type": "execute_result"
    }
   ],
   "source": [
    "RF_new"
   ]
  },
  {
   "cell_type": "code",
   "execution_count": 98,
   "metadata": {},
   "outputs": [
    {
     "data": {
      "text/plain": [
       "RandomForestRegressor(bootstrap=True, criterion='mse', max_depth=15,\n",
       "           max_features='auto', max_leaf_nodes=None,\n",
       "           min_impurity_decrease=0.0, min_impurity_split=None,\n",
       "           min_samples_leaf=1, min_samples_split=2,\n",
       "           min_weight_fraction_leaf=0.0, n_estimators=25, n_jobs=-1,\n",
       "           oob_score=False, random_state=42, verbose=0, warm_start=False)"
      ]
     },
     "execution_count": 98,
     "metadata": {},
     "output_type": "execute_result"
    }
   ],
   "source": [
    "rf_most_important"
   ]
  },
  {
   "cell_type": "code",
   "execution_count": 105,
   "metadata": {},
   "outputs": [],
   "source": [
    "filename = 'leI.pkl'\n",
    "outfile = open(filename,'wb')"
   ]
  },
  {
   "cell_type": "code",
   "execution_count": 106,
   "metadata": {},
   "outputs": [],
   "source": [
    "pickle.dump(leI,outfile)\n",
    "outfile.close()"
   ]
  },
  {
   "cell_type": "code",
   "execution_count": 79,
   "metadata": {},
   "outputs": [],
   "source": [
    "filename = 'leI.pkl'"
   ]
  },
  {
   "cell_type": "code",
   "execution_count": 82,
   "metadata": {},
   "outputs": [],
   "source": [
    "infile = open(filename,'rb')\n",
    "leI_p = pickle.load(infile)\n",
    "infile.close()"
   ]
  },
  {
   "cell_type": "code",
   "execution_count": 108,
   "metadata": {},
   "outputs": [],
   "source": [
    "filename = 'leS.pkl'\n",
    "outfile = open(filename,'wb')"
   ]
  },
  {
   "cell_type": "code",
   "execution_count": 109,
   "metadata": {},
   "outputs": [],
   "source": [
    "pickle.dump(leS,outfile)\n",
    "outfile.close()"
   ]
  },
  {
   "cell_type": "code",
   "execution_count": 110,
   "metadata": {},
   "outputs": [],
   "source": [
    "infile = open(filename,'rb')\n",
    "leS_p = pickle.load(infile)\n",
    "infile.close()"
   ]
  },
  {
   "cell_type": "code",
   "execution_count": 105,
   "metadata": {},
   "outputs": [],
   "source": [
    "filename = 'leIC.pkl'"
   ]
  },
  {
   "cell_type": "code",
   "execution_count": 111,
   "metadata": {},
   "outputs": [],
   "source": [
    "\n",
    "outfile = open(filename,'wb')"
   ]
  },
  {
   "cell_type": "code",
   "execution_count": 112,
   "metadata": {},
   "outputs": [],
   "source": [
    "pickle.dump(leIC,outfile)\n",
    "outfile.close()"
   ]
  },
  {
   "cell_type": "code",
   "execution_count": 106,
   "metadata": {},
   "outputs": [],
   "source": [
    "infile = open(filename,'rb')\n",
    "leIC_p = pickle.load(infile)\n",
    "infile.close()"
   ]
  },
  {
   "cell_type": "code",
   "execution_count": 107,
   "metadata": {},
   "outputs": [
    {
     "data": {
      "text/plain": [
       "LabelEncoder()"
      ]
     },
     "execution_count": 107,
     "metadata": {},
     "output_type": "execute_result"
    }
   ],
   "source": [
    "leIC_p"
   ]
  },
  {
   "cell_type": "code",
   "execution_count": 116,
   "metadata": {},
   "outputs": [
    {
     "data": {
      "text/plain": [
       "RandomForestRegressor(bootstrap=True, criterion='mse', max_depth=15,\n",
       "           max_features='auto', max_leaf_nodes=None,\n",
       "           min_impurity_decrease=0.0, min_impurity_split=None,\n",
       "           min_samples_leaf=1, min_samples_split=2,\n",
       "           min_weight_fraction_leaf=0.0, n_estimators=25, n_jobs=-1,\n",
       "           oob_score=False, random_state=42, verbose=0, warm_start=False)"
      ]
     },
     "execution_count": 116,
     "metadata": {},
     "output_type": "execute_result"
    }
   ],
   "source": [
    "RF_new\n"
   ]
  },
  {
   "cell_type": "code",
   "execution_count": 66,
   "metadata": {},
   "outputs": [
    {
     "data": {
      "text/html": [
       "<div>\n",
       "<style scoped>\n",
       "    .dataframe tbody tr th:only-of-type {\n",
       "        vertical-align: middle;\n",
       "    }\n",
       "\n",
       "    .dataframe tbody tr th {\n",
       "        vertical-align: top;\n",
       "    }\n",
       "\n",
       "    .dataframe thead th {\n",
       "        text-align: right;\n",
       "    }\n",
       "</style>\n",
       "<table border=\"1\" class=\"dataframe\">\n",
       "  <thead>\n",
       "    <tr style=\"text-align: right;\">\n",
       "      <th></th>\n",
       "      <th>shop_id</th>\n",
       "      <th>item_id</th>\n",
       "      <th>item_cnt_month_mean</th>\n",
       "    </tr>\n",
       "  </thead>\n",
       "  <tbody>\n",
       "    <tr>\n",
       "      <th>0</th>\n",
       "      <td>0</td>\n",
       "      <td>30</td>\n",
       "      <td>31.0</td>\n",
       "    </tr>\n",
       "    <tr>\n",
       "      <th>1</th>\n",
       "      <td>0</td>\n",
       "      <td>31</td>\n",
       "      <td>11.0</td>\n",
       "    </tr>\n",
       "    <tr>\n",
       "      <th>2</th>\n",
       "      <td>0</td>\n",
       "      <td>32</td>\n",
       "      <td>8.0</td>\n",
       "    </tr>\n",
       "    <tr>\n",
       "      <th>3</th>\n",
       "      <td>0</td>\n",
       "      <td>33</td>\n",
       "      <td>3.0</td>\n",
       "    </tr>\n",
       "    <tr>\n",
       "      <th>4</th>\n",
       "      <td>0</td>\n",
       "      <td>35</td>\n",
       "      <td>7.5</td>\n",
       "    </tr>\n",
       "  </tbody>\n",
       "</table>\n",
       "</div>"
      ],
      "text/plain": [
       "   shop_id  item_id  item_cnt_month_mean\n",
       "0        0       30                 31.0\n",
       "1        0       31                 11.0\n",
       "2        0       32                  8.0\n",
       "3        0       33                  3.0\n",
       "4        0       35                  7.5"
      ]
     },
     "execution_count": 66,
     "metadata": {},
     "output_type": "execute_result"
    }
   ],
   "source": [
    "SIMA.head()"
   ]
  },
  {
   "cell_type": "code",
   "execution_count": 67,
   "metadata": {},
   "outputs": [],
   "source": [
    "icc = SIMA[(SIMA['item_id']==32) & (SIMA['shop_id']==13)]['item_cnt_month_mean'].values\n"
   ]
  },
  {
   "cell_type": "code",
   "execution_count": 68,
   "metadata": {},
   "outputs": [
    {
     "data": {
      "text/plain": [
       "True"
      ]
     },
     "execution_count": 68,
     "metadata": {},
     "output_type": "execute_result"
    }
   ],
   "source": [
    "icc.size == True"
   ]
  },
  {
   "cell_type": "code",
   "execution_count": 72,
   "metadata": {},
   "outputs": [
    {
     "data": {
      "text/plain": [
       "2.57"
      ]
     },
     "execution_count": 72,
     "metadata": {},
     "output_type": "execute_result"
    }
   ],
   "source": [
    "icc[0].round(2)"
   ]
  },
  {
   "cell_type": "code",
   "execution_count": 75,
   "metadata": {},
   "outputs": [],
   "source": [
    "\n",
    "nm = items[items['item_id']==6]['item_name'].values"
   ]
  },
  {
   "cell_type": "code",
   "execution_count": 76,
   "metadata": {},
   "outputs": [
    {
     "data": {
      "text/plain": [
       "'***УДАР ПО ВОРОТАМ (UNI)               D'"
      ]
     },
     "execution_count": 76,
     "metadata": {},
     "output_type": "execute_result"
    }
   ],
   "source": [
    "nm[0]"
   ]
  },
  {
   "cell_type": "code",
   "execution_count": 85,
   "metadata": {},
   "outputs": [],
   "source": [
    "nameval = leI_p.transform(nm.astype(str))"
   ]
  },
  {
   "cell_type": "code",
   "execution_count": 87,
   "metadata": {},
   "outputs": [
    {
     "data": {
      "text/plain": [
       "6"
      ]
     },
     "execution_count": 87,
     "metadata": {},
     "output_type": "execute_result"
    }
   ],
   "source": [
    "nameval[0]"
   ]
  },
  {
   "cell_type": "code",
   "execution_count": 128,
   "metadata": {},
   "outputs": [],
   "source": [
    "icatid =items[items['item_id']==7564]['item_category_id'].values"
   ]
  },
  {
   "cell_type": "code",
   "execution_count": 129,
   "metadata": {},
   "outputs": [
    {
     "data": {
      "text/plain": [
       "58"
      ]
     },
     "execution_count": 129,
     "metadata": {},
     "output_type": "execute_result"
    }
   ],
   "source": [
    "icatid[0]"
   ]
  },
  {
   "cell_type": "code",
   "execution_count": null,
   "metadata": {},
   "outputs": [],
   "source": []
  },
  {
   "cell_type": "code",
   "execution_count": null,
   "metadata": {},
   "outputs": [],
   "source": []
  },
  {
   "cell_type": "code",
   "execution_count": null,
   "metadata": {},
   "outputs": [],
   "source": []
  },
  {
   "cell_type": "code",
   "execution_count": null,
   "metadata": {},
   "outputs": [],
   "source": []
  },
  {
   "cell_type": "code",
   "execution_count": null,
   "metadata": {},
   "outputs": [],
   "source": [
    "items['item_name_length'] = items['item_name'].map(lambda x : len(x)) \n",
    "items['item_name_word_count'] = items['item_name'].map(lambda x : len(x.split(' ')))"
   ]
  },
  {
   "cell_type": "code",
   "execution_count": 91,
   "metadata": {},
   "outputs": [],
   "source": [
    "inl = len(nm[0])"
   ]
  },
  {
   "cell_type": "code",
   "execution_count": 92,
   "metadata": {},
   "outputs": [
    {
     "data": {
      "text/plain": [
       "40"
      ]
     },
     "execution_count": 92,
     "metadata": {},
     "output_type": "execute_result"
    }
   ],
   "source": [
    "inl"
   ]
  },
  {
   "cell_type": "code",
   "execution_count": 93,
   "metadata": {},
   "outputs": [
    {
     "data": {
      "text/plain": [
       "'***УДАР ПО ВОРОТАМ (UNI)               D'"
      ]
     },
     "execution_count": 93,
     "metadata": {},
     "output_type": "execute_result"
    }
   ],
   "source": [
    "nm[0]"
   ]
  },
  {
   "cell_type": "code",
   "execution_count": 94,
   "metadata": {},
   "outputs": [],
   "source": [
    "inwc = len(nm[0].split(' '))"
   ]
  },
  {
   "cell_type": "code",
   "execution_count": 95,
   "metadata": {},
   "outputs": [
    {
     "data": {
      "text/plain": [
       "19"
      ]
     },
     "execution_count": 95,
     "metadata": {},
     "output_type": "execute_result"
    }
   ],
   "source": [
    "inwc"
   ]
  },
  {
   "cell_type": "code",
   "execution_count": null,
   "metadata": {},
   "outputs": [],
   "source": []
  },
  {
   "cell_type": "code",
   "execution_count": null,
   "metadata": {},
   "outputs": [],
   "source": []
  },
  {
   "cell_type": "code",
   "execution_count": null,
   "metadata": {},
   "outputs": [],
   "source": []
  },
  {
   "cell_type": "code",
   "execution_count": 155,
   "metadata": {},
   "outputs": [],
   "source": [
    "icn = items_cat[items_cat['item_category_id']==icatid[0]]['item_category_name'].values"
   ]
  },
  {
   "cell_type": "code",
   "execution_count": 156,
   "metadata": {},
   "outputs": [
    {
     "data": {
      "text/plain": [
       "array(['Музыка - Винил'], dtype=object)"
      ]
     },
     "execution_count": 156,
     "metadata": {},
     "output_type": "execute_result"
    }
   ],
   "source": [
    "icn"
   ]
  },
  {
   "cell_type": "code",
   "execution_count": 157,
   "metadata": {},
   "outputs": [
    {
     "data": {
      "text/plain": [
       "'Музыка - Винил'"
      ]
     },
     "execution_count": 157,
     "metadata": {},
     "output_type": "execute_result"
    }
   ],
   "source": [
    "icn[0]"
   ]
  },
  {
   "cell_type": "code",
   "execution_count": 158,
   "metadata": {},
   "outputs": [],
   "source": [
    " icnc = leIC_p.transform(icn.astype(str))"
   ]
  },
  {
   "cell_type": "code",
   "execution_count": 159,
   "metadata": {},
   "outputs": [
    {
     "data": {
      "text/plain": [
       "array([58], dtype=int64)"
      ]
     },
     "execution_count": 159,
     "metadata": {},
     "output_type": "execute_result"
    }
   ],
   "source": [
    "icnc"
   ]
  },
  {
   "cell_type": "code",
   "execution_count": 160,
   "metadata": {},
   "outputs": [
    {
     "data": {
      "text/plain": [
       "58"
      ]
     },
     "execution_count": 160,
     "metadata": {},
     "output_type": "execute_result"
    }
   ],
   "source": [
    "icnc[0]"
   ]
  },
  {
   "cell_type": "code",
   "execution_count": 146,
   "metadata": {},
   "outputs": [],
   "source": [
    "icnl =len(icn[0])"
   ]
  },
  {
   "cell_type": "code",
   "execution_count": 147,
   "metadata": {},
   "outputs": [
    {
     "data": {
      "text/plain": [
       "14"
      ]
     },
     "execution_count": 147,
     "metadata": {},
     "output_type": "execute_result"
    }
   ],
   "source": [
    "icnl"
   ]
  },
  {
   "cell_type": "code",
   "execution_count": 148,
   "metadata": {},
   "outputs": [
    {
     "data": {
      "text/plain": [
       "3"
      ]
     },
     "execution_count": 148,
     "metadata": {},
     "output_type": "execute_result"
    }
   ],
   "source": [
    "icnwc=len(icn[0].split(' '))\n",
    "icnwc"
   ]
  },
  {
   "cell_type": "code",
   "execution_count": null,
   "metadata": {},
   "outputs": [],
   "source": []
  },
  {
   "cell_type": "code",
   "execution_count": 119,
   "metadata": {},
   "outputs": [],
   "source": [
    "#formation of actual input taker"
   ]
  },
  {
   "cell_type": "code",
   "execution_count": 176,
   "metadata": {},
   "outputs": [
    {
     "data": {
      "text/html": [
       "<div>\n",
       "<style scoped>\n",
       "    .dataframe tbody tr th:only-of-type {\n",
       "        vertical-align: middle;\n",
       "    }\n",
       "\n",
       "    .dataframe tbody tr th {\n",
       "        vertical-align: top;\n",
       "    }\n",
       "\n",
       "    .dataframe thead th {\n",
       "        text-align: right;\n",
       "    }\n",
       "</style>\n",
       "<table border=\"1\" class=\"dataframe\">\n",
       "  <thead>\n",
       "    <tr style=\"text-align: right;\">\n",
       "      <th></th>\n",
       "      <th>item_name</th>\n",
       "      <th>item_id</th>\n",
       "      <th>item_category_id</th>\n",
       "      <th>item_name_length</th>\n",
       "      <th>item_name_word_count</th>\n",
       "    </tr>\n",
       "  </thead>\n",
       "  <tbody>\n",
       "    <tr>\n",
       "      <th>0</th>\n",
       "      <td>! ВО ВЛАСТИ НАВАЖДЕНИЯ (ПЛАСТ.)         D</td>\n",
       "      <td>0</td>\n",
       "      <td>40</td>\n",
       "      <td>41</td>\n",
       "      <td>14</td>\n",
       "    </tr>\n",
       "    <tr>\n",
       "      <th>1</th>\n",
       "      <td>!ABBYY FineReader 12 Professional Edition Full...</td>\n",
       "      <td>1</td>\n",
       "      <td>76</td>\n",
       "      <td>68</td>\n",
       "      <td>9</td>\n",
       "    </tr>\n",
       "    <tr>\n",
       "      <th>2</th>\n",
       "      <td>***В ЛУЧАХ СЛАВЫ   (UNV)                    D</td>\n",
       "      <td>2</td>\n",
       "      <td>40</td>\n",
       "      <td>45</td>\n",
       "      <td>26</td>\n",
       "    </tr>\n",
       "    <tr>\n",
       "      <th>3</th>\n",
       "      <td>***ГОЛУБАЯ ВОЛНА  (Univ)                      D</td>\n",
       "      <td>3</td>\n",
       "      <td>40</td>\n",
       "      <td>47</td>\n",
       "      <td>26</td>\n",
       "    </tr>\n",
       "    <tr>\n",
       "      <th>4</th>\n",
       "      <td>***КОРОБКА (СТЕКЛО)                       D</td>\n",
       "      <td>4</td>\n",
       "      <td>40</td>\n",
       "      <td>43</td>\n",
       "      <td>25</td>\n",
       "    </tr>\n",
       "    <tr>\n",
       "      <th>5</th>\n",
       "      <td>***НОВЫЕ АМЕРИКАНСКИЕ ГРАФФИТИ  (UNI)         ...</td>\n",
       "      <td>5</td>\n",
       "      <td>40</td>\n",
       "      <td>51</td>\n",
       "      <td>18</td>\n",
       "    </tr>\n",
       "    <tr>\n",
       "      <th>6</th>\n",
       "      <td>***УДАР ПО ВОРОТАМ (UNI)               D</td>\n",
       "      <td>6</td>\n",
       "      <td>40</td>\n",
       "      <td>40</td>\n",
       "      <td>19</td>\n",
       "    </tr>\n",
       "    <tr>\n",
       "      <th>7</th>\n",
       "      <td>***УДАР ПО ВОРОТАМ-2 (UNI)               D</td>\n",
       "      <td>7</td>\n",
       "      <td>40</td>\n",
       "      <td>42</td>\n",
       "      <td>19</td>\n",
       "    </tr>\n",
       "    <tr>\n",
       "      <th>8</th>\n",
       "      <td>***ЧАЙ С МУССОЛИНИ                     D</td>\n",
       "      <td>8</td>\n",
       "      <td>40</td>\n",
       "      <td>40</td>\n",
       "      <td>24</td>\n",
       "    </tr>\n",
       "    <tr>\n",
       "      <th>9</th>\n",
       "      <td>***ШУГАРЛЭНДСКИЙ ЭКСПРЕСС (UNI)             D</td>\n",
       "      <td>9</td>\n",
       "      <td>40</td>\n",
       "      <td>45</td>\n",
       "      <td>16</td>\n",
       "    </tr>\n",
       "  </tbody>\n",
       "</table>\n",
       "</div>"
      ],
      "text/plain": [
       "                                           item_name  item_id  \\\n",
       "0          ! ВО ВЛАСТИ НАВАЖДЕНИЯ (ПЛАСТ.)         D        0   \n",
       "1  !ABBYY FineReader 12 Professional Edition Full...        1   \n",
       "2      ***В ЛУЧАХ СЛАВЫ   (UNV)                    D        2   \n",
       "3    ***ГОЛУБАЯ ВОЛНА  (Univ)                      D        3   \n",
       "4        ***КОРОБКА (СТЕКЛО)                       D        4   \n",
       "5  ***НОВЫЕ АМЕРИКАНСКИЕ ГРАФФИТИ  (UNI)         ...        5   \n",
       "6           ***УДАР ПО ВОРОТАМ (UNI)               D        6   \n",
       "7         ***УДАР ПО ВОРОТАМ-2 (UNI)               D        7   \n",
       "8           ***ЧАЙ С МУССОЛИНИ                     D        8   \n",
       "9      ***ШУГАРЛЭНДСКИЙ ЭКСПРЕСС (UNI)             D        9   \n",
       "\n",
       "   item_category_id  item_name_length  item_name_word_count  \n",
       "0                40                41                    14  \n",
       "1                76                68                     9  \n",
       "2                40                45                    26  \n",
       "3                40                47                    26  \n",
       "4                40                43                    25  \n",
       "5                40                51                    18  \n",
       "6                40                40                    19  \n",
       "7                40                42                    19  \n",
       "8                40                40                    24  \n",
       "9                40                45                    16  "
      ]
     },
     "execution_count": 176,
     "metadata": {},
     "output_type": "execute_result"
    }
   ],
   "source": [
    "items.head(10)"
   ]
  },
  {
   "cell_type": "code",
   "execution_count": 122,
   "metadata": {},
   "outputs": [
    {
     "data": {
      "text/html": [
       "<div>\n",
       "<style scoped>\n",
       "    .dataframe tbody tr th:only-of-type {\n",
       "        vertical-align: middle;\n",
       "    }\n",
       "\n",
       "    .dataframe tbody tr th {\n",
       "        vertical-align: top;\n",
       "    }\n",
       "\n",
       "    .dataframe thead th {\n",
       "        text-align: right;\n",
       "    }\n",
       "</style>\n",
       "<table border=\"1\" class=\"dataframe\">\n",
       "  <thead>\n",
       "    <tr style=\"text-align: right;\">\n",
       "      <th></th>\n",
       "      <th>item_category_name</th>\n",
       "      <th>item_category_id</th>\n",
       "      <th>item_categories_name_length</th>\n",
       "      <th>item_categories_name_word_count</th>\n",
       "    </tr>\n",
       "  </thead>\n",
       "  <tbody>\n",
       "    <tr>\n",
       "      <th>0</th>\n",
       "      <td>PC - Гарнитуры/Наушники</td>\n",
       "      <td>0</td>\n",
       "      <td>23</td>\n",
       "      <td>3</td>\n",
       "    </tr>\n",
       "    <tr>\n",
       "      <th>1</th>\n",
       "      <td>Аксессуары - PS2</td>\n",
       "      <td>1</td>\n",
       "      <td>16</td>\n",
       "      <td>3</td>\n",
       "    </tr>\n",
       "    <tr>\n",
       "      <th>2</th>\n",
       "      <td>Аксессуары - PS3</td>\n",
       "      <td>2</td>\n",
       "      <td>16</td>\n",
       "      <td>3</td>\n",
       "    </tr>\n",
       "    <tr>\n",
       "      <th>3</th>\n",
       "      <td>Аксессуары - PS4</td>\n",
       "      <td>3</td>\n",
       "      <td>16</td>\n",
       "      <td>3</td>\n",
       "    </tr>\n",
       "    <tr>\n",
       "      <th>4</th>\n",
       "      <td>Аксессуары - PSP</td>\n",
       "      <td>4</td>\n",
       "      <td>16</td>\n",
       "      <td>3</td>\n",
       "    </tr>\n",
       "  </tbody>\n",
       "</table>\n",
       "</div>"
      ],
      "text/plain": [
       "        item_category_name  item_category_id  item_categories_name_length  \\\n",
       "0  PC - Гарнитуры/Наушники                 0                           23   \n",
       "1         Аксессуары - PS2                 1                           16   \n",
       "2         Аксессуары - PS3                 2                           16   \n",
       "3         Аксессуары - PS4                 3                           16   \n",
       "4         Аксессуары - PSP                 4                           16   \n",
       "\n",
       "   item_categories_name_word_count  \n",
       "0                                3  \n",
       "1                                3  \n",
       "2                                3  \n",
       "3                                3  \n",
       "4                                3  "
      ]
     },
     "execution_count": 122,
     "metadata": {},
     "output_type": "execute_result"
    }
   ],
   "source": [
    "items_cat.head()"
   ]
  },
  {
   "cell_type": "markdown",
   "metadata": {},
   "source": [
    "shop.head()"
   ]
  },
  {
   "cell_type": "code",
   "execution_count": 124,
   "metadata": {},
   "outputs": [
    {
     "data": {
      "text/html": [
       "<div>\n",
       "<style scoped>\n",
       "    .dataframe tbody tr th:only-of-type {\n",
       "        vertical-align: middle;\n",
       "    }\n",
       "\n",
       "    .dataframe tbody tr th {\n",
       "        vertical-align: top;\n",
       "    }\n",
       "\n",
       "    .dataframe thead th {\n",
       "        text-align: right;\n",
       "    }\n",
       "</style>\n",
       "<table border=\"1\" class=\"dataframe\">\n",
       "  <thead>\n",
       "    <tr style=\"text-align: right;\">\n",
       "      <th></th>\n",
       "      <th>shop_name</th>\n",
       "      <th>shop_id</th>\n",
       "      <th>shop_name_length</th>\n",
       "      <th>shop_name_word_count</th>\n",
       "    </tr>\n",
       "  </thead>\n",
       "  <tbody>\n",
       "    <tr>\n",
       "      <th>0</th>\n",
       "      <td>!Якутск Орджоникидзе, 56 фран</td>\n",
       "      <td>0</td>\n",
       "      <td>29</td>\n",
       "      <td>4</td>\n",
       "    </tr>\n",
       "    <tr>\n",
       "      <th>1</th>\n",
       "      <td>!Якутск ТЦ \"Центральный\" фран</td>\n",
       "      <td>1</td>\n",
       "      <td>29</td>\n",
       "      <td>4</td>\n",
       "    </tr>\n",
       "    <tr>\n",
       "      <th>2</th>\n",
       "      <td>Адыгея ТЦ \"Мега\"</td>\n",
       "      <td>2</td>\n",
       "      <td>16</td>\n",
       "      <td>3</td>\n",
       "    </tr>\n",
       "    <tr>\n",
       "      <th>3</th>\n",
       "      <td>Балашиха ТРК \"Октябрь-Киномир\"</td>\n",
       "      <td>3</td>\n",
       "      <td>30</td>\n",
       "      <td>3</td>\n",
       "    </tr>\n",
       "    <tr>\n",
       "      <th>4</th>\n",
       "      <td>Волжский ТЦ \"Волга Молл\"</td>\n",
       "      <td>4</td>\n",
       "      <td>24</td>\n",
       "      <td>4</td>\n",
       "    </tr>\n",
       "  </tbody>\n",
       "</table>\n",
       "</div>"
      ],
      "text/plain": [
       "                        shop_name  shop_id  shop_name_length  \\\n",
       "0   !Якутск Орджоникидзе, 56 фран        0                29   \n",
       "1   !Якутск ТЦ \"Центральный\" фран        1                29   \n",
       "2                Адыгея ТЦ \"Мега\"        2                16   \n",
       "3  Балашиха ТРК \"Октябрь-Киномир\"        3                30   \n",
       "4        Волжский ТЦ \"Волга Молл\"        4                24   \n",
       "\n",
       "   shop_name_word_count  \n",
       "0                     4  \n",
       "1                     4  \n",
       "2                     3  \n",
       "3                     3  \n",
       "4                     4  "
      ]
     },
     "execution_count": 124,
     "metadata": {},
     "output_type": "execute_result"
    }
   ],
   "source": [
    "shop.head()"
   ]
  },
  {
   "cell_type": "code",
   "execution_count": 126,
   "metadata": {},
   "outputs": [
    {
     "data": {
      "text/html": [
       "<div>\n",
       "<style scoped>\n",
       "    .dataframe tbody tr th:only-of-type {\n",
       "        vertical-align: middle;\n",
       "    }\n",
       "\n",
       "    .dataframe tbody tr th {\n",
       "        vertical-align: top;\n",
       "    }\n",
       "\n",
       "    .dataframe thead th {\n",
       "        text-align: right;\n",
       "    }\n",
       "</style>\n",
       "<table border=\"1\" class=\"dataframe\">\n",
       "  <thead>\n",
       "    <tr style=\"text-align: right;\">\n",
       "      <th></th>\n",
       "      <th>item_cnt_month_mean</th>\n",
       "      <th>date_block_num</th>\n",
       "      <th>item_id</th>\n",
       "      <th>item_name</th>\n",
       "      <th>item_name_length</th>\n",
       "      <th>year</th>\n",
       "      <th>item_name_word_count</th>\n",
       "      <th>item_category_id</th>\n",
       "      <th>item_category_name</th>\n",
       "      <th>item_categories_name_length</th>\n",
       "      <th>shop_id</th>\n",
       "    </tr>\n",
       "  </thead>\n",
       "  <tbody>\n",
       "    <tr>\n",
       "      <th>0</th>\n",
       "      <td>8.0</td>\n",
       "      <td>0</td>\n",
       "      <td>32</td>\n",
       "      <td>32</td>\n",
       "      <td>3</td>\n",
       "      <td>2013</td>\n",
       "      <td>1</td>\n",
       "      <td>40</td>\n",
       "      <td>40</td>\n",
       "      <td>10</td>\n",
       "      <td>0</td>\n",
       "    </tr>\n",
       "    <tr>\n",
       "      <th>1</th>\n",
       "      <td>3.0</td>\n",
       "      <td>0</td>\n",
       "      <td>33</td>\n",
       "      <td>33</td>\n",
       "      <td>8</td>\n",
       "      <td>2013</td>\n",
       "      <td>2</td>\n",
       "      <td>37</td>\n",
       "      <td>37</td>\n",
       "      <td>14</td>\n",
       "      <td>0</td>\n",
       "    </tr>\n",
       "    <tr>\n",
       "      <th>2</th>\n",
       "      <td>7.5</td>\n",
       "      <td>0</td>\n",
       "      <td>35</td>\n",
       "      <td>35</td>\n",
       "      <td>13</td>\n",
       "      <td>2013</td>\n",
       "      <td>3</td>\n",
       "      <td>40</td>\n",
       "      <td>40</td>\n",
       "      <td>10</td>\n",
       "      <td>0</td>\n",
       "    </tr>\n",
       "    <tr>\n",
       "      <th>3</th>\n",
       "      <td>1.0</td>\n",
       "      <td>0</td>\n",
       "      <td>43</td>\n",
       "      <td>43</td>\n",
       "      <td>18</td>\n",
       "      <td>2013</td>\n",
       "      <td>3</td>\n",
       "      <td>40</td>\n",
       "      <td>40</td>\n",
       "      <td>10</td>\n",
       "      <td>0</td>\n",
       "    </tr>\n",
       "    <tr>\n",
       "      <th>4</th>\n",
       "      <td>2.5</td>\n",
       "      <td>0</td>\n",
       "      <td>51</td>\n",
       "      <td>51</td>\n",
       "      <td>52</td>\n",
       "      <td>2013</td>\n",
       "      <td>6</td>\n",
       "      <td>57</td>\n",
       "      <td>57</td>\n",
       "      <td>12</td>\n",
       "      <td>0</td>\n",
       "    </tr>\n",
       "  </tbody>\n",
       "</table>\n",
       "</div>"
      ],
      "text/plain": [
       "   item_cnt_month_mean  date_block_num  item_id  item_name  item_name_length  \\\n",
       "0                  8.0               0       32         32                 3   \n",
       "1                  3.0               0       33         33                 8   \n",
       "2                  7.5               0       35         35                13   \n",
       "3                  1.0               0       43         43                18   \n",
       "4                  2.5               0       51         51                52   \n",
       "\n",
       "   year  item_name_word_count  item_category_id  item_category_name  \\\n",
       "0  2013                     1                40                  40   \n",
       "1  2013                     2                37                  37   \n",
       "2  2013                     3                40                  40   \n",
       "3  2013                     3                40                  40   \n",
       "4  2013                     6                57                  57   \n",
       "\n",
       "   item_categories_name_length  shop_id  \n",
       "0                           10        0  \n",
       "1                           14        0  \n",
       "2                           10        0  \n",
       "3                           10        0  \n",
       "4                           12        0  "
      ]
     },
     "execution_count": 126,
     "metadata": {},
     "output_type": "execute_result"
    }
   ],
   "source": [
    "train[colm].head()"
   ]
  },
  {
   "cell_type": "code",
   "execution_count": 127,
   "metadata": {},
   "outputs": [
    {
     "data": {
      "text/html": [
       "<div>\n",
       "<style scoped>\n",
       "    .dataframe tbody tr th:only-of-type {\n",
       "        vertical-align: middle;\n",
       "    }\n",
       "\n",
       "    .dataframe tbody tr th {\n",
       "        vertical-align: top;\n",
       "    }\n",
       "\n",
       "    .dataframe thead th {\n",
       "        text-align: right;\n",
       "    }\n",
       "</style>\n",
       "<table border=\"1\" class=\"dataframe\">\n",
       "  <thead>\n",
       "    <tr style=\"text-align: right;\">\n",
       "      <th></th>\n",
       "      <th>item_cnt_month_mean</th>\n",
       "      <th>date_block_num</th>\n",
       "      <th>item_id</th>\n",
       "      <th>item_name</th>\n",
       "      <th>item_name_length</th>\n",
       "      <th>year</th>\n",
       "      <th>item_name_word_count</th>\n",
       "      <th>item_category_id</th>\n",
       "      <th>item_category_name</th>\n",
       "      <th>item_categories_name_length</th>\n",
       "      <th>shop_id</th>\n",
       "    </tr>\n",
       "  </thead>\n",
       "  <tbody>\n",
       "    <tr>\n",
       "      <th>0</th>\n",
       "      <td>1.444444</td>\n",
       "      <td>34</td>\n",
       "      <td>5037</td>\n",
       "      <td>5037</td>\n",
       "      <td>30</td>\n",
       "      <td>2015</td>\n",
       "      <td>5</td>\n",
       "      <td>19</td>\n",
       "      <td>19</td>\n",
       "      <td>10</td>\n",
       "      <td>5</td>\n",
       "    </tr>\n",
       "    <tr>\n",
       "      <th>1</th>\n",
       "      <td>0.000000</td>\n",
       "      <td>34</td>\n",
       "      <td>5320</td>\n",
       "      <td>5320</td>\n",
       "      <td>31</td>\n",
       "      <td>2015</td>\n",
       "      <td>7</td>\n",
       "      <td>55</td>\n",
       "      <td>55</td>\n",
       "      <td>35</td>\n",
       "      <td>5</td>\n",
       "    </tr>\n",
       "    <tr>\n",
       "      <th>2</th>\n",
       "      <td>2.000000</td>\n",
       "      <td>34</td>\n",
       "      <td>5233</td>\n",
       "      <td>5233</td>\n",
       "      <td>56</td>\n",
       "      <td>2015</td>\n",
       "      <td>8</td>\n",
       "      <td>19</td>\n",
       "      <td>19</td>\n",
       "      <td>10</td>\n",
       "      <td>5</td>\n",
       "    </tr>\n",
       "    <tr>\n",
       "      <th>3</th>\n",
       "      <td>1.000000</td>\n",
       "      <td>34</td>\n",
       "      <td>5232</td>\n",
       "      <td>5232</td>\n",
       "      <td>59</td>\n",
       "      <td>2015</td>\n",
       "      <td>9</td>\n",
       "      <td>23</td>\n",
       "      <td>23</td>\n",
       "      <td>15</td>\n",
       "      <td>5</td>\n",
       "    </tr>\n",
       "    <tr>\n",
       "      <th>4</th>\n",
       "      <td>0.000000</td>\n",
       "      <td>34</td>\n",
       "      <td>5268</td>\n",
       "      <td>5268</td>\n",
       "      <td>36</td>\n",
       "      <td>2015</td>\n",
       "      <td>6</td>\n",
       "      <td>20</td>\n",
       "      <td>20</td>\n",
       "      <td>10</td>\n",
       "      <td>5</td>\n",
       "    </tr>\n",
       "  </tbody>\n",
       "</table>\n",
       "</div>"
      ],
      "text/plain": [
       "   item_cnt_month_mean  date_block_num  item_id  item_name  item_name_length  \\\n",
       "0             1.444444              34     5037       5037                30   \n",
       "1             0.000000              34     5320       5320                31   \n",
       "2             2.000000              34     5233       5233                56   \n",
       "3             1.000000              34     5232       5232                59   \n",
       "4             0.000000              34     5268       5268                36   \n",
       "\n",
       "   year  item_name_word_count  item_category_id  item_category_name  \\\n",
       "0  2015                     5                19                  19   \n",
       "1  2015                     7                55                  55   \n",
       "2  2015                     8                19                  19   \n",
       "3  2015                     9                23                  23   \n",
       "4  2015                     6                20                  20   \n",
       "\n",
       "   item_categories_name_length  shop_id  \n",
       "0                           10        5  \n",
       "1                           35        5  \n",
       "2                           10        5  \n",
       "3                           15        5  \n",
       "4                           10        5  "
      ]
     },
     "execution_count": 127,
     "metadata": {},
     "output_type": "execute_result"
    }
   ],
   "source": [
    "test[colm].head()"
   ]
  },
  {
   "cell_type": "markdown",
   "metadata": {},
   "source": [
    "colm = ['item_cnt_month_mean', 'date_block_num', 'item_id', 'item_name', 'item_name_length', 'year',\n",
    "                      'item_name_word_count', 'item_category_id' ,\n",
    "                      'item_category_name','item_categories_name_length','shop_id']"
   ]
  },
  {
   "cell_type": "code",
   "execution_count": null,
   "metadata": {},
   "outputs": [],
   "source": [
    "def input_val(S,I,m,y):\n",
    "    out =[]\n",
    "    for i in range(11):\n",
    "        out.append(0)\n",
    "    \n",
    "    "
   ]
  },
  {
   "cell_type": "code",
   "execution_count": null,
   "metadata": {},
   "outputs": [],
   "source": []
  },
  {
   "cell_type": "code",
   "execution_count": null,
   "metadata": {},
   "outputs": [],
   "source": []
  },
  {
   "cell_type": "code",
   "execution_count": null,
   "metadata": {},
   "outputs": [],
   "source": []
  },
  {
   "cell_type": "code",
   "execution_count": null,
   "metadata": {},
   "outputs": [],
   "source": []
  },
  {
   "cell_type": "code",
   "execution_count": null,
   "metadata": {},
   "outputs": [],
   "source": []
  },
  {
   "cell_type": "code",
   "execution_count": null,
   "metadata": {},
   "outputs": [],
   "source": []
  },
  {
   "cell_type": "code",
   "execution_count": null,
   "metadata": {},
   "outputs": [],
   "source": []
  },
  {
   "cell_type": "code",
   "execution_count": null,
   "metadata": {},
   "outputs": [],
   "source": []
  },
  {
   "cell_type": "code",
   "execution_count": null,
   "metadata": {},
   "outputs": [],
   "source": []
  },
  {
   "cell_type": "code",
   "execution_count": null,
   "metadata": {},
   "outputs": [],
   "source": []
  },
  {
   "cell_type": "code",
   "execution_count": null,
   "metadata": {},
   "outputs": [],
   "source": []
  },
  {
   "cell_type": "code",
   "execution_count": null,
   "metadata": {},
   "outputs": [],
   "source": []
  },
  {
   "cell_type": "code",
   "execution_count": null,
   "metadata": {},
   "outputs": [],
   "source": []
  },
  {
   "cell_type": "code",
   "execution_count": null,
   "metadata": {},
   "outputs": [],
   "source": []
  },
  {
   "cell_type": "code",
   "execution_count": null,
   "metadata": {},
   "outputs": [],
   "source": []
  },
  {
   "cell_type": "code",
   "execution_count": null,
   "metadata": {},
   "outputs": [],
   "source": []
  },
  {
   "cell_type": "code",
   "execution_count": null,
   "metadata": {},
   "outputs": [],
   "source": []
  },
  {
   "cell_type": "code",
   "execution_count": null,
   "metadata": {},
   "outputs": [],
   "source": []
  },
  {
   "cell_type": "code",
   "execution_count": null,
   "metadata": {},
   "outputs": [],
   "source": []
  },
  {
   "cell_type": "code",
   "execution_count": null,
   "metadata": {},
   "outputs": [],
   "source": []
  },
  {
   "cell_type": "code",
   "execution_count": null,
   "metadata": {},
   "outputs": [],
   "source": []
  },
  {
   "cell_type": "code",
   "execution_count": null,
   "metadata": {},
   "outputs": [],
   "source": []
  },
  {
   "cell_type": "code",
   "execution_count": null,
   "metadata": {},
   "outputs": [],
   "source": []
  },
  {
   "cell_type": "code",
   "execution_count": null,
   "metadata": {},
   "outputs": [],
   "source": []
  },
  {
   "cell_type": "markdown",
   "metadata": {},
   "source": [
    "# from joblib import dump,load"
   ]
  },
  {
   "cell_type": "code",
   "execution_count": 70,
   "metadata": {},
   "outputs": [],
   "source": [
    "from joblib import load,dump"
   ]
  },
  {
   "cell_type": "code",
   "execution_count": 71,
   "metadata": {},
   "outputs": [
    {
     "data": {
      "text/plain": [
       "['rf_jblibFile.joblib']"
      ]
     },
     "execution_count": 71,
     "metadata": {},
     "output_type": "execute_result"
    }
   ],
   "source": [
    "dump(rf_most_important,'rf_jblibFile.joblib')"
   ]
  },
  {
   "cell_type": "code",
   "execution_count": 73,
   "metadata": {},
   "outputs": [],
   "source": [
    "with open(f'rf_jblibFile.joblib', 'rb') as f:\n",
    "    rf_from_joblib = load(f)"
   ]
  },
  {
   "cell_type": "code",
   "execution_count": 74,
   "metadata": {},
   "outputs": [
    {
     "data": {
      "text/plain": [
       "RandomForestRegressor(bootstrap=True, criterion='mse', max_depth=15,\n",
       "           max_features='auto', max_leaf_nodes=None,\n",
       "           min_impurity_decrease=0.0, min_impurity_split=None,\n",
       "           min_samples_leaf=1, min_samples_split=2,\n",
       "           min_weight_fraction_leaf=0.0, n_estimators=25, n_jobs=-1,\n",
       "           oob_score=False, random_state=42, verbose=0, warm_start=False)"
      ]
     },
     "execution_count": 74,
     "metadata": {},
     "output_type": "execute_result"
    }
   ],
   "source": [
    "rf_from_joblib"
   ]
  },
  {
   "cell_type": "code",
   "execution_count": 75,
   "metadata": {},
   "outputs": [],
   "source": []
  },
  {
   "cell_type": "code",
   "execution_count": 76,
   "metadata": {},
   "outputs": [],
   "source": []
  },
  {
   "cell_type": "code",
   "execution_count": 77,
   "metadata": {},
   "outputs": [],
   "source": []
  },
  {
   "cell_type": "code",
   "execution_count": 79,
   "metadata": {},
   "outputs": [
    {
     "data": {
      "text/plain": [
       "LabelEncoder()"
      ]
     },
     "execution_count": 79,
     "metadata": {},
     "output_type": "execute_result"
    }
   ],
   "source": [
    "le_from_pkl"
   ]
  },
  {
   "cell_type": "code",
   "execution_count": 80,
   "metadata": {},
   "outputs": [
    {
     "data": {
      "text/plain": [
       "LabelEncoder()"
      ]
     },
     "execution_count": 80,
     "metadata": {},
     "output_type": "execute_result"
    }
   ],
   "source": [
    "le"
   ]
  },
  {
   "cell_type": "code",
   "execution_count": null,
   "metadata": {},
   "outputs": [],
   "source": []
  }
 ],
 "metadata": {
  "kernelspec": {
   "display_name": "Python 3",
   "language": "python",
   "name": "python3"
  },
  "language_info": {
   "codemirror_mode": {
    "name": "ipython",
    "version": 3
   },
   "file_extension": ".py",
   "mimetype": "text/x-python",
   "name": "python",
   "nbconvert_exporter": "python",
   "pygments_lexer": "ipython3",
   "version": "3.7.1"
  }
 },
 "nbformat": 4,
 "nbformat_minor": 2
}
